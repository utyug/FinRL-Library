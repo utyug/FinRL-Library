{
 "cells": [
  {
   "cell_type": "markdown",
   "metadata": {
    "colab_type": "text",
    "id": "view-in-github"
   },
   "source": [
    "<a href=\"https://colab.research.google.com/github/utyug/FinRL-Library/blob/utyug_dev/FinRL_single_stock_trading.ipynb\" target=\"_parent\"><img src=\"https://colab.research.google.com/assets/colab-badge.svg\" alt=\"Open In Colab\"/></a>"
   ]
  },
  {
   "cell_type": "markdown",
   "metadata": {
    "id": "Idd1jem0TnST"
   },
   "source": [
    "# Deep Reinforcement Learning for Stock Trading from Scratch: Single Stock Trading\n",
    "\n",
    "Tutorials to use OpenAI DRL to trade single stock in one Jupyter Notebook | Presented at NeurIPS 2020: Deep RL Workshop\n",
    "\n",
    "* This blog is based on our paper: FinRL: A Deep Reinforcement Learning Library for Automated Stock Trading in Quantitative Finance, presented at NeurIPS 2020: Deep RL Workshop.\n",
    "* Check out medium blog for detailed explanations: https://towardsdatascience.com/finrl-for-quantitative-finance-tutorial-for-single-stock-trading-37d6d7c30aac\n",
    "* Please report any issues to our Github: https://github.com/AI4Finance-LLC/FinRL-Library/issues\n",
    "* **Pytorch Version** \n",
    "\n",
    "\n"
   ]
  },
  {
   "cell_type": "markdown",
   "metadata": {
    "id": "5vglc_9N5-KZ"
   },
   "source": [
    "## Content"
   ]
  },
  {
   "cell_type": "markdown",
   "metadata": {
    "id": "ex2ord116AbP"
   },
   "source": [
    "* [1. Problem Definition](#0)\n",
    "* [2. Getting Started - Load Python packages](#1)\n",
    "    * [2.1. Install Packages](#1.1)    \n",
    "    * [2.2. Check Additional Packages](#1.2)\n",
    "    * [2.3. Import Packages](#1.3)\n",
    "    * [2.4. Create Folders](#1.4)\n",
    "* [3. Download Data](#2)\n",
    "* [4. Preprocess Data](#3)        \n",
    "    * [4.1. Technical Indicators](#3.1)\n",
    "    * [4.2. Perform Feature Engineering](#3.2)\n",
    "* [5.Build Environment](#4)  \n",
    "    * [5.1. Training & Trade Data Split](#4.1)\n",
    "    * [5.2. User-defined Environment](#4.2)   \n",
    "    * [5.3. Initialize Environment](#4.3)    \n",
    "* [6.Implement DRL Algorithms](#5)  \n",
    "* [7.Backtesting Performance](#6)  \n",
    "    * [7.1. BackTestStats](#6.1)\n",
    "    * [7.2. BackTestPlot](#6.2)   \n",
    "    * [7.3. Baseline Stats](#6.3)   \n",
    "    * [7.3. Compare to Stock Market Index](#6.4)             "
   ]
  },
  {
   "cell_type": "markdown",
   "metadata": {
    "id": "M1eLhMW36cLi"
   },
   "source": [
    "<a id='0'></a>\n",
    "# Part 1. Problem Definition"
   ]
  },
  {
   "cell_type": "markdown",
   "metadata": {
    "id": "3eimeRv06YoK"
   },
   "source": [
    "This problem is to design an automated trading solution for single stock trading. We model the stock trading process as a Markov Decision Process (MDP). We then formulate our trading goal as a maximization problem.\n",
    "\n",
    "The components of the reinforcement learning environment are:\n",
    "\n",
    "\n",
    "* Action: The action space describes the allowed actions that the agent interacts with the\n",
    "environment. Normally, a ∈ A includes three actions: a ∈ {−1, 0, 1}, where −1, 0, 1 represent\n",
    "selling, holding, and buying one stock. Also, an action can be carried upon multiple shares. We use\n",
    "an action space {−k, ..., −1, 0, 1, ..., k}, where k denotes the number of shares. For example, \"Buy\n",
    "10 shares of AAPL\" or \"Sell 10 shares of AAPL\" are 10 or −10, respectively\n",
    "\n",
    "* Reward function: r(s, a, s′) is the incentive mechanism for an agent to learn a better action. The change of the portfolio value when action a is taken at state s and arriving at new state s',  i.e., r(s, a, s′) = v′ − v, where v′ and v represent the portfolio\n",
    "values at state s′ and s, respectively\n",
    "\n",
    "* State: The state space describes the observations that the agent receives from the environment. Just as a human trader needs to analyze various information before executing a trade, so\n",
    "our trading agent observes many different features to better learn in an interactive environment.\n",
    "\n",
    "* Environment: single stock trading for AAPL\n",
    "\n",
    "\n",
    "The data of the single stock that we will be using for this case study is obtained from Yahoo Finance API. The data contains Open-High-Low-Close price and volume.\n",
    "\n",
    "We use Apple Inc. stock: AAPL as an example throughout this article, because it is one of the most popular and profitable stocks."
   ]
  },
  {
   "cell_type": "markdown",
   "metadata": {
    "id": "xD3f90UnTnSU"
   },
   "source": [
    "<a id='1'></a>\n",
    "# Part 2. Getting Started- Load Python Packages"
   ]
  },
  {
   "cell_type": "markdown",
   "metadata": {
    "id": "UBUcBKap-oII"
   },
   "source": [
    "<a id='1.1'></a>\n",
    "## 2.1. Install all the packages through FinRL library\n"
   ]
  },
  {
   "cell_type": "code",
   "execution_count": 1,
   "metadata": {
    "colab": {
     "base_uri": "https://localhost:8080/"
    },
    "id": "40axJBAP5mer",
    "outputId": "0e61993b-e962-4b70-a178-fe86404dd1ca"
   },
   "outputs": [],
   "source": [
    "# ## install finrl library\n",
    "# !pip install git+https://github.com/utyug/FinRL-Library.git@utyug_dev"
   ]
  },
  {
   "cell_type": "markdown",
   "metadata": {
    "id": "iXyHD6ir5sxk"
   },
   "source": [
    "\n",
    "<a id='1.2'></a>\n",
    "## 2.2. Check if the additional packages needed are present, if not install them. \n",
    "* Yahoo Finance API\n",
    "* pandas\n",
    "* numpy\n",
    "* matplotlib\n",
    "* stockstats\n",
    "* OpenAI gym\n",
    "* stable-baselines\n",
    "* tensorflow\n",
    "* pyfolio"
   ]
  },
  {
   "cell_type": "markdown",
   "metadata": {
    "id": "QG17M4JwTnSZ"
   },
   "source": [
    "<a id='1.3'></a>\n",
    "## 2.3. Import Packages"
   ]
  },
  {
   "cell_type": "code",
   "execution_count": 2,
   "metadata": {
    "colab": {
     "base_uri": "https://localhost:8080/"
    },
    "id": "0-0bsNMMTnSZ",
    "outputId": "e1c336ac-1280-4b16-b1d4-c2971d6667c2"
   },
   "outputs": [],
   "source": [
    "%load_ext autoreload\n",
    "%autoreload 2\n",
    "\n",
    "import os\n",
    "import pandas as pd\n",
    "import numpy as np\n",
    "import matplotlib\n",
    "import matplotlib.pyplot as plt\n",
    "%matplotlib inline\n",
    "import datetime\n",
    "\n",
    "from finrl.config import config\n",
    "from finrl.marketdata.yahoodownloader import YahooDownloader\n",
    "from finrl.preprocessing.preprocessors import FeatureEngineer\n",
    "from finrl.preprocessing.data import data_split\n",
    "from finrl.env.env_stocktrading import StockTradingEnv\n",
    "from finrl.model.models import DRLAgent\n",
    "from finrl.trade.backtest import BackTestStats, BaselineStats, BackTestPlot\n",
    "\n",
    "import sys\n",
    "sys.path.append(\"../FinRL-Library\")\n"
   ]
  },
  {
   "cell_type": "code",
   "execution_count": 3,
   "metadata": {
    "id": "uIPbzYs1TnSd"
   },
   "outputs": [],
   "source": [
    "#Disable the warnings\n",
    "import warnings\n",
    "warnings.filterwarnings('ignore')"
   ]
  },
  {
   "cell_type": "markdown",
   "metadata": {
    "id": "pos2IZAL54pp"
   },
   "source": [
    "<a id='1.4'></a>\n",
    "## 2.4. Create Folders"
   ]
  },
  {
   "cell_type": "code",
   "execution_count": 4,
   "metadata": {
    "id": "zp6lL6dZ53rX"
   },
   "outputs": [],
   "source": [
    "import os\n",
    "if not os.path.exists(\"./\" + config.DATA_SAVE_DIR):\n",
    "    os.makedirs(\"./\" + config.DATA_SAVE_DIR)\n",
    "if not os.path.exists(\"./\" + config.TRAINED_MODEL_DIR):\n",
    "    os.makedirs(\"./\" + config.TRAINED_MODEL_DIR)\n",
    "if not os.path.exists(\"./\" + config.TENSORBOARD_LOG_DIR):\n",
    "    os.makedirs(\"./\" + config.TENSORBOARD_LOG_DIR)\n",
    "if not os.path.exists(\"./\" + config.RESULTS_DIR):\n",
    "    os.makedirs(\"./\" + config.RESULTS_DIR)"
   ]
  },
  {
   "cell_type": "markdown",
   "metadata": {
    "id": "SBPM0sVvTnSg"
   },
   "source": [
    "<a id='2'></a>\n",
    "# Part 3. Download Data\n",
    "Yahoo Finance is a website that provides stock data, financial news, financial reports, etc. All the data provided by Yahoo Finance is free.\n",
    "* FinRL uses a class **YahooDownloader** to fetch data from Yahoo Finance API\n",
    "* Call Limit: Using the Public API (without authentication), you are limited to 2,000 requests per hour per IP (or up to a total of 48,000 requests a day).\n"
   ]
  },
  {
   "cell_type": "markdown",
   "metadata": {
    "id": "GCGVmtGzjORf"
   },
   "source": [
    "\n",
    "\n",
    "-----\n",
    "class YahooDownloader:\n",
    "    Provides methods for retrieving daily stock data from\n",
    "    Yahoo Finance API\n",
    "\n",
    "    Attributes\n",
    "    ----------\n",
    "        start_date : str\n",
    "            start date of the data (modified from config.py)\n",
    "        end_date : str\n",
    "            end date of the data (modified from config.py)\n",
    "        ticker_list : list\n",
    "            a list of stock tickers (modified from config.py)\n",
    "\n",
    "    Methods\n",
    "    -------\n",
    "    fetch_data()\n",
    "        Fetches data from yahoo API\n"
   ]
  },
  {
   "cell_type": "code",
   "execution_count": 5,
   "metadata": {
    "colab": {
     "base_uri": "https://localhost:8080/",
     "height": 35
    },
    "id": "FBEiH5gOgMOx",
    "outputId": "de388576-0110-46f4-9257-dfe327b3eac5"
   },
   "outputs": [
    {
     "output_type": "execute_result",
     "data": {
      "text/plain": [
       "'2009-01-01'"
      ]
     },
     "metadata": {},
     "execution_count": 5
    }
   ],
   "source": [
    "# from config.py start_date is a string\n",
    "config.START_DATE"
   ]
  },
  {
   "cell_type": "code",
   "execution_count": 6,
   "metadata": {
    "colab": {
     "base_uri": "https://localhost:8080/",
     "height": 35
    },
    "id": "sWLMNQ8CgMRx",
    "outputId": "f1864c8b-2b5c-4867-9122-ccf83ebc2902"
   },
   "outputs": [
    {
     "output_type": "execute_result",
     "data": {
      "text/plain": [
       "'2020-12-01'"
      ]
     },
     "metadata": {},
     "execution_count": 6
    }
   ],
   "source": [
    "# from config.py end_date is a string\n",
    "config.END_DATE"
   ]
  },
  {
   "cell_type": "markdown",
   "metadata": {
    "id": "AmFpuBEZhkF3"
   },
   "source": [
    "ticker_list is a list of stock tickers, in a single stock trading case, the list contains only 1 ticker"
   ]
  },
  {
   "cell_type": "code",
   "execution_count": 7,
   "metadata": {},
   "outputs": [],
   "source": [
    "ticker = 'MSFT'"
   ]
  },
  {
   "cell_type": "code",
   "execution_count": null,
   "metadata": {},
   "outputs": [],
   "source": []
  },
  {
   "cell_type": "code",
   "execution_count": 72,
   "metadata": {},
   "outputs": [
    {
     "output_type": "stream",
     "name": "stdout",
     "text": [
      "[*********************100%***********************]  1 of 1 completed\n",
      "[*********************100%***********************]  1 of 1 completed\n",
      "Shape of DataFrame:  (6042, 7)\n"
     ]
    }
   ],
   "source": [
    "data_df = YahooDownloader(start_date = '2009-01-01',\n",
    "                          end_date = '2021-01-01',\n",
    "                          ticker_list = ['MSFT','SPY']).fetch_data()"
   ]
  },
  {
   "cell_type": "code",
   "execution_count": null,
   "metadata": {},
   "outputs": [],
   "source": []
  },
  {
   "cell_type": "code",
   "execution_count": 36,
   "metadata": {
    "colab": {
     "base_uri": "https://localhost:8080/"
    },
    "id": "JtIFikNyTnSg",
    "outputId": "4c6a860f-6944-4728-984d-d0dc8d8f2c78"
   },
   "outputs": [
    {
     "output_type": "stream",
     "name": "stdout",
     "text": [
      "[*********************100%***********************]  1 of 1 completed\n",
      "Shape of DataFrame:  (3021, 7)\n"
     ]
    }
   ],
   "source": [
    "# Download and save the data in a pandas DataFrame:\n",
    "data_df = YahooDownloader(start_date = '2009-01-01',\n",
    "                          end_date = '2021-01-01',\n",
    "                          ticker_list = ['MSFT']).fetch_data()"
   ]
  },
  {
   "cell_type": "code",
   "execution_count": 37,
   "metadata": {
    "colab": {
     "base_uri": "https://localhost:8080/"
    },
    "id": "E8ZKQmw6TnSl",
    "outputId": "954cbef4-f75b-4d4b-80f2-195eb13954ef"
   },
   "outputs": [
    {
     "output_type": "execute_result",
     "data": {
      "text/plain": [
       "(3021, 7)"
      ]
     },
     "metadata": {},
     "execution_count": 37
    }
   ],
   "source": [
    "data_df.shape"
   ]
  },
  {
   "cell_type": "code",
   "execution_count": 39,
   "metadata": {
    "colab": {
     "base_uri": "https://localhost:8080/",
     "height": 195
    },
    "id": "Vi6D_ED6TnSs",
    "outputId": "2313cd51-596f-4a58-922b-5ec837bbcbda"
   },
   "outputs": [
    {
     "output_type": "execute_result",
     "data": {
      "text/plain": [
       "            date        open        high         low       close    volume  \\\n",
       "0     2009-01-02   19.530001   20.400000   19.370001   15.471161  50084000   \n",
       "1     2009-01-05   20.200001   20.670000   20.059999   15.615757  61475200   \n",
       "2     2009-01-06   20.750000   21.000000   20.610001   15.798391  58083400   \n",
       "3     2009-01-07   20.190001   20.290001   19.480000   14.847140  72709900   \n",
       "4     2009-01-08   19.629999   20.190001   19.549999   15.311348  70255400   \n",
       "...          ...         ...         ...         ...         ...       ...   \n",
       "3016  2020-12-24  221.419998  223.610001  221.199997  222.750000  10550600   \n",
       "3017  2020-12-28  224.449997  226.029999  223.020004  224.960007  17933500   \n",
       "3018  2020-12-29  226.309998  227.179993  223.580002  224.149994  17403200   \n",
       "3019  2020-12-30  225.229996  225.630005  221.470001  221.679993  20272300   \n",
       "3020  2020-12-31  221.699997  223.000000  219.679993  222.419998  20926900   \n",
       "\n",
       "       tic  \n",
       "0     MSFT  \n",
       "1     MSFT  \n",
       "2     MSFT  \n",
       "3     MSFT  \n",
       "4     MSFT  \n",
       "...    ...  \n",
       "3016  MSFT  \n",
       "3017  MSFT  \n",
       "3018  MSFT  \n",
       "3019  MSFT  \n",
       "3020  MSFT  \n",
       "\n",
       "[3021 rows x 7 columns]"
      ],
      "text/html": "<div>\n<style scoped>\n    .dataframe tbody tr th:only-of-type {\n        vertical-align: middle;\n    }\n\n    .dataframe tbody tr th {\n        vertical-align: top;\n    }\n\n    .dataframe thead th {\n        text-align: right;\n    }\n</style>\n<table border=\"1\" class=\"dataframe\">\n  <thead>\n    <tr style=\"text-align: right;\">\n      <th></th>\n      <th>date</th>\n      <th>open</th>\n      <th>high</th>\n      <th>low</th>\n      <th>close</th>\n      <th>volume</th>\n      <th>tic</th>\n    </tr>\n  </thead>\n  <tbody>\n    <tr>\n      <th>0</th>\n      <td>2009-01-02</td>\n      <td>19.530001</td>\n      <td>20.400000</td>\n      <td>19.370001</td>\n      <td>15.471161</td>\n      <td>50084000</td>\n      <td>MSFT</td>\n    </tr>\n    <tr>\n      <th>1</th>\n      <td>2009-01-05</td>\n      <td>20.200001</td>\n      <td>20.670000</td>\n      <td>20.059999</td>\n      <td>15.615757</td>\n      <td>61475200</td>\n      <td>MSFT</td>\n    </tr>\n    <tr>\n      <th>2</th>\n      <td>2009-01-06</td>\n      <td>20.750000</td>\n      <td>21.000000</td>\n      <td>20.610001</td>\n      <td>15.798391</td>\n      <td>58083400</td>\n      <td>MSFT</td>\n    </tr>\n    <tr>\n      <th>3</th>\n      <td>2009-01-07</td>\n      <td>20.190001</td>\n      <td>20.290001</td>\n      <td>19.480000</td>\n      <td>14.847140</td>\n      <td>72709900</td>\n      <td>MSFT</td>\n    </tr>\n    <tr>\n      <th>4</th>\n      <td>2009-01-08</td>\n      <td>19.629999</td>\n      <td>20.190001</td>\n      <td>19.549999</td>\n      <td>15.311348</td>\n      <td>70255400</td>\n      <td>MSFT</td>\n    </tr>\n    <tr>\n      <th>...</th>\n      <td>...</td>\n      <td>...</td>\n      <td>...</td>\n      <td>...</td>\n      <td>...</td>\n      <td>...</td>\n      <td>...</td>\n    </tr>\n    <tr>\n      <th>3016</th>\n      <td>2020-12-24</td>\n      <td>221.419998</td>\n      <td>223.610001</td>\n      <td>221.199997</td>\n      <td>222.750000</td>\n      <td>10550600</td>\n      <td>MSFT</td>\n    </tr>\n    <tr>\n      <th>3017</th>\n      <td>2020-12-28</td>\n      <td>224.449997</td>\n      <td>226.029999</td>\n      <td>223.020004</td>\n      <td>224.960007</td>\n      <td>17933500</td>\n      <td>MSFT</td>\n    </tr>\n    <tr>\n      <th>3018</th>\n      <td>2020-12-29</td>\n      <td>226.309998</td>\n      <td>227.179993</td>\n      <td>223.580002</td>\n      <td>224.149994</td>\n      <td>17403200</td>\n      <td>MSFT</td>\n    </tr>\n    <tr>\n      <th>3019</th>\n      <td>2020-12-30</td>\n      <td>225.229996</td>\n      <td>225.630005</td>\n      <td>221.470001</td>\n      <td>221.679993</td>\n      <td>20272300</td>\n      <td>MSFT</td>\n    </tr>\n    <tr>\n      <th>3020</th>\n      <td>2020-12-31</td>\n      <td>221.699997</td>\n      <td>223.000000</td>\n      <td>219.679993</td>\n      <td>222.419998</td>\n      <td>20926900</td>\n      <td>MSFT</td>\n    </tr>\n  </tbody>\n</table>\n<p>3021 rows × 7 columns</p>\n</div>"
     },
     "metadata": {},
     "execution_count": 39
    }
   ],
   "source": [
    "data_df"
   ]
  },
  {
   "cell_type": "markdown",
   "metadata": {
    "id": "oWiqgpLzTnS3"
   },
   "source": [
    "<a id='3'></a>\n",
    "# Part 4. Preprocess Data\n",
    "Data preprocessing is a crucial step for training a high quality machine learning model. We need to check for missing data and do feature engineering in order to convert the data into a model-ready state.\n",
    "* FinRL uses a class **FeatureEngineer** to preprocess the data\n",
    "* Add **technical indicators**. In practical trading, various information needs to be taken into account, for example the historical stock prices, current holding shares, technical indicators, etc.\n"
   ]
  },
  {
   "cell_type": "markdown",
   "metadata": {
    "id": "rJ9zmxpRks41"
   },
   "source": [
    "class FeatureEngineer:\n",
    "Provides methods for preprocessing the stock price data\n",
    "\n",
    "    Attributes\n",
    "    ----------\n",
    "        df: DataFrame\n",
    "            data downloaded from Yahoo API\n",
    "        feature_number : int\n",
    "            number of features we used\n",
    "        use_technical_indicator : boolean\n",
    "            we technical indicator or not\n",
    "        use_turbulence : boolean\n",
    "            use turbulence index or not\n",
    "\n",
    "    Methods\n",
    "    -------\n",
    "    preprocess_data()\n",
    "        main method to do the feature engineering"
   ]
  },
  {
   "cell_type": "markdown",
   "metadata": {
    "id": "tHu7i-T_wRPc"
   },
   "source": [
    "<a id='3.1'></a>\n",
    "\n",
    "## 4.1 Technical Indicators\n",
    "* FinRL uses stockstats to calcualte technical indicators such as **Moving Average Convergence Divergence (MACD)**, **Relative Strength Index (RSI)**, **Average Directional Index (ADX)**, **Commodity Channel Index (CCI)** and other various indicators and stats.\n",
    "* **stockstats**: supplies a wrapper StockDataFrame based on the **pandas.DataFrame** with inline stock statistics/indicators support.\n",
    "\n"
   ]
  },
  {
   "cell_type": "code",
   "execution_count": 40,
   "metadata": {
    "colab": {
     "base_uri": "https://localhost:8080/"
    },
    "id": "2RHwY1dHk09N",
    "outputId": "47be0df8-9e74-473e-f78e-9f267bcce3df"
   },
   "outputs": [
    {
     "output_type": "stream",
     "name": "stdout",
     "text": [
      "['macd', 'rsi_30', 'cci_30', 'dx_30']\n"
     ]
    }
   ],
   "source": [
    "## we store the stockstats technical indicator column names in config.py\n",
    "tech_indicator_list=config.TECHNICAL_INDICATORS_LIST\n",
    "print(tech_indicator_list)"
   ]
  },
  {
   "cell_type": "code",
   "execution_count": 41,
   "metadata": {
    "colab": {
     "base_uri": "https://localhost:8080/"
    },
    "id": "rImfGAfCkR8j",
    "outputId": "5b55c2c7-3217-49ad-95b7-d9af0ad91d7a"
   },
   "outputs": [
    {
     "output_type": "stream",
     "name": "stdout",
     "text": [
      "['macd', 'rsi_30', 'cci_30', 'dx_30', 'kdjk', 'open_2_sma', 'boll', 'close_10.0_le_5_c', 'wr_10', 'dma', 'trix']\n"
     ]
    }
   ],
   "source": [
    "## user can add more technical indicators\n",
    "## check https://github.com/jealous/stockstats for different names\n",
    "tech_indicator_list=tech_indicator_list+['kdjk','open_2_sma','boll','close_10.0_le_5_c','wr_10','dma','trix']\n",
    "print(tech_indicator_list)"
   ]
  },
  {
   "cell_type": "markdown",
   "metadata": {
    "id": "etvRo2rSwZPg"
   },
   "source": [
    "<a id='3.2'></a>\n",
    "## 4.2 Perform Feature Engineering"
   ]
  },
  {
   "cell_type": "code",
   "execution_count": 42,
   "metadata": {
    "colab": {
     "base_uri": "https://localhost:8080/"
    },
    "id": "SAOsx0m-9u2k",
    "outputId": "6238a0f8-e0bb-4468-ec75-ab3381ea09a9"
   },
   "outputs": [
    {
     "output_type": "stream",
     "name": "stdout",
     "text": [
      "Successfully added technical indicators\n"
     ]
    }
   ],
   "source": [
    "fe = FeatureEngineer(\n",
    "                    use_technical_indicator=True,\n",
    "                    tech_indicator_list = tech_indicator_list,\n",
    "                    use_turbulence=False,\n",
    "                    user_defined_feature = False)\n",
    "\n",
    "data_df = fe.preprocess_data(data_df)"
   ]
  },
  {
   "cell_type": "code",
   "execution_count": 43,
   "metadata": {
    "colab": {
     "base_uri": "https://localhost:8080/",
     "height": 298
    },
    "id": "wytX_qwWMHP5",
    "outputId": "8113269b-39a0-462b-80b2-b8664eb27a66"
   },
   "outputs": [
    {
     "output_type": "execute_result",
     "data": {
      "text/plain": [
       "         date       open       high        low      close    volume   tic  \\\n",
       "0  2009-01-02  19.530001  20.400000  19.370001  15.471161  50084000  MSFT   \n",
       "1  2009-01-05  20.200001  20.670000  20.059999  15.615757  61475200  MSFT   \n",
       "2  2009-01-06  20.750000  21.000000  20.610001  15.798391  58083400  MSFT   \n",
       "3  2009-01-07  20.190001  20.290001  19.480000  14.847140  72709900  MSFT   \n",
       "4  2009-01-08  19.629999  20.190001  19.549999  15.311348  70255400  MSFT   \n",
       "\n",
       "       macd      rsi_30     cci_30       dx_30        kdjk  open_2_sma  \\\n",
       "0  0.000000  100.000000  66.666667  100.000000  -92.842866   19.530001   \n",
       "1  0.003244  100.000000  66.666667  100.000000 -158.157964   19.865001   \n",
       "2  0.009797  100.000000  98.717543  100.000000 -178.477729   20.475000   \n",
       "3 -0.021807   24.678119 -88.023449   34.925807 -211.477236   20.470000   \n",
       "4 -0.020049   45.428548 -49.623005   34.925807 -223.983903   19.910000   \n",
       "\n",
       "        boll  close_10.0_le_5_c       wr_10  dma      trix  \n",
       "0  15.471161                0.0  478.528599  0.0  0.148535  \n",
       "1  15.543459                0.0  388.788158  0.0  0.148535  \n",
       "2  15.628436                0.0  319.117260  0.0  0.179790  \n",
       "3  15.433112                0.0  377.476249  0.0 -0.021436  \n",
       "4  15.408759                0.0  348.997237  0.0 -0.079091  "
      ],
      "text/html": "<div>\n<style scoped>\n    .dataframe tbody tr th:only-of-type {\n        vertical-align: middle;\n    }\n\n    .dataframe tbody tr th {\n        vertical-align: top;\n    }\n\n    .dataframe thead th {\n        text-align: right;\n    }\n</style>\n<table border=\"1\" class=\"dataframe\">\n  <thead>\n    <tr style=\"text-align: right;\">\n      <th></th>\n      <th>date</th>\n      <th>open</th>\n      <th>high</th>\n      <th>low</th>\n      <th>close</th>\n      <th>volume</th>\n      <th>tic</th>\n      <th>macd</th>\n      <th>rsi_30</th>\n      <th>cci_30</th>\n      <th>dx_30</th>\n      <th>kdjk</th>\n      <th>open_2_sma</th>\n      <th>boll</th>\n      <th>close_10.0_le_5_c</th>\n      <th>wr_10</th>\n      <th>dma</th>\n      <th>trix</th>\n    </tr>\n  </thead>\n  <tbody>\n    <tr>\n      <th>0</th>\n      <td>2009-01-02</td>\n      <td>19.530001</td>\n      <td>20.400000</td>\n      <td>19.370001</td>\n      <td>15.471161</td>\n      <td>50084000</td>\n      <td>MSFT</td>\n      <td>0.000000</td>\n      <td>100.000000</td>\n      <td>66.666667</td>\n      <td>100.000000</td>\n      <td>-92.842866</td>\n      <td>19.530001</td>\n      <td>15.471161</td>\n      <td>0.0</td>\n      <td>478.528599</td>\n      <td>0.0</td>\n      <td>0.148535</td>\n    </tr>\n    <tr>\n      <th>1</th>\n      <td>2009-01-05</td>\n      <td>20.200001</td>\n      <td>20.670000</td>\n      <td>20.059999</td>\n      <td>15.615757</td>\n      <td>61475200</td>\n      <td>MSFT</td>\n      <td>0.003244</td>\n      <td>100.000000</td>\n      <td>66.666667</td>\n      <td>100.000000</td>\n      <td>-158.157964</td>\n      <td>19.865001</td>\n      <td>15.543459</td>\n      <td>0.0</td>\n      <td>388.788158</td>\n      <td>0.0</td>\n      <td>0.148535</td>\n    </tr>\n    <tr>\n      <th>2</th>\n      <td>2009-01-06</td>\n      <td>20.750000</td>\n      <td>21.000000</td>\n      <td>20.610001</td>\n      <td>15.798391</td>\n      <td>58083400</td>\n      <td>MSFT</td>\n      <td>0.009797</td>\n      <td>100.000000</td>\n      <td>98.717543</td>\n      <td>100.000000</td>\n      <td>-178.477729</td>\n      <td>20.475000</td>\n      <td>15.628436</td>\n      <td>0.0</td>\n      <td>319.117260</td>\n      <td>0.0</td>\n      <td>0.179790</td>\n    </tr>\n    <tr>\n      <th>3</th>\n      <td>2009-01-07</td>\n      <td>20.190001</td>\n      <td>20.290001</td>\n      <td>19.480000</td>\n      <td>14.847140</td>\n      <td>72709900</td>\n      <td>MSFT</td>\n      <td>-0.021807</td>\n      <td>24.678119</td>\n      <td>-88.023449</td>\n      <td>34.925807</td>\n      <td>-211.477236</td>\n      <td>20.470000</td>\n      <td>15.433112</td>\n      <td>0.0</td>\n      <td>377.476249</td>\n      <td>0.0</td>\n      <td>-0.021436</td>\n    </tr>\n    <tr>\n      <th>4</th>\n      <td>2009-01-08</td>\n      <td>19.629999</td>\n      <td>20.190001</td>\n      <td>19.549999</td>\n      <td>15.311348</td>\n      <td>70255400</td>\n      <td>MSFT</td>\n      <td>-0.020049</td>\n      <td>45.428548</td>\n      <td>-49.623005</td>\n      <td>34.925807</td>\n      <td>-223.983903</td>\n      <td>19.910000</td>\n      <td>15.408759</td>\n      <td>0.0</td>\n      <td>348.997237</td>\n      <td>0.0</td>\n      <td>-0.079091</td>\n    </tr>\n  </tbody>\n</table>\n</div>"
     },
     "metadata": {},
     "execution_count": 43
    }
   ],
   "source": [
    "data_df.head()"
   ]
  },
  {
   "cell_type": "markdown",
   "metadata": {
    "id": "bwLhXo1cTnTQ"
   },
   "source": [
    "<a id='4'></a>\n",
    "# Part 5. Build Environment\n",
    "Considering the stochastic and interactive nature of the automated stock trading tasks, a financial task is modeled as a **Markov Decision Process (MDP)** problem. The training process involves observing stock price change, taking an action and reward's calculation to have the agent adjusting its strategy accordingly. By interacting with the environment, the trading agent will derive a trading strategy with the maximized rewards as time proceeds.\n",
    "\n",
    "Our trading environments, based on OpenAI Gym framework, simulate live stock markets with real market data according to the principle of time-driven simulation.\n",
    "\n",
    "The action space describes the allowed actions that the agent interacts with the environment. Normally, action a includes three actions: {-1, 0, 1}, where -1, 0, 1 represent selling, holding, and buying one share. Also, an action can be carried upon multiple shares. We use an action space {-k,…,-1, 0, 1, …, k}, where k denotes the number of shares to buy and -k denotes the number of shares to sell. For example, \"Buy 10 shares of AAPL\" or \"Sell 10 shares of AAPL\" are 10 or -10, respectively. The continuous action space needs to be normalized to [-1, 1], since the policy is defined on a Gaussian distribution, which needs to be normalized and symmetric."
   ]
  },
  {
   "cell_type": "markdown",
   "metadata": {
    "id": "1D1FlBdOL4b3"
   },
   "source": [
    "<a id='4.1'></a>\n",
    "## 5.1 Training & Trade data split\n",
    "* Training: 2009-01-01 to 2018-12-31\n",
    "* Trade: 2019-01-01 to 2020-09-30"
   ]
  },
  {
   "cell_type": "code",
   "execution_count": 74,
   "metadata": {
    "id": "xNOdqfTKL6K-"
   },
   "outputs": [],
   "source": [
    "#train = data_split(data_df, start = config.START_DATE, end = config.START_TRADE_DATE)\n",
    "#trade = data_split(data_df, start = config.START_TRADE_DATE, end = config.END_DATE)\n",
    "train = data_split(data_df, start = '2009-01-01', end = '2019-01-01')\n",
    "trade = data_split(data_df, start = '2019-01-01', end = '2021-01-01')\n"
   ]
  },
  {
   "cell_type": "code",
   "execution_count": 75,
   "metadata": {},
   "outputs": [
    {
     "output_type": "execute_result",
     "data": {
      "text/plain": [
       "            date        open        high         low       close     volume  \\\n",
       "0     2009-01-02   19.530001   20.400000   19.370001   15.471161   50084000   \n",
       "0     2009-01-02   90.440002   93.440002   89.849998   73.024796  227566300   \n",
       "1     2009-01-05   20.200001   20.670000   20.059999   15.615757   61475200   \n",
       "1     2009-01-05   92.629997   93.660004   91.889999   72.938377  240349700   \n",
       "2     2009-01-06   20.750000   21.000000   20.610001   15.798391   58083400   \n",
       "...          ...         ...         ...         ...         ...        ...   \n",
       "2513  2018-12-27  242.570007  248.289993  238.960007  238.996674  186267300   \n",
       "2514  2018-12-28  102.089996  102.410004   99.519997   97.890251   38196300   \n",
       "2514  2018-12-28  249.580002  251.399994  246.449997  238.688370  153100200   \n",
       "2515  2018-12-31  101.290001  102.400002  100.440002   99.040863   33173800   \n",
       "2515  2018-12-31  249.559998  250.190002  247.470001  240.779007  144299400   \n",
       "\n",
       "       tic  \n",
       "0     MSFT  \n",
       "0      SPY  \n",
       "1     MSFT  \n",
       "1      SPY  \n",
       "2     MSFT  \n",
       "...    ...  \n",
       "2513   SPY  \n",
       "2514  MSFT  \n",
       "2514   SPY  \n",
       "2515  MSFT  \n",
       "2515   SPY  \n",
       "\n",
       "[5032 rows x 7 columns]"
      ],
      "text/html": "<div>\n<style scoped>\n    .dataframe tbody tr th:only-of-type {\n        vertical-align: middle;\n    }\n\n    .dataframe tbody tr th {\n        vertical-align: top;\n    }\n\n    .dataframe thead th {\n        text-align: right;\n    }\n</style>\n<table border=\"1\" class=\"dataframe\">\n  <thead>\n    <tr style=\"text-align: right;\">\n      <th></th>\n      <th>date</th>\n      <th>open</th>\n      <th>high</th>\n      <th>low</th>\n      <th>close</th>\n      <th>volume</th>\n      <th>tic</th>\n    </tr>\n  </thead>\n  <tbody>\n    <tr>\n      <th>0</th>\n      <td>2009-01-02</td>\n      <td>19.530001</td>\n      <td>20.400000</td>\n      <td>19.370001</td>\n      <td>15.471161</td>\n      <td>50084000</td>\n      <td>MSFT</td>\n    </tr>\n    <tr>\n      <th>0</th>\n      <td>2009-01-02</td>\n      <td>90.440002</td>\n      <td>93.440002</td>\n      <td>89.849998</td>\n      <td>73.024796</td>\n      <td>227566300</td>\n      <td>SPY</td>\n    </tr>\n    <tr>\n      <th>1</th>\n      <td>2009-01-05</td>\n      <td>20.200001</td>\n      <td>20.670000</td>\n      <td>20.059999</td>\n      <td>15.615757</td>\n      <td>61475200</td>\n      <td>MSFT</td>\n    </tr>\n    <tr>\n      <th>1</th>\n      <td>2009-01-05</td>\n      <td>92.629997</td>\n      <td>93.660004</td>\n      <td>91.889999</td>\n      <td>72.938377</td>\n      <td>240349700</td>\n      <td>SPY</td>\n    </tr>\n    <tr>\n      <th>2</th>\n      <td>2009-01-06</td>\n      <td>20.750000</td>\n      <td>21.000000</td>\n      <td>20.610001</td>\n      <td>15.798391</td>\n      <td>58083400</td>\n      <td>MSFT</td>\n    </tr>\n    <tr>\n      <th>...</th>\n      <td>...</td>\n      <td>...</td>\n      <td>...</td>\n      <td>...</td>\n      <td>...</td>\n      <td>...</td>\n      <td>...</td>\n    </tr>\n    <tr>\n      <th>2513</th>\n      <td>2018-12-27</td>\n      <td>242.570007</td>\n      <td>248.289993</td>\n      <td>238.960007</td>\n      <td>238.996674</td>\n      <td>186267300</td>\n      <td>SPY</td>\n    </tr>\n    <tr>\n      <th>2514</th>\n      <td>2018-12-28</td>\n      <td>102.089996</td>\n      <td>102.410004</td>\n      <td>99.519997</td>\n      <td>97.890251</td>\n      <td>38196300</td>\n      <td>MSFT</td>\n    </tr>\n    <tr>\n      <th>2514</th>\n      <td>2018-12-28</td>\n      <td>249.580002</td>\n      <td>251.399994</td>\n      <td>246.449997</td>\n      <td>238.688370</td>\n      <td>153100200</td>\n      <td>SPY</td>\n    </tr>\n    <tr>\n      <th>2515</th>\n      <td>2018-12-31</td>\n      <td>101.290001</td>\n      <td>102.400002</td>\n      <td>100.440002</td>\n      <td>99.040863</td>\n      <td>33173800</td>\n      <td>MSFT</td>\n    </tr>\n    <tr>\n      <th>2515</th>\n      <td>2018-12-31</td>\n      <td>249.559998</td>\n      <td>250.190002</td>\n      <td>247.470001</td>\n      <td>240.779007</td>\n      <td>144299400</td>\n      <td>SPY</td>\n    </tr>\n  </tbody>\n</table>\n<p>5032 rows × 7 columns</p>\n</div>"
     },
     "metadata": {},
     "execution_count": 75
    }
   ],
   "source": [
    "train"
   ]
  },
  {
   "cell_type": "code",
   "execution_count": null,
   "metadata": {},
   "outputs": [],
   "source": []
  },
  {
   "cell_type": "code",
   "execution_count": 45,
   "metadata": {
    "id": "KUxOshVouLXt"
   },
   "outputs": [],
   "source": [
    "## data normalization, this part is optional, have little impact\n",
    "#feaures_list = list(train.columns)\n",
    "#feaures_list.remove('date')\n",
    "#feaures_list.remove('tic')\n",
    "#feaures_list.remove('close')\n",
    "#print(feaures_list)\n",
    "#from sklearn import preprocessing\n",
    "#data_normaliser = preprocessing.StandardScaler()\n",
    "#train[feaures_list] = data_normaliser.fit_transform(train[feaures_list])\n",
    "#trade[feaures_list] = data_normaliser.transform(trade[feaures_list])"
   ]
  },
  {
   "cell_type": "markdown",
   "metadata": {
    "id": "KMHyaSBBDGbe"
   },
   "source": [
    "<a id='4.2'></a>\n",
    "## 5.2 User-defined Environment: a simulation environment class "
   ]
  },
  {
   "cell_type": "markdown",
   "metadata": {
    "id": "90V3S7cpDcQs"
   },
   "source": [
    "<a id='4.3'></a>\n",
    "## 5.3 Initialize Environment\n",
    "* **stock dimension**: the number of unique stock tickers we use\n",
    "* **hmax**: the maximum amount of shares to buy or sell\n",
    "* **initial amount**: the amount of money we use to trade in the begining\n",
    "* **transaction cost percentage**: a per share rate for every share trade\n",
    "* **tech_indicator_list**: a list of technical indicator names (modified from config.py)"
   ]
  },
  {
   "cell_type": "code",
   "execution_count": 80,
   "metadata": {
    "colab": {
     "base_uri": "https://localhost:8080/"
    },
    "id": "OiH0xO96mGcL",
    "outputId": "490190d9-80dd-4ba0-c15f-2143cdd8341f"
   },
   "outputs": [
    {
     "output_type": "execute_result",
     "data": {
      "text/plain": [
       "['macd',\n",
       " 'rsi_30',\n",
       " 'cci_30',\n",
       " 'dx_30',\n",
       " 'kdjk',\n",
       " 'open_2_sma',\n",
       " 'boll',\n",
       " 'close_10.0_le_5_c',\n",
       " 'wr_10',\n",
       " 'dma',\n",
       " 'trix']"
      ]
     },
     "metadata": {},
     "execution_count": 80
    }
   ],
   "source": [
    "## we store the stockstats technical indicator column names in config.py\n",
    "## check https://github.com/jealous/stockstats for different names\n",
    "tech_indicator_list"
   ]
  },
  {
   "cell_type": "code",
   "execution_count": 81,
   "metadata": {
    "colab": {
     "base_uri": "https://localhost:8080/"
    },
    "id": "GnWOKS7DyGM7",
    "outputId": "09dff84b-19e1-4c4a-c40f-d5280195eaf4"
   },
   "outputs": [
    {
     "output_type": "execute_result",
     "data": {
      "text/plain": [
       "2"
      ]
     },
     "metadata": {},
     "execution_count": 81
    }
   ],
   "source": [
    "# the stock dimension is 1, because we only use the price data of AAPL.\n",
    "len(train.tic.unique())"
   ]
  },
  {
   "cell_type": "code",
   "execution_count": 89,
   "metadata": {},
   "outputs": [],
   "source": [
    "# config.TECHNICAL_INDICATORS_LIST"
   ]
  },
  {
   "cell_type": "code",
   "execution_count": 91,
   "metadata": {
    "colab": {
     "base_uri": "https://localhost:8080/"
    },
    "id": "ipJcnLvQGAba",
    "outputId": "dc32ebc6-2191-4541-99d2-7e9861da5df6"
   },
   "outputs": [
    {
     "output_type": "stream",
     "name": "stdout",
     "text": [
      "Stock Dimension: 2, State Space: 13\n"
     ]
    }
   ],
   "source": [
    "stock_dimension = len(train.tic.unique())\n",
    "state_space = 1 + 2*stock_dimension + len(config.TECHNICAL_INDICATORS_LIST)*stock_dimension\n",
    "print(f\"Stock Dimension: {stock_dimension}, State Space: {state_space}\")\n"
   ]
  },
  {
   "cell_type": "code",
   "execution_count": 92,
   "metadata": {
    "id": "JY5wTwYjGTrg"
   },
   "outputs": [
    {
     "output_type": "error",
     "ename": "KeyError",
     "evalue": "'macd'",
     "traceback": [
      "\u001b[0;31m---------------------------------------------------------------------------\u001b[0m",
      "\u001b[0;31mKeyError\u001b[0m                                  Traceback (most recent call last)",
      "\u001b[0;32m~/anaconda3/lib/python3.8/site-packages/pandas/core/indexes/base.py\u001b[0m in \u001b[0;36mget_loc\u001b[0;34m(self, key, method, tolerance)\u001b[0m\n\u001b[1;32m   2894\u001b[0m             \u001b[0;32mtry\u001b[0m\u001b[0;34m:\u001b[0m\u001b[0;34m\u001b[0m\u001b[0;34m\u001b[0m\u001b[0m\n\u001b[0;32m-> 2895\u001b[0;31m                 \u001b[0;32mreturn\u001b[0m \u001b[0mself\u001b[0m\u001b[0;34m.\u001b[0m\u001b[0m_engine\u001b[0m\u001b[0;34m.\u001b[0m\u001b[0mget_loc\u001b[0m\u001b[0;34m(\u001b[0m\u001b[0mcasted_key\u001b[0m\u001b[0;34m)\u001b[0m\u001b[0;34m\u001b[0m\u001b[0;34m\u001b[0m\u001b[0m\n\u001b[0m\u001b[1;32m   2896\u001b[0m             \u001b[0;32mexcept\u001b[0m \u001b[0mKeyError\u001b[0m \u001b[0;32mas\u001b[0m \u001b[0merr\u001b[0m\u001b[0;34m:\u001b[0m\u001b[0;34m\u001b[0m\u001b[0;34m\u001b[0m\u001b[0m\n",
      "\u001b[0;32mpandas/_libs/index.pyx\u001b[0m in \u001b[0;36mpandas._libs.index.IndexEngine.get_loc\u001b[0;34m()\u001b[0m\n",
      "\u001b[0;32mpandas/_libs/index.pyx\u001b[0m in \u001b[0;36mpandas._libs.index.IndexEngine.get_loc\u001b[0;34m()\u001b[0m\n",
      "\u001b[0;32mpandas/_libs/hashtable_class_helper.pxi\u001b[0m in \u001b[0;36mpandas._libs.hashtable.PyObjectHashTable.get_item\u001b[0;34m()\u001b[0m\n",
      "\u001b[0;32mpandas/_libs/hashtable_class_helper.pxi\u001b[0m in \u001b[0;36mpandas._libs.hashtable.PyObjectHashTable.get_item\u001b[0;34m()\u001b[0m\n",
      "\u001b[0;31mKeyError\u001b[0m: 'macd'",
      "\nThe above exception was the direct cause of the following exception:\n",
      "\u001b[0;31mKeyError\u001b[0m                                  Traceback (most recent call last)",
      "\u001b[0;32m<ipython-input-92-2880914b3a98>\u001b[0m in \u001b[0;36m<module>\u001b[0;34m\u001b[0m\n\u001b[1;32m     11\u001b[0m }\n\u001b[1;32m     12\u001b[0m \u001b[0;34m\u001b[0m\u001b[0m\n\u001b[0;32m---> 13\u001b[0;31m \u001b[0me_train_gym\u001b[0m \u001b[0;34m=\u001b[0m \u001b[0mStockTradingEnv\u001b[0m\u001b[0;34m(\u001b[0m\u001b[0mdf\u001b[0m \u001b[0;34m=\u001b[0m \u001b[0mtrain\u001b[0m\u001b[0;34m,\u001b[0m \u001b[0;34m**\u001b[0m\u001b[0menv_kwargs\u001b[0m\u001b[0;34m)\u001b[0m\u001b[0;34m\u001b[0m\u001b[0;34m\u001b[0m\u001b[0m\n\u001b[0m",
      "\u001b[0;32m~/FinRL-Library/finrl/env/env_stocktrading.py\u001b[0m in \u001b[0;36m__init__\u001b[0;34m(self, df, stock_dim, hmax, initial_amount, transaction_cost_pct, reward_scaling, state_space, action_space, tech_indicator_list, turbulence_threshold, make_plots, print_verbosity, day, iteration)\u001b[0m\n\u001b[1;32m     46\u001b[0m         \u001b[0mself\u001b[0m\u001b[0;34m.\u001b[0m\u001b[0mturbulence_threshold\u001b[0m \u001b[0;34m=\u001b[0m \u001b[0mturbulence_threshold\u001b[0m\u001b[0;34m\u001b[0m\u001b[0;34m\u001b[0m\u001b[0m\n\u001b[1;32m     47\u001b[0m         \u001b[0;31m# initalize state\u001b[0m\u001b[0;34m\u001b[0m\u001b[0;34m\u001b[0m\u001b[0;34m\u001b[0m\u001b[0m\n\u001b[0;32m---> 48\u001b[0;31m         \u001b[0mself\u001b[0m\u001b[0;34m.\u001b[0m\u001b[0mstate\u001b[0m \u001b[0;34m=\u001b[0m \u001b[0mself\u001b[0m\u001b[0;34m.\u001b[0m\u001b[0m_initiate_state\u001b[0m\u001b[0;34m(\u001b[0m\u001b[0;34m)\u001b[0m\u001b[0;34m\u001b[0m\u001b[0;34m\u001b[0m\u001b[0m\n\u001b[0m\u001b[1;32m     49\u001b[0m \u001b[0;34m\u001b[0m\u001b[0m\n\u001b[1;32m     50\u001b[0m         \u001b[0;31m# initialize reward\u001b[0m\u001b[0;34m\u001b[0m\u001b[0;34m\u001b[0m\u001b[0;34m\u001b[0m\u001b[0m\n",
      "\u001b[0;32m~/FinRL-Library/finrl/env/env_stocktrading.py\u001b[0m in \u001b[0;36m_initiate_state\u001b[0;34m(self)\u001b[0m\n\u001b[1;32m    214\u001b[0m                      \u001b[0mself\u001b[0m\u001b[0;34m.\u001b[0m\u001b[0mdata\u001b[0m\u001b[0;34m.\u001b[0m\u001b[0mclose\u001b[0m\u001b[0;34m.\u001b[0m\u001b[0mvalues\u001b[0m\u001b[0;34m.\u001b[0m\u001b[0mtolist\u001b[0m\u001b[0;34m(\u001b[0m\u001b[0;34m)\u001b[0m \u001b[0;34m+\u001b[0m\u001b[0;31m \u001b[0m\u001b[0;31m\\\u001b[0m\u001b[0;34m\u001b[0m\u001b[0;34m\u001b[0m\u001b[0m\n\u001b[1;32m    215\u001b[0m                      \u001b[0;34m[\u001b[0m\u001b[0;36m0\u001b[0m\u001b[0;34m]\u001b[0m\u001b[0;34m*\u001b[0m\u001b[0mself\u001b[0m\u001b[0;34m.\u001b[0m\u001b[0mstock_dim\u001b[0m  \u001b[0;34m+\u001b[0m\u001b[0;31m \u001b[0m\u001b[0;31m\\\u001b[0m\u001b[0;34m\u001b[0m\u001b[0;34m\u001b[0m\u001b[0m\n\u001b[0;32m--> 216\u001b[0;31m                      \u001b[0msum\u001b[0m\u001b[0;34m(\u001b[0m\u001b[0;34m[\u001b[0m\u001b[0mself\u001b[0m\u001b[0;34m.\u001b[0m\u001b[0mdata\u001b[0m\u001b[0;34m[\u001b[0m\u001b[0mtech\u001b[0m\u001b[0;34m]\u001b[0m\u001b[0;34m.\u001b[0m\u001b[0mvalues\u001b[0m\u001b[0;34m.\u001b[0m\u001b[0mtolist\u001b[0m\u001b[0;34m(\u001b[0m\u001b[0;34m)\u001b[0m \u001b[0;32mfor\u001b[0m \u001b[0mtech\u001b[0m \u001b[0;32min\u001b[0m \u001b[0mself\u001b[0m\u001b[0;34m.\u001b[0m\u001b[0mtech_indicator_list\u001b[0m \u001b[0;34m]\u001b[0m\u001b[0;34m,\u001b[0m \u001b[0;34m[\u001b[0m\u001b[0;34m]\u001b[0m\u001b[0;34m)\u001b[0m\u001b[0;34m\u001b[0m\u001b[0;34m\u001b[0m\u001b[0m\n\u001b[0m\u001b[1;32m    217\u001b[0m         \u001b[0;32melse\u001b[0m\u001b[0;34m:\u001b[0m\u001b[0;34m\u001b[0m\u001b[0;34m\u001b[0m\u001b[0m\n\u001b[1;32m    218\u001b[0m             \u001b[0;31m# for single stock\u001b[0m\u001b[0;34m\u001b[0m\u001b[0;34m\u001b[0m\u001b[0;34m\u001b[0m\u001b[0m\n",
      "\u001b[0;32m~/FinRL-Library/finrl/env/env_stocktrading.py\u001b[0m in \u001b[0;36m<listcomp>\u001b[0;34m(.0)\u001b[0m\n\u001b[1;32m    214\u001b[0m                      \u001b[0mself\u001b[0m\u001b[0;34m.\u001b[0m\u001b[0mdata\u001b[0m\u001b[0;34m.\u001b[0m\u001b[0mclose\u001b[0m\u001b[0;34m.\u001b[0m\u001b[0mvalues\u001b[0m\u001b[0;34m.\u001b[0m\u001b[0mtolist\u001b[0m\u001b[0;34m(\u001b[0m\u001b[0;34m)\u001b[0m \u001b[0;34m+\u001b[0m\u001b[0;31m \u001b[0m\u001b[0;31m\\\u001b[0m\u001b[0;34m\u001b[0m\u001b[0;34m\u001b[0m\u001b[0m\n\u001b[1;32m    215\u001b[0m                      \u001b[0;34m[\u001b[0m\u001b[0;36m0\u001b[0m\u001b[0;34m]\u001b[0m\u001b[0;34m*\u001b[0m\u001b[0mself\u001b[0m\u001b[0;34m.\u001b[0m\u001b[0mstock_dim\u001b[0m  \u001b[0;34m+\u001b[0m\u001b[0;31m \u001b[0m\u001b[0;31m\\\u001b[0m\u001b[0;34m\u001b[0m\u001b[0;34m\u001b[0m\u001b[0m\n\u001b[0;32m--> 216\u001b[0;31m                      \u001b[0msum\u001b[0m\u001b[0;34m(\u001b[0m\u001b[0;34m[\u001b[0m\u001b[0mself\u001b[0m\u001b[0;34m.\u001b[0m\u001b[0mdata\u001b[0m\u001b[0;34m[\u001b[0m\u001b[0mtech\u001b[0m\u001b[0;34m]\u001b[0m\u001b[0;34m.\u001b[0m\u001b[0mvalues\u001b[0m\u001b[0;34m.\u001b[0m\u001b[0mtolist\u001b[0m\u001b[0;34m(\u001b[0m\u001b[0;34m)\u001b[0m \u001b[0;32mfor\u001b[0m \u001b[0mtech\u001b[0m \u001b[0;32min\u001b[0m \u001b[0mself\u001b[0m\u001b[0;34m.\u001b[0m\u001b[0mtech_indicator_list\u001b[0m \u001b[0;34m]\u001b[0m\u001b[0;34m,\u001b[0m \u001b[0;34m[\u001b[0m\u001b[0;34m]\u001b[0m\u001b[0;34m)\u001b[0m\u001b[0;34m\u001b[0m\u001b[0;34m\u001b[0m\u001b[0m\n\u001b[0m\u001b[1;32m    217\u001b[0m         \u001b[0;32melse\u001b[0m\u001b[0;34m:\u001b[0m\u001b[0;34m\u001b[0m\u001b[0;34m\u001b[0m\u001b[0m\n\u001b[1;32m    218\u001b[0m             \u001b[0;31m# for single stock\u001b[0m\u001b[0;34m\u001b[0m\u001b[0;34m\u001b[0m\u001b[0;34m\u001b[0m\u001b[0m\n",
      "\u001b[0;32m~/anaconda3/lib/python3.8/site-packages/pandas/core/frame.py\u001b[0m in \u001b[0;36m__getitem__\u001b[0;34m(self, key)\u001b[0m\n\u001b[1;32m   2900\u001b[0m             \u001b[0;32mif\u001b[0m \u001b[0mself\u001b[0m\u001b[0;34m.\u001b[0m\u001b[0mcolumns\u001b[0m\u001b[0;34m.\u001b[0m\u001b[0mnlevels\u001b[0m \u001b[0;34m>\u001b[0m \u001b[0;36m1\u001b[0m\u001b[0;34m:\u001b[0m\u001b[0;34m\u001b[0m\u001b[0;34m\u001b[0m\u001b[0m\n\u001b[1;32m   2901\u001b[0m                 \u001b[0;32mreturn\u001b[0m \u001b[0mself\u001b[0m\u001b[0;34m.\u001b[0m\u001b[0m_getitem_multilevel\u001b[0m\u001b[0;34m(\u001b[0m\u001b[0mkey\u001b[0m\u001b[0;34m)\u001b[0m\u001b[0;34m\u001b[0m\u001b[0;34m\u001b[0m\u001b[0m\n\u001b[0;32m-> 2902\u001b[0;31m             \u001b[0mindexer\u001b[0m \u001b[0;34m=\u001b[0m \u001b[0mself\u001b[0m\u001b[0;34m.\u001b[0m\u001b[0mcolumns\u001b[0m\u001b[0;34m.\u001b[0m\u001b[0mget_loc\u001b[0m\u001b[0;34m(\u001b[0m\u001b[0mkey\u001b[0m\u001b[0;34m)\u001b[0m\u001b[0;34m\u001b[0m\u001b[0;34m\u001b[0m\u001b[0m\n\u001b[0m\u001b[1;32m   2903\u001b[0m             \u001b[0;32mif\u001b[0m \u001b[0mis_integer\u001b[0m\u001b[0;34m(\u001b[0m\u001b[0mindexer\u001b[0m\u001b[0;34m)\u001b[0m\u001b[0;34m:\u001b[0m\u001b[0;34m\u001b[0m\u001b[0;34m\u001b[0m\u001b[0m\n\u001b[1;32m   2904\u001b[0m                 \u001b[0mindexer\u001b[0m \u001b[0;34m=\u001b[0m \u001b[0;34m[\u001b[0m\u001b[0mindexer\u001b[0m\u001b[0;34m]\u001b[0m\u001b[0;34m\u001b[0m\u001b[0;34m\u001b[0m\u001b[0m\n",
      "\u001b[0;32m~/anaconda3/lib/python3.8/site-packages/pandas/core/indexes/base.py\u001b[0m in \u001b[0;36mget_loc\u001b[0;34m(self, key, method, tolerance)\u001b[0m\n\u001b[1;32m   2895\u001b[0m                 \u001b[0;32mreturn\u001b[0m \u001b[0mself\u001b[0m\u001b[0;34m.\u001b[0m\u001b[0m_engine\u001b[0m\u001b[0;34m.\u001b[0m\u001b[0mget_loc\u001b[0m\u001b[0;34m(\u001b[0m\u001b[0mcasted_key\u001b[0m\u001b[0;34m)\u001b[0m\u001b[0;34m\u001b[0m\u001b[0;34m\u001b[0m\u001b[0m\n\u001b[1;32m   2896\u001b[0m             \u001b[0;32mexcept\u001b[0m \u001b[0mKeyError\u001b[0m \u001b[0;32mas\u001b[0m \u001b[0merr\u001b[0m\u001b[0;34m:\u001b[0m\u001b[0;34m\u001b[0m\u001b[0;34m\u001b[0m\u001b[0m\n\u001b[0;32m-> 2897\u001b[0;31m                 \u001b[0;32mraise\u001b[0m \u001b[0mKeyError\u001b[0m\u001b[0;34m(\u001b[0m\u001b[0mkey\u001b[0m\u001b[0;34m)\u001b[0m \u001b[0;32mfrom\u001b[0m \u001b[0merr\u001b[0m\u001b[0;34m\u001b[0m\u001b[0;34m\u001b[0m\u001b[0m\n\u001b[0m\u001b[1;32m   2898\u001b[0m \u001b[0;34m\u001b[0m\u001b[0m\n\u001b[1;32m   2899\u001b[0m         \u001b[0;32mif\u001b[0m \u001b[0mtolerance\u001b[0m \u001b[0;32mis\u001b[0m \u001b[0;32mnot\u001b[0m \u001b[0;32mNone\u001b[0m\u001b[0;34m:\u001b[0m\u001b[0;34m\u001b[0m\u001b[0;34m\u001b[0m\u001b[0m\n",
      "\u001b[0;31mKeyError\u001b[0m: 'macd'"
     ]
    }
   ],
   "source": [
    "env_kwargs = {\n",
    "    \"hmax\": 100, \n",
    "    \"initial_amount\": 100000, \n",
    "    \"transaction_cost_pct\": 0.001, \n",
    "    \"state_space\": state_space, \n",
    "    \"stock_dim\": stock_dimension, \n",
    "    \"tech_indicator_list\": config.TECHNICAL_INDICATORS_LIST,\n",
    "    \"action_space\": stock_dimension, \n",
    "    \"reward_scaling\": 1e-4\n",
    "    \n",
    "}\n",
    "\n",
    "e_train_gym = StockTradingEnv(df = train, **env_kwargs)\n"
   ]
  },
  {
   "cell_type": "code",
   "execution_count": 51,
   "metadata": {
    "colab": {
     "base_uri": "https://localhost:8080/"
    },
    "id": "vmyi2IPnyEkP",
    "outputId": "a968a96a-a1ee-426e-eed8-ee74d20b9bb8"
   },
   "outputs": [
    {
     "output_type": "stream",
     "name": "stdout",
     "text": [
      "<class 'finrl.env.env_stocktrading.StockTradingEnv'>\n"
     ]
    }
   ],
   "source": [
    "env_train, _ = e_train_gym.get_sb_env()\n",
    "print(type(env_train))"
   ]
  },
  {
   "cell_type": "markdown",
   "metadata": {
    "id": "mdnzYtM1TnTW"
   },
   "source": [
    "<a id='5'></a>\n",
    "# Part 6: Implement DRL Algorithms\n",
    "* The implementation of the DRL algorithms are based on **OpenAI Baselines** and **Stable Baselines**. Stable Baselines is a fork of OpenAI Baselines, with a major structural refactoring, and code cleanups.\n",
    "* FinRL library includes fine-tuned standard DRL algorithms, such as DQN, DDPG,\n",
    "Multi-Agent DDPG, PPO, SAC, A2C and TD3. We also allow users to\n",
    "design their own DRL algorithms by adapting these DRL algorithms."
   ]
  },
  {
   "cell_type": "code",
   "execution_count": 52,
   "metadata": {
    "id": "BRFIZDw8TnTX"
   },
   "outputs": [],
   "source": [
    "agent = DRLAgent(env = env_train)"
   ]
  },
  {
   "cell_type": "markdown",
   "metadata": {
    "id": "zD1NHzGyTnTc"
   },
   "source": [
    "### Model Training: 5 models, A2C DDPG, PPO, TD3, SAC\n",
    "\n"
   ]
  },
  {
   "cell_type": "markdown",
   "metadata": {
    "id": "Y9CM5DeIr9GC"
   },
   "source": [
    "### Model 1: A2C"
   ]
  },
  {
   "cell_type": "code",
   "execution_count": 53,
   "metadata": {
    "colab": {
     "base_uri": "https://localhost:8080/"
    },
    "id": "rOk-Mr73-EEq",
    "outputId": "1c56a5c6-91ad-4b81-dd07-24ae69e64c23"
   },
   "outputs": [
    {
     "output_type": "stream",
     "name": "stdout",
     "text": [
      "{'n_steps': 5, 'ent_coef': 0.005, 'learning_rate': 0.0002}\nUsing cpu device\nWrapping the env in a DummyVecEnv.\n"
     ]
    }
   ],
   "source": [
    "agent = DRLAgent(env = env_train)\n",
    "\n",
    "A2C_PARAMS = {\"n_steps\": 5, \"ent_coef\": 0.005, \"learning_rate\": 0.0002}\n",
    "model_a2c = agent.get_model(model_name=\"a2c\",model_kwargs = A2C_PARAMS)"
   ]
  },
  {
   "cell_type": "code",
   "execution_count": 54,
   "metadata": {},
   "outputs": [],
   "source": [
    "trained_a2c = model_a2c.load(os.path.join(config.TRAINED_MODEL_DIR,'trained_a2c.zip'))"
   ]
  },
  {
   "cell_type": "code",
   "execution_count": 55,
   "metadata": {
    "colab": {
     "base_uri": "https://localhost:8080/"
    },
    "id": "DXHEidJh-E60",
    "outputId": "9ae1ede1-a8ee-4e56-c4f3-ef809e05d664",
    "tags": []
   },
   "outputs": [
    {
     "output_type": "stream",
     "name": "stdout",
     "text": [
      "------------------------------------\n",
      "| time/                 |          |\n",
      "|    fps                | 472      |\n",
      "|    iterations         | 100      |\n",
      "|    time_elapsed       | 1        |\n",
      "|    total_timesteps    | 500      |\n",
      "| train/                |          |\n",
      "|    entropy_loss       | -1.44    |\n",
      "|    explained_variance | nan      |\n",
      "|    learning_rate      | 0.0002   |\n",
      "|    n_updates          | 99       |\n",
      "|    policy_loss        | 0.0317   |\n",
      "|    std                | 1.02     |\n",
      "|    value_loss         | 0.00503  |\n",
      "------------------------------------\n",
      "------------------------------------\n",
      "| time/                 |          |\n",
      "|    fps                | 475      |\n",
      "|    iterations         | 200      |\n",
      "|    time_elapsed       | 2        |\n",
      "|    total_timesteps    | 1000     |\n",
      "| train/                |          |\n",
      "|    entropy_loss       | -1.44    |\n",
      "|    explained_variance | -21.8    |\n",
      "|    learning_rate      | 0.0002   |\n",
      "|    n_updates          | 199      |\n",
      "|    policy_loss        | -0.0735  |\n",
      "|    std                | 1.02     |\n",
      "|    value_loss         | 0.0146   |\n",
      "------------------------------------\n",
      "------------------------------------\n",
      "| time/                 |          |\n",
      "|    fps                | 472      |\n",
      "|    iterations         | 300      |\n",
      "|    time_elapsed       | 3        |\n",
      "|    total_timesteps    | 1500     |\n",
      "| train/                |          |\n",
      "|    entropy_loss       | -1.44    |\n",
      "|    explained_variance | nan      |\n",
      "|    learning_rate      | 0.0002   |\n",
      "|    n_updates          | 299      |\n",
      "|    policy_loss        | -0.426   |\n",
      "|    std                | 1.02     |\n",
      "|    value_loss         | 0.121    |\n",
      "------------------------------------\n",
      "-------------------------------------\n",
      "| time/                 |           |\n",
      "|    fps                | 470       |\n",
      "|    iterations         | 400       |\n",
      "|    time_elapsed       | 4         |\n",
      "|    total_timesteps    | 2000      |\n",
      "| train/                |           |\n",
      "|    entropy_loss       | -1.44     |\n",
      "|    explained_variance | -5.08e+10 |\n",
      "|    learning_rate      | 0.0002    |\n",
      "|    n_updates          | 399       |\n",
      "|    policy_loss        | -0.0218   |\n",
      "|    std                | 1.02      |\n",
      "|    value_loss         | 0.000516  |\n",
      "-------------------------------------\n",
      "-------------------------------------\n",
      "| time/                 |           |\n",
      "|    fps                | 471       |\n",
      "|    iterations         | 500       |\n",
      "|    time_elapsed       | 5         |\n",
      "|    total_timesteps    | 2500      |\n",
      "| train/                |           |\n",
      "|    entropy_loss       | -1.44     |\n",
      "|    explained_variance | -7.04e+12 |\n",
      "|    learning_rate      | 0.0002    |\n",
      "|    n_updates          | 499       |\n",
      "|    policy_loss        | 0.0544    |\n",
      "|    std                | 1.02      |\n",
      "|    value_loss         | 0.00339   |\n",
      "-------------------------------------\n",
      "------------------------------------\n",
      "| time/                 |          |\n",
      "|    fps                | 471      |\n",
      "|    iterations         | 600      |\n",
      "|    time_elapsed       | 6        |\n",
      "|    total_timesteps    | 3000     |\n",
      "| train/                |          |\n",
      "|    entropy_loss       | -1.45    |\n",
      "|    explained_variance | nan      |\n",
      "|    learning_rate      | 0.0002   |\n",
      "|    n_updates          | 599      |\n",
      "|    policy_loss        | -0.0288  |\n",
      "|    std                | 1.03     |\n",
      "|    value_loss         | 0.00113  |\n",
      "------------------------------------\n",
      "------------------------------------\n",
      "| time/                 |          |\n",
      "|    fps                | 471      |\n",
      "|    iterations         | 700      |\n",
      "|    time_elapsed       | 7        |\n",
      "|    total_timesteps    | 3500     |\n",
      "| train/                |          |\n",
      "|    entropy_loss       | -1.45    |\n",
      "|    explained_variance | nan      |\n",
      "|    learning_rate      | 0.0002   |\n",
      "|    n_updates          | 699      |\n",
      "|    policy_loss        | 0.00144  |\n",
      "|    std                | 1.03     |\n",
      "|    value_loss         | 1.51e-06 |\n",
      "------------------------------------\n",
      "------------------------------------\n",
      "| time/                 |          |\n",
      "|    fps                | 473      |\n",
      "|    iterations         | 800      |\n",
      "|    time_elapsed       | 8        |\n",
      "|    total_timesteps    | 4000     |\n",
      "| train/                |          |\n",
      "|    entropy_loss       | -1.45    |\n",
      "|    explained_variance | nan      |\n",
      "|    learning_rate      | 0.0002   |\n",
      "|    n_updates          | 799      |\n",
      "|    policy_loss        | -0.00402 |\n",
      "|    std                | 1.04     |\n",
      "|    value_loss         | 1.34e-05 |\n",
      "------------------------------------\n",
      "------------------------------------\n",
      "| time/                 |          |\n",
      "|    fps                | 469      |\n",
      "|    iterations         | 900      |\n",
      "|    time_elapsed       | 9        |\n",
      "|    total_timesteps    | 4500     |\n",
      "| train/                |          |\n",
      "|    entropy_loss       | -1.46    |\n",
      "|    explained_variance | nan      |\n",
      "|    learning_rate      | 0.0002   |\n",
      "|    n_updates          | 899      |\n",
      "|    policy_loss        | 0.0103   |\n",
      "|    std                | 1.05     |\n",
      "|    value_loss         | 0.000276 |\n",
      "------------------------------------\n",
      "------------------------------------\n",
      "| time/                 |          |\n",
      "|    fps                | 469      |\n",
      "|    iterations         | 1000     |\n",
      "|    time_elapsed       | 10       |\n",
      "|    total_timesteps    | 5000     |\n",
      "| train/                |          |\n",
      "|    entropy_loss       | -1.47    |\n",
      "|    explained_variance | nan      |\n",
      "|    learning_rate      | 0.0002   |\n",
      "|    n_updates          | 999      |\n",
      "|    policy_loss        | -0.00271 |\n",
      "|    std                | 1.05     |\n",
      "|    value_loss         | 5.17e-06 |\n",
      "------------------------------------\n",
      "------------------------------------\n",
      "| time/                 |          |\n",
      "|    fps                | 467      |\n",
      "|    iterations         | 1100     |\n",
      "|    time_elapsed       | 11       |\n",
      "|    total_timesteps    | 5500     |\n",
      "| train/                |          |\n",
      "|    entropy_loss       | -1.47    |\n",
      "|    explained_variance | -14.3    |\n",
      "|    learning_rate      | 0.0002   |\n",
      "|    n_updates          | 1099     |\n",
      "|    policy_loss        | 0.163    |\n",
      "|    std                | 1.06     |\n",
      "|    value_loss         | 0.0462   |\n",
      "------------------------------------\n",
      "------------------------------------\n",
      "| time/                 |          |\n",
      "|    fps                | 467      |\n",
      "|    iterations         | 1200     |\n",
      "|    time_elapsed       | 12       |\n",
      "|    total_timesteps    | 6000     |\n",
      "| train/                |          |\n",
      "|    entropy_loss       | -1.48    |\n",
      "|    explained_variance | 0.622    |\n",
      "|    learning_rate      | 0.0002   |\n",
      "|    n_updates          | 1199     |\n",
      "|    policy_loss        | 0.204    |\n",
      "|    std                | 1.06     |\n",
      "|    value_loss         | 0.0252   |\n",
      "------------------------------------\n",
      "------------------------------------\n",
      "| time/                 |          |\n",
      "|    fps                | 468      |\n",
      "|    iterations         | 1300     |\n",
      "|    time_elapsed       | 13       |\n",
      "|    total_timesteps    | 6500     |\n",
      "| train/                |          |\n",
      "|    entropy_loss       | -1.48    |\n",
      "|    explained_variance | -1.52    |\n",
      "|    learning_rate      | 0.0002   |\n",
      "|    n_updates          | 1299     |\n",
      "|    policy_loss        | 1.76     |\n",
      "|    std                | 1.06     |\n",
      "|    value_loss         | 1.08     |\n",
      "------------------------------------\n",
      "------------------------------------\n",
      "| time/                 |          |\n",
      "|    fps                | 468      |\n",
      "|    iterations         | 1400     |\n",
      "|    time_elapsed       | 14       |\n",
      "|    total_timesteps    | 7000     |\n",
      "| train/                |          |\n",
      "|    entropy_loss       | -1.48    |\n",
      "|    explained_variance | nan      |\n",
      "|    learning_rate      | 0.0002   |\n",
      "|    n_updates          | 1399     |\n",
      "|    policy_loss        | 0.165    |\n",
      "|    std                | 1.06     |\n",
      "|    value_loss         | 0.00863  |\n",
      "------------------------------------\n",
      "------------------------------------\n",
      "| time/                 |          |\n",
      "|    fps                | 468      |\n",
      "|    iterations         | 1500     |\n",
      "|    time_elapsed       | 15       |\n",
      "|    total_timesteps    | 7500     |\n",
      "| train/                |          |\n",
      "|    entropy_loss       | -1.48    |\n",
      "|    explained_variance | nan      |\n",
      "|    learning_rate      | 0.0002   |\n",
      "|    n_updates          | 1499     |\n",
      "|    policy_loss        | -0.675   |\n",
      "|    std                | 1.07     |\n",
      "|    value_loss         | 1.28     |\n",
      "------------------------------------\n",
      "------------------------------------\n",
      "| time/                 |          |\n",
      "|    fps                | 469      |\n",
      "|    iterations         | 1600     |\n",
      "|    time_elapsed       | 17       |\n",
      "|    total_timesteps    | 8000     |\n",
      "| train/                |          |\n",
      "|    entropy_loss       | -1.48    |\n",
      "|    explained_variance | nan      |\n",
      "|    learning_rate      | 0.0002   |\n",
      "|    n_updates          | 1599     |\n",
      "|    policy_loss        | 0.1      |\n",
      "|    std                | 1.07     |\n",
      "|    value_loss         | 0.00804  |\n",
      "------------------------------------\n",
      "------------------------------------\n",
      "| time/                 |          |\n",
      "|    fps                | 469      |\n",
      "|    iterations         | 1700     |\n",
      "|    time_elapsed       | 18       |\n",
      "|    total_timesteps    | 8500     |\n",
      "| train/                |          |\n",
      "|    entropy_loss       | -1.49    |\n",
      "|    explained_variance | nan      |\n",
      "|    learning_rate      | 0.0002   |\n",
      "|    n_updates          | 1699     |\n",
      "|    policy_loss        | 0.102    |\n",
      "|    std                | 1.07     |\n",
      "|    value_loss         | 0.00623  |\n",
      "------------------------------------\n",
      "-------------------------------------\n",
      "| time/                 |           |\n",
      "|    fps                | 470       |\n",
      "|    iterations         | 1800      |\n",
      "|    time_elapsed       | 19        |\n",
      "|    total_timesteps    | 9000      |\n",
      "| train/                |           |\n",
      "|    entropy_loss       | -1.49     |\n",
      "|    explained_variance | -1.02e+03 |\n",
      "|    learning_rate      | 0.0002    |\n",
      "|    n_updates          | 1799      |\n",
      "|    policy_loss        | -0.219    |\n",
      "|    std                | 1.07      |\n",
      "|    value_loss         | 0.0465    |\n",
      "-------------------------------------\n",
      "------------------------------------\n",
      "| time/                 |          |\n",
      "|    fps                | 470      |\n",
      "|    iterations         | 1900     |\n",
      "|    time_elapsed       | 20       |\n",
      "|    total_timesteps    | 9500     |\n",
      "| train/                |          |\n",
      "|    entropy_loss       | -1.48    |\n",
      "|    explained_variance | nan      |\n",
      "|    learning_rate      | 0.0002   |\n",
      "|    n_updates          | 1899     |\n",
      "|    policy_loss        | 0.175    |\n",
      "|    std                | 1.07     |\n",
      "|    value_loss         | 0.0237   |\n",
      "------------------------------------\n",
      "------------------------------------\n",
      "| time/                 |          |\n",
      "|    fps                | 471      |\n",
      "|    iterations         | 2000     |\n",
      "|    time_elapsed       | 21       |\n",
      "|    total_timesteps    | 10000    |\n",
      "| train/                |          |\n",
      "|    entropy_loss       | -1.49    |\n",
      "|    explained_variance | nan      |\n",
      "|    learning_rate      | 0.0002   |\n",
      "|    n_updates          | 1999     |\n",
      "|    policy_loss        | 0.191    |\n",
      "|    std                | 1.07     |\n",
      "|    value_loss         | 0.0371   |\n",
      "------------------------------------\n",
      "------------------------------------\n",
      "| time/                 |          |\n",
      "|    fps                | 471      |\n",
      "|    iterations         | 2100     |\n",
      "|    time_elapsed       | 22       |\n",
      "|    total_timesteps    | 10500    |\n",
      "| train/                |          |\n",
      "|    entropy_loss       | -1.49    |\n",
      "|    explained_variance | nan      |\n",
      "|    learning_rate      | 0.0002   |\n",
      "|    n_updates          | 2099     |\n",
      "|    policy_loss        | 0.0387   |\n",
      "|    std                | 1.07     |\n",
      "|    value_loss         | 0.000435 |\n",
      "------------------------------------\n",
      "------------------------------------\n",
      "| time/                 |          |\n",
      "|    fps                | 472      |\n",
      "|    iterations         | 2200     |\n",
      "|    time_elapsed       | 23       |\n",
      "|    total_timesteps    | 11000    |\n",
      "| train/                |          |\n",
      "|    entropy_loss       | -1.49    |\n",
      "|    explained_variance | nan      |\n",
      "|    learning_rate      | 0.0002   |\n",
      "|    n_updates          | 2199     |\n",
      "|    policy_loss        | -0.0184  |\n",
      "|    std                | 1.07     |\n",
      "|    value_loss         | 0.000537 |\n",
      "------------------------------------\n",
      "------------------------------------\n",
      "| time/                 |          |\n",
      "|    fps                | 472      |\n",
      "|    iterations         | 2300     |\n",
      "|    time_elapsed       | 24       |\n",
      "|    total_timesteps    | 11500    |\n",
      "| train/                |          |\n",
      "|    entropy_loss       | -1.49    |\n",
      "|    explained_variance | nan      |\n",
      "|    learning_rate      | 0.0002   |\n",
      "|    n_updates          | 2299     |\n",
      "|    policy_loss        | 0.124    |\n",
      "|    std                | 1.07     |\n",
      "|    value_loss         | 0.0139   |\n",
      "------------------------------------\n",
      "------------------------------------\n",
      "| time/                 |          |\n",
      "|    fps                | 473      |\n",
      "|    iterations         | 2400     |\n",
      "|    time_elapsed       | 25       |\n",
      "|    total_timesteps    | 12000    |\n",
      "| train/                |          |\n",
      "|    entropy_loss       | -1.49    |\n",
      "|    explained_variance | -69.6    |\n",
      "|    learning_rate      | 0.0002   |\n",
      "|    n_updates          | 2399     |\n",
      "|    policy_loss        | -0.0853  |\n",
      "|    std                | 1.07     |\n",
      "|    value_loss         | 0.00617  |\n",
      "------------------------------------\n",
      "------------------------------------\n",
      "| time/                 |          |\n",
      "|    fps                | 473      |\n",
      "|    iterations         | 2500     |\n",
      "|    time_elapsed       | 26       |\n",
      "|    total_timesteps    | 12500    |\n",
      "| train/                |          |\n",
      "|    entropy_loss       | -1.49    |\n",
      "|    explained_variance | nan      |\n",
      "|    learning_rate      | 0.0002   |\n",
      "|    n_updates          | 2499     |\n",
      "|    policy_loss        | 0.0154   |\n",
      "|    std                | 1.08     |\n",
      "|    value_loss         | 8.36e-05 |\n",
      "------------------------------------\n",
      "------------------------------------\n",
      "| time/                 |          |\n",
      "|    fps                | 473      |\n",
      "|    iterations         | 2600     |\n",
      "|    time_elapsed       | 27       |\n",
      "|    total_timesteps    | 13000    |\n",
      "| train/                |          |\n",
      "|    entropy_loss       | -1.5     |\n",
      "|    explained_variance | nan      |\n",
      "|    learning_rate      | 0.0002   |\n",
      "|    n_updates          | 2599     |\n",
      "|    policy_loss        | -0.0468  |\n",
      "|    std                | 1.08     |\n",
      "|    value_loss         | 0.000622 |\n",
      "------------------------------------\n",
      "------------------------------------\n",
      "| time/                 |          |\n",
      "|    fps                | 474      |\n",
      "|    iterations         | 2700     |\n",
      "|    time_elapsed       | 28       |\n",
      "|    total_timesteps    | 13500    |\n",
      "| train/                |          |\n",
      "|    entropy_loss       | -1.5     |\n",
      "|    explained_variance | nan      |\n",
      "|    learning_rate      | 0.0002   |\n",
      "|    n_updates          | 2699     |\n",
      "|    policy_loss        | 0.00313  |\n",
      "|    std                | 1.08     |\n",
      "|    value_loss         | 1.05e-05 |\n",
      "------------------------------------\n",
      "------------------------------------\n",
      "| time/                 |          |\n",
      "|    fps                | 474      |\n",
      "|    iterations         | 2800     |\n",
      "|    time_elapsed       | 29       |\n",
      "|    total_timesteps    | 14000    |\n",
      "| train/                |          |\n",
      "|    entropy_loss       | -1.5     |\n",
      "|    explained_variance | nan      |\n",
      "|    learning_rate      | 0.0002   |\n",
      "|    n_updates          | 2799     |\n",
      "|    policy_loss        | 0.0811   |\n",
      "|    std                | 1.09     |\n",
      "|    value_loss         | 0.00314  |\n",
      "------------------------------------\n",
      "------------------------------------\n",
      "| time/                 |          |\n",
      "|    fps                | 474      |\n",
      "|    iterations         | 2900     |\n",
      "|    time_elapsed       | 30       |\n",
      "|    total_timesteps    | 14500    |\n",
      "| train/                |          |\n",
      "|    entropy_loss       | -1.51    |\n",
      "|    explained_variance | nan      |\n",
      "|    learning_rate      | 0.0002   |\n",
      "|    n_updates          | 2899     |\n",
      "|    policy_loss        | 0.0118   |\n",
      "|    std                | 1.09     |\n",
      "|    value_loss         | 0.000102 |\n",
      "------------------------------------\n",
      "------------------------------------\n",
      "| time/                 |          |\n",
      "|    fps                | 474      |\n",
      "|    iterations         | 3000     |\n",
      "|    time_elapsed       | 31       |\n",
      "|    total_timesteps    | 15000    |\n",
      "| train/                |          |\n",
      "|    entropy_loss       | -1.51    |\n",
      "|    explained_variance | nan      |\n",
      "|    learning_rate      | 0.0002   |\n",
      "|    n_updates          | 2999     |\n",
      "|    policy_loss        | 0.00838  |\n",
      "|    std                | 1.09     |\n",
      "|    value_loss         | 6.46e-05 |\n",
      "------------------------------------\n",
      "------------------------------------\n",
      "| time/                 |          |\n",
      "|    fps                | 474      |\n",
      "|    iterations         | 3100     |\n",
      "|    time_elapsed       | 32       |\n",
      "|    total_timesteps    | 15500    |\n",
      "| train/                |          |\n",
      "|    entropy_loss       | -1.51    |\n",
      "|    explained_variance | nan      |\n",
      "|    learning_rate      | 0.0002   |\n",
      "|    n_updates          | 3099     |\n",
      "|    policy_loss        | 0.000934 |\n",
      "|    std                | 1.1      |\n",
      "|    value_loss         | 4.75e-07 |\n",
      "------------------------------------\n",
      "-------------------------------------\n",
      "| time/                 |           |\n",
      "|    fps                | 474       |\n",
      "|    iterations         | 3200      |\n",
      "|    time_elapsed       | 33        |\n",
      "|    total_timesteps    | 16000     |\n",
      "| train/                |           |\n",
      "|    entropy_loss       | -1.52     |\n",
      "|    explained_variance | -2.98e+13 |\n",
      "|    learning_rate      | 0.0002    |\n",
      "|    n_updates          | 3199      |\n",
      "|    policy_loss        | 0.0284    |\n",
      "|    std                | 1.11      |\n",
      "|    value_loss         | 0.000702  |\n",
      "-------------------------------------\n",
      "------------------------------------\n",
      "| time/                 |          |\n",
      "|    fps                | 474      |\n",
      "|    iterations         | 3300     |\n",
      "|    time_elapsed       | 34       |\n",
      "|    total_timesteps    | 16500    |\n",
      "| train/                |          |\n",
      "|    entropy_loss       | -1.53    |\n",
      "|    explained_variance | nan      |\n",
      "|    learning_rate      | 0.0002   |\n",
      "|    n_updates          | 3299     |\n",
      "|    policy_loss        | -0.00416 |\n",
      "|    std                | 1.11     |\n",
      "|    value_loss         | 2.51e-05 |\n",
      "------------------------------------\n",
      "------------------------------------\n",
      "| time/                 |          |\n",
      "|    fps                | 474      |\n",
      "|    iterations         | 3400     |\n",
      "|    time_elapsed       | 35       |\n",
      "|    total_timesteps    | 17000    |\n",
      "| train/                |          |\n",
      "|    entropy_loss       | -1.53    |\n",
      "|    explained_variance | nan      |\n",
      "|    learning_rate      | 0.0002   |\n",
      "|    n_updates          | 3399     |\n",
      "|    policy_loss        | 0.203    |\n",
      "|    std                | 1.12     |\n",
      "|    value_loss         | 0.0217   |\n",
      "------------------------------------\n",
      "------------------------------------\n",
      "| time/                 |          |\n",
      "|    fps                | 474      |\n",
      "|    iterations         | 3500     |\n",
      "|    time_elapsed       | 36       |\n",
      "|    total_timesteps    | 17500    |\n",
      "| train/                |          |\n",
      "|    entropy_loss       | -1.54    |\n",
      "|    explained_variance | -6.68    |\n",
      "|    learning_rate      | 0.0002   |\n",
      "|    n_updates          | 3499     |\n",
      "|    policy_loss        | 0.324    |\n",
      "|    std                | 1.13     |\n",
      "|    value_loss         | 0.0629   |\n",
      "------------------------------------\n",
      "-------------------------------------\n",
      "| time/                 |           |\n",
      "|    fps                | 474       |\n",
      "|    iterations         | 3600      |\n",
      "|    time_elapsed       | 37        |\n",
      "|    total_timesteps    | 18000     |\n",
      "| train/                |           |\n",
      "|    entropy_loss       | -1.55     |\n",
      "|    explained_variance | -2.79e+12 |\n",
      "|    learning_rate      | 0.0002    |\n",
      "|    n_updates          | 3599      |\n",
      "|    policy_loss        | 0.289     |\n",
      "|    std                | 1.14      |\n",
      "|    value_loss         | 0.0601    |\n",
      "-------------------------------------\n",
      "------------------------------------\n",
      "| time/                 |          |\n",
      "|    fps                | 474      |\n",
      "|    iterations         | 3700     |\n",
      "|    time_elapsed       | 39       |\n",
      "|    total_timesteps    | 18500    |\n",
      "| train/                |          |\n",
      "|    entropy_loss       | -1.55    |\n",
      "|    explained_variance | -27.4    |\n",
      "|    learning_rate      | 0.0002   |\n",
      "|    n_updates          | 3699     |\n",
      "|    policy_loss        | 0.103    |\n",
      "|    std                | 1.14     |\n",
      "|    value_loss         | 0.0239   |\n",
      "------------------------------------\n",
      "------------------------------------\n",
      "| time/                 |          |\n",
      "|    fps                | 474      |\n",
      "|    iterations         | 3800     |\n",
      "|    time_elapsed       | 40       |\n",
      "|    total_timesteps    | 19000    |\n",
      "| train/                |          |\n",
      "|    entropy_loss       | -1.55    |\n",
      "|    explained_variance | -12      |\n",
      "|    learning_rate      | 0.0002   |\n",
      "|    n_updates          | 3799     |\n",
      "|    policy_loss        | -0.106   |\n",
      "|    std                | 1.14     |\n",
      "|    value_loss         | 0.024    |\n",
      "------------------------------------\n",
      "------------------------------------\n",
      "| time/                 |          |\n",
      "|    fps                | 474      |\n",
      "|    iterations         | 3900     |\n",
      "|    time_elapsed       | 41       |\n",
      "|    total_timesteps    | 19500    |\n",
      "| train/                |          |\n",
      "|    entropy_loss       | -1.55    |\n",
      "|    explained_variance | -43.1    |\n",
      "|    learning_rate      | 0.0002   |\n",
      "|    n_updates          | 3899     |\n",
      "|    policy_loss        | -1.78    |\n",
      "|    std                | 1.14     |\n",
      "|    value_loss         | 1.53     |\n",
      "------------------------------------\n",
      "------------------------------------\n",
      "| time/                 |          |\n",
      "|    fps                | 473      |\n",
      "|    iterations         | 4000     |\n",
      "|    time_elapsed       | 42       |\n",
      "|    total_timesteps    | 20000    |\n",
      "| train/                |          |\n",
      "|    entropy_loss       | -1.55    |\n",
      "|    explained_variance | -6.21    |\n",
      "|    learning_rate      | 0.0002   |\n",
      "|    n_updates          | 3999     |\n",
      "|    policy_loss        | -0.176   |\n",
      "|    std                | 1.14     |\n",
      "|    value_loss         | 0.132    |\n",
      "------------------------------------\n",
      "------------------------------------\n",
      "| time/                 |          |\n",
      "|    fps                | 473      |\n",
      "|    iterations         | 4100     |\n",
      "|    time_elapsed       | 43       |\n",
      "|    total_timesteps    | 20500    |\n",
      "| train/                |          |\n",
      "|    entropy_loss       | -1.55    |\n",
      "|    explained_variance | nan      |\n",
      "|    learning_rate      | 0.0002   |\n",
      "|    n_updates          | 4099     |\n",
      "|    policy_loss        | 0.154    |\n",
      "|    std                | 1.14     |\n",
      "|    value_loss         | 0.0398   |\n",
      "------------------------------------\n",
      "------------------------------------\n",
      "| time/                 |          |\n",
      "|    fps                | 473      |\n",
      "|    iterations         | 4200     |\n",
      "|    time_elapsed       | 44       |\n",
      "|    total_timesteps    | 21000    |\n",
      "| train/                |          |\n",
      "|    entropy_loss       | -1.56    |\n",
      "|    explained_variance | -5.18    |\n",
      "|    learning_rate      | 0.0002   |\n",
      "|    n_updates          | 4199     |\n",
      "|    policy_loss        | -0.046   |\n",
      "|    std                | 1.15     |\n",
      "|    value_loss         | 0.0853   |\n",
      "------------------------------------\n",
      "------------------------------------\n",
      "| time/                 |          |\n",
      "|    fps                | 473      |\n",
      "|    iterations         | 4300     |\n",
      "|    time_elapsed       | 45       |\n",
      "|    total_timesteps    | 21500    |\n",
      "| train/                |          |\n",
      "|    entropy_loss       | -1.56    |\n",
      "|    explained_variance | -5.21    |\n",
      "|    learning_rate      | 0.0002   |\n",
      "|    n_updates          | 4299     |\n",
      "|    policy_loss        | 0.313    |\n",
      "|    std                | 1.15     |\n",
      "|    value_loss         | 0.111    |\n",
      "------------------------------------\n",
      "------------------------------------\n",
      "| time/                 |          |\n",
      "|    fps                | 472      |\n",
      "|    iterations         | 4400     |\n",
      "|    time_elapsed       | 46       |\n",
      "|    total_timesteps    | 22000    |\n",
      "| train/                |          |\n",
      "|    entropy_loss       | -1.56    |\n",
      "|    explained_variance | -53.2    |\n",
      "|    learning_rate      | 0.0002   |\n",
      "|    n_updates          | 4399     |\n",
      "|    policy_loss        | -0.616   |\n",
      "|    std                | 1.15     |\n",
      "|    value_loss         | 0.28     |\n",
      "------------------------------------\n",
      "------------------------------------\n",
      "| time/                 |          |\n",
      "|    fps                | 472      |\n",
      "|    iterations         | 4500     |\n",
      "|    time_elapsed       | 47       |\n",
      "|    total_timesteps    | 22500    |\n",
      "| train/                |          |\n",
      "|    entropy_loss       | -1.56    |\n",
      "|    explained_variance | -94.1    |\n",
      "|    learning_rate      | 0.0002   |\n",
      "|    n_updates          | 4499     |\n",
      "|    policy_loss        | 0.666    |\n",
      "|    std                | 1.15     |\n",
      "|    value_loss         | 0.231    |\n",
      "------------------------------------\n",
      "day: 2515, episode: 10\n",
      "begin_total_asset:100000.00\n",
      "end_total_asset:603107.11\n",
      "total_reward:503107.11\n",
      "total_cost: 6282.27\n",
      "total_trades: 2499\n",
      "Sharpe: 0.930\n",
      "=================================\n",
      "------------------------------------\n",
      "| time/                 |          |\n",
      "|    fps                | 472      |\n",
      "|    iterations         | 4600     |\n",
      "|    time_elapsed       | 48       |\n",
      "|    total_timesteps    | 23000    |\n",
      "| train/                |          |\n",
      "|    entropy_loss       | -1.56    |\n",
      "|    explained_variance | -32.2    |\n",
      "|    learning_rate      | 0.0002   |\n",
      "|    n_updates          | 4599     |\n",
      "|    policy_loss        | -1.56    |\n",
      "|    std                | 1.15     |\n",
      "|    value_loss         | 0.999    |\n",
      "------------------------------------\n",
      "------------------------------------\n",
      "| time/                 |          |\n",
      "|    fps                | 472      |\n",
      "|    iterations         | 4700     |\n",
      "|    time_elapsed       | 49       |\n",
      "|    total_timesteps    | 23500    |\n",
      "| train/                |          |\n",
      "|    entropy_loss       | -1.56    |\n",
      "|    explained_variance | -29.5    |\n",
      "|    learning_rate      | 0.0002   |\n",
      "|    n_updates          | 4699     |\n",
      "|    policy_loss        | -0.842   |\n",
      "|    std                | 1.15     |\n",
      "|    value_loss         | 0.298    |\n",
      "------------------------------------\n",
      "------------------------------------\n",
      "| time/                 |          |\n",
      "|    fps                | 472      |\n",
      "|    iterations         | 4800     |\n",
      "|    time_elapsed       | 50       |\n",
      "|    total_timesteps    | 24000    |\n",
      "| train/                |          |\n",
      "|    entropy_loss       | -1.56    |\n",
      "|    explained_variance | -440     |\n",
      "|    learning_rate      | 0.0002   |\n",
      "|    n_updates          | 4799     |\n",
      "|    policy_loss        | -0.00383 |\n",
      "|    std                | 1.15     |\n",
      "|    value_loss         | 0.0501   |\n",
      "------------------------------------\n",
      "------------------------------------\n",
      "| time/                 |          |\n",
      "|    fps                | 471      |\n",
      "|    iterations         | 4900     |\n",
      "|    time_elapsed       | 51       |\n",
      "|    total_timesteps    | 24500    |\n",
      "| train/                |          |\n",
      "|    entropy_loss       | -1.56    |\n",
      "|    explained_variance | -82.2    |\n",
      "|    learning_rate      | 0.0002   |\n",
      "|    n_updates          | 4899     |\n",
      "|    policy_loss        | 0.757    |\n",
      "|    std                | 1.15     |\n",
      "|    value_loss         | 0.177    |\n",
      "------------------------------------\n",
      "------------------------------------\n",
      "| time/                 |          |\n",
      "|    fps                | 471      |\n",
      "|    iterations         | 5000     |\n",
      "|    time_elapsed       | 52       |\n",
      "|    total_timesteps    | 25000    |\n",
      "| train/                |          |\n",
      "|    entropy_loss       | -1.56    |\n",
      "|    explained_variance | -50.3    |\n",
      "|    learning_rate      | 0.0002   |\n",
      "|    n_updates          | 4999     |\n",
      "|    policy_loss        | 1.26     |\n",
      "|    std                | 1.15     |\n",
      "|    value_loss         | 1.24     |\n",
      "------------------------------------\n",
      "------------------------------------\n",
      "| time/                 |          |\n",
      "|    fps                | 471      |\n",
      "|    iterations         | 5100     |\n",
      "|    time_elapsed       | 54       |\n",
      "|    total_timesteps    | 25500    |\n",
      "| train/                |          |\n",
      "|    entropy_loss       | -1.56    |\n",
      "|    explained_variance | -13.9    |\n",
      "|    learning_rate      | 0.0002   |\n",
      "|    n_updates          | 5099     |\n",
      "|    policy_loss        | -0.904   |\n",
      "|    std                | 1.15     |\n",
      "|    value_loss         | 0.287    |\n",
      "------------------------------------\n",
      "------------------------------------\n",
      "| time/                 |          |\n",
      "|    fps                | 471      |\n",
      "|    iterations         | 5200     |\n",
      "|    time_elapsed       | 55       |\n",
      "|    total_timesteps    | 26000    |\n",
      "| train/                |          |\n",
      "|    entropy_loss       | -1.56    |\n",
      "|    explained_variance | -13.5    |\n",
      "|    learning_rate      | 0.0002   |\n",
      "|    n_updates          | 5199     |\n",
      "|    policy_loss        | 0.0981   |\n",
      "|    std                | 1.15     |\n",
      "|    value_loss         | 0.101    |\n",
      "------------------------------------\n",
      "------------------------------------\n",
      "| time/                 |          |\n",
      "|    fps                | 470      |\n",
      "|    iterations         | 5300     |\n",
      "|    time_elapsed       | 56       |\n",
      "|    total_timesteps    | 26500    |\n",
      "| train/                |          |\n",
      "|    entropy_loss       | -1.56    |\n",
      "|    explained_variance | -2.44    |\n",
      "|    learning_rate      | 0.0002   |\n",
      "|    n_updates          | 5299     |\n",
      "|    policy_loss        | 0.0399   |\n",
      "|    std                | 1.15     |\n",
      "|    value_loss         | 0.0139   |\n",
      "------------------------------------\n",
      "------------------------------------\n",
      "| time/                 |          |\n",
      "|    fps                | 470      |\n",
      "|    iterations         | 5400     |\n",
      "|    time_elapsed       | 57       |\n",
      "|    total_timesteps    | 27000    |\n",
      "| train/                |          |\n",
      "|    entropy_loss       | -1.56    |\n",
      "|    explained_variance | -64.9    |\n",
      "|    learning_rate      | 0.0002   |\n",
      "|    n_updates          | 5399     |\n",
      "|    policy_loss        | 1        |\n",
      "|    std                | 1.15     |\n",
      "|    value_loss         | 0.324    |\n",
      "------------------------------------\n",
      "------------------------------------\n",
      "| time/                 |          |\n",
      "|    fps                | 471      |\n",
      "|    iterations         | 5500     |\n",
      "|    time_elapsed       | 58       |\n",
      "|    total_timesteps    | 27500    |\n",
      "| train/                |          |\n",
      "|    entropy_loss       | -1.56    |\n",
      "|    explained_variance | -326     |\n",
      "|    learning_rate      | 0.0002   |\n",
      "|    n_updates          | 5499     |\n",
      "|    policy_loss        | 1.2      |\n",
      "|    std                | 1.15     |\n",
      "|    value_loss         | 1.14     |\n",
      "------------------------------------\n",
      "------------------------------------\n",
      "| time/                 |          |\n",
      "|    fps                | 471      |\n",
      "|    iterations         | 5600     |\n",
      "|    time_elapsed       | 59       |\n",
      "|    total_timesteps    | 28000    |\n",
      "| train/                |          |\n",
      "|    entropy_loss       | -1.56    |\n",
      "|    explained_variance | -6.79    |\n",
      "|    learning_rate      | 0.0002   |\n",
      "|    n_updates          | 5599     |\n",
      "|    policy_loss        | 0.6      |\n",
      "|    std                | 1.16     |\n",
      "|    value_loss         | 0.0869   |\n",
      "------------------------------------\n",
      "------------------------------------\n",
      "| time/                 |          |\n",
      "|    fps                | 470      |\n",
      "|    iterations         | 5700     |\n",
      "|    time_elapsed       | 60       |\n",
      "|    total_timesteps    | 28500    |\n",
      "| train/                |          |\n",
      "|    entropy_loss       | -1.57    |\n",
      "|    explained_variance | 0.577    |\n",
      "|    learning_rate      | 0.0002   |\n",
      "|    n_updates          | 5699     |\n",
      "|    policy_loss        | -0.288   |\n",
      "|    std                | 1.16     |\n",
      "|    value_loss         | 0.0374   |\n",
      "------------------------------------\n",
      "------------------------------------\n",
      "| time/                 |          |\n",
      "|    fps                | 470      |\n",
      "|    iterations         | 5800     |\n",
      "|    time_elapsed       | 61       |\n",
      "|    total_timesteps    | 29000    |\n",
      "| train/                |          |\n",
      "|    entropy_loss       | -1.57    |\n",
      "|    explained_variance | -19.2    |\n",
      "|    learning_rate      | 0.0002   |\n",
      "|    n_updates          | 5799     |\n",
      "|    policy_loss        | 1.01     |\n",
      "|    std                | 1.16     |\n",
      "|    value_loss         | 0.503    |\n",
      "------------------------------------\n",
      "------------------------------------\n",
      "| time/                 |          |\n",
      "|    fps                | 470      |\n",
      "|    iterations         | 5900     |\n",
      "|    time_elapsed       | 62       |\n",
      "|    total_timesteps    | 29500    |\n",
      "| train/                |          |\n",
      "|    entropy_loss       | -1.57    |\n",
      "|    explained_variance | -22.1    |\n",
      "|    learning_rate      | 0.0002   |\n",
      "|    n_updates          | 5899     |\n",
      "|    policy_loss        | -0.423   |\n",
      "|    std                | 1.16     |\n",
      "|    value_loss         | 0.0844   |\n",
      "------------------------------------\n",
      "------------------------------------\n",
      "| time/                 |          |\n",
      "|    fps                | 470      |\n",
      "|    iterations         | 6000     |\n",
      "|    time_elapsed       | 63       |\n",
      "|    total_timesteps    | 30000    |\n",
      "| train/                |          |\n",
      "|    entropy_loss       | -1.57    |\n",
      "|    explained_variance | -36.9    |\n",
      "|    learning_rate      | 0.0002   |\n",
      "|    n_updates          | 5999     |\n",
      "|    policy_loss        | -1.04    |\n",
      "|    std                | 1.16     |\n",
      "|    value_loss         | 0.819    |\n",
      "------------------------------------\n",
      "------------------------------------\n",
      "| time/                 |          |\n",
      "|    fps                | 469      |\n",
      "|    iterations         | 6100     |\n",
      "|    time_elapsed       | 64       |\n",
      "|    total_timesteps    | 30500    |\n",
      "| train/                |          |\n",
      "|    entropy_loss       | -1.57    |\n",
      "|    explained_variance | -5.45    |\n",
      "|    learning_rate      | 0.0002   |\n",
      "|    n_updates          | 6099     |\n",
      "|    policy_loss        | 0.0504   |\n",
      "|    std                | 1.16     |\n",
      "|    value_loss         | 0.00531  |\n",
      "------------------------------------\n",
      "------------------------------------\n",
      "| time/                 |          |\n",
      "|    fps                | 469      |\n",
      "|    iterations         | 6200     |\n",
      "|    time_elapsed       | 65       |\n",
      "|    total_timesteps    | 31000    |\n",
      "| train/                |          |\n",
      "|    entropy_loss       | -1.57    |\n",
      "|    explained_variance | -0.338   |\n",
      "|    learning_rate      | 0.0002   |\n",
      "|    n_updates          | 6199     |\n",
      "|    policy_loss        | 0.0413   |\n",
      "|    std                | 1.16     |\n",
      "|    value_loss         | 0.0166   |\n",
      "------------------------------------\n",
      "------------------------------------\n",
      "| time/                 |          |\n",
      "|    fps                | 469      |\n",
      "|    iterations         | 6300     |\n",
      "|    time_elapsed       | 67       |\n",
      "|    total_timesteps    | 31500    |\n",
      "| train/                |          |\n",
      "|    entropy_loss       | -1.57    |\n",
      "|    explained_variance | -21      |\n",
      "|    learning_rate      | 0.0002   |\n",
      "|    n_updates          | 6299     |\n",
      "|    policy_loss        | -0.216   |\n",
      "|    std                | 1.16     |\n",
      "|    value_loss         | 0.0329   |\n",
      "------------------------------------\n",
      "-------------------------------------\n",
      "| time/                 |           |\n",
      "|    fps                | 469       |\n",
      "|    iterations         | 6400      |\n",
      "|    time_elapsed       | 68        |\n",
      "|    total_timesteps    | 32000     |\n",
      "| train/                |           |\n",
      "|    entropy_loss       | -1.57     |\n",
      "|    explained_variance | -2.51e+03 |\n",
      "|    learning_rate      | 0.0002    |\n",
      "|    n_updates          | 6399      |\n",
      "|    policy_loss        | 0.137     |\n",
      "|    std                | 1.16      |\n",
      "|    value_loss         | 0.173     |\n",
      "-------------------------------------\n",
      "------------------------------------\n",
      "| time/                 |          |\n",
      "|    fps                | 469      |\n",
      "|    iterations         | 6500     |\n",
      "|    time_elapsed       | 69       |\n",
      "|    total_timesteps    | 32500    |\n",
      "| train/                |          |\n",
      "|    entropy_loss       | -1.57    |\n",
      "|    explained_variance | -438     |\n",
      "|    learning_rate      | 0.0002   |\n",
      "|    n_updates          | 6499     |\n",
      "|    policy_loss        | 1.02     |\n",
      "|    std                | 1.16     |\n",
      "|    value_loss         | 1.04     |\n",
      "------------------------------------\n",
      "------------------------------------\n",
      "| time/                 |          |\n",
      "|    fps                | 469      |\n",
      "|    iterations         | 6600     |\n",
      "|    time_elapsed       | 70       |\n",
      "|    total_timesteps    | 33000    |\n",
      "| train/                |          |\n",
      "|    entropy_loss       | -1.57    |\n",
      "|    explained_variance | -3.54    |\n",
      "|    learning_rate      | 0.0002   |\n",
      "|    n_updates          | 6599     |\n",
      "|    policy_loss        | -0.0255  |\n",
      "|    std                | 1.16     |\n",
      "|    value_loss         | 0.0244   |\n",
      "------------------------------------\n",
      "------------------------------------\n",
      "| time/                 |          |\n",
      "|    fps                | 469      |\n",
      "|    iterations         | 6700     |\n",
      "|    time_elapsed       | 71       |\n",
      "|    total_timesteps    | 33500    |\n",
      "| train/                |          |\n",
      "|    entropy_loss       | -1.57    |\n",
      "|    explained_variance | -5.85    |\n",
      "|    learning_rate      | 0.0002   |\n",
      "|    n_updates          | 6699     |\n",
      "|    policy_loss        | 0.816    |\n",
      "|    std                | 1.17     |\n",
      "|    value_loss         | 0.297    |\n",
      "------------------------------------\n",
      "------------------------------------\n",
      "| time/                 |          |\n",
      "|    fps                | 469      |\n",
      "|    iterations         | 6800     |\n",
      "|    time_elapsed       | 72       |\n",
      "|    total_timesteps    | 34000    |\n",
      "| train/                |          |\n",
      "|    entropy_loss       | -1.57    |\n",
      "|    explained_variance | -19.8    |\n",
      "|    learning_rate      | 0.0002   |\n",
      "|    n_updates          | 6799     |\n",
      "|    policy_loss        | 0.623    |\n",
      "|    std                | 1.16     |\n",
      "|    value_loss         | 0.173    |\n",
      "------------------------------------\n",
      "------------------------------------\n",
      "| time/                 |          |\n",
      "|    fps                | 469      |\n",
      "|    iterations         | 6900     |\n",
      "|    time_elapsed       | 73       |\n",
      "|    total_timesteps    | 34500    |\n",
      "| train/                |          |\n",
      "|    entropy_loss       | -1.58    |\n",
      "|    explained_variance | nan      |\n",
      "|    learning_rate      | 0.0002   |\n",
      "|    n_updates          | 6899     |\n",
      "|    policy_loss        | -1.89    |\n",
      "|    std                | 1.17     |\n",
      "|    value_loss         | 1.83     |\n",
      "------------------------------------\n",
      "------------------------------------\n",
      "| time/                 |          |\n",
      "|    fps                | 469      |\n",
      "|    iterations         | 7000     |\n",
      "|    time_elapsed       | 74       |\n",
      "|    total_timesteps    | 35000    |\n",
      "| train/                |          |\n",
      "|    entropy_loss       | -1.57    |\n",
      "|    explained_variance | -96.5    |\n",
      "|    learning_rate      | 0.0002   |\n",
      "|    n_updates          | 6999     |\n",
      "|    policy_loss        | -1.74    |\n",
      "|    std                | 1.17     |\n",
      "|    value_loss         | 1.62     |\n",
      "------------------------------------\n",
      "------------------------------------\n",
      "| time/                 |          |\n",
      "|    fps                | 469      |\n",
      "|    iterations         | 7100     |\n",
      "|    time_elapsed       | 75       |\n",
      "|    total_timesteps    | 35500    |\n",
      "| train/                |          |\n",
      "|    entropy_loss       | -1.57    |\n",
      "|    explained_variance | -7.58    |\n",
      "|    learning_rate      | 0.0002   |\n",
      "|    n_updates          | 7099     |\n",
      "|    policy_loss        | -0.335   |\n",
      "|    std                | 1.17     |\n",
      "|    value_loss         | 0.133    |\n",
      "------------------------------------\n",
      "-------------------------------------\n",
      "| time/                 |           |\n",
      "|    fps                | 469       |\n",
      "|    iterations         | 7200      |\n",
      "|    time_elapsed       | 76        |\n",
      "|    total_timesteps    | 36000     |\n",
      "| train/                |           |\n",
      "|    entropy_loss       | -1.57     |\n",
      "|    explained_variance | -1.29e+03 |\n",
      "|    learning_rate      | 0.0002    |\n",
      "|    n_updates          | 7199      |\n",
      "|    policy_loss        | 0.283     |\n",
      "|    std                | 1.17      |\n",
      "|    value_loss         | 0.16      |\n",
      "-------------------------------------\n",
      "------------------------------------\n",
      "| time/                 |          |\n",
      "|    fps                | 469      |\n",
      "|    iterations         | 7300     |\n",
      "|    time_elapsed       | 77       |\n",
      "|    total_timesteps    | 36500    |\n",
      "| train/                |          |\n",
      "|    entropy_loss       | -1.58    |\n",
      "|    explained_variance | -44.7    |\n",
      "|    learning_rate      | 0.0002   |\n",
      "|    n_updates          | 7299     |\n",
      "|    policy_loss        | -0.575   |\n",
      "|    std                | 1.17     |\n",
      "|    value_loss         | 0.119    |\n",
      "------------------------------------\n",
      "------------------------------------\n",
      "| time/                 |          |\n",
      "|    fps                | 469      |\n",
      "|    iterations         | 7400     |\n",
      "|    time_elapsed       | 78       |\n",
      "|    total_timesteps    | 37000    |\n",
      "| train/                |          |\n",
      "|    entropy_loss       | -1.58    |\n",
      "|    explained_variance | -60.5    |\n",
      "|    learning_rate      | 0.0002   |\n",
      "|    n_updates          | 7399     |\n",
      "|    policy_loss        | -1.19    |\n",
      "|    std                | 1.17     |\n",
      "|    value_loss         | 0.626    |\n",
      "------------------------------------\n",
      "------------------------------------\n",
      "| time/                 |          |\n",
      "|    fps                | 469      |\n",
      "|    iterations         | 7500     |\n",
      "|    time_elapsed       | 79       |\n",
      "|    total_timesteps    | 37500    |\n",
      "| train/                |          |\n",
      "|    entropy_loss       | -1.58    |\n",
      "|    explained_variance | -49.9    |\n",
      "|    learning_rate      | 0.0002   |\n",
      "|    n_updates          | 7499     |\n",
      "|    policy_loss        | -0.00891 |\n",
      "|    std                | 1.18     |\n",
      "|    value_loss         | 0.178    |\n",
      "------------------------------------\n",
      "------------------------------------\n",
      "| time/                 |          |\n",
      "|    fps                | 469      |\n",
      "|    iterations         | 7600     |\n",
      "|    time_elapsed       | 80       |\n",
      "|    total_timesteps    | 38000    |\n",
      "| train/                |          |\n",
      "|    entropy_loss       | -1.59    |\n",
      "|    explained_variance | -102     |\n",
      "|    learning_rate      | 0.0002   |\n",
      "|    n_updates          | 7599     |\n",
      "|    policy_loss        | -0.398   |\n",
      "|    std                | 1.18     |\n",
      "|    value_loss         | 0.0679   |\n",
      "------------------------------------\n",
      "------------------------------------\n",
      "| time/                 |          |\n",
      "|    fps                | 469      |\n",
      "|    iterations         | 7700     |\n",
      "|    time_elapsed       | 81       |\n",
      "|    total_timesteps    | 38500    |\n",
      "| train/                |          |\n",
      "|    entropy_loss       | -1.58    |\n",
      "|    explained_variance | -1.94    |\n",
      "|    learning_rate      | 0.0002   |\n",
      "|    n_updates          | 7699     |\n",
      "|    policy_loss        | -0.403   |\n",
      "|    std                | 1.18     |\n",
      "|    value_loss         | 0.0685   |\n",
      "------------------------------------\n",
      "------------------------------------\n",
      "| time/                 |          |\n",
      "|    fps                | 469      |\n",
      "|    iterations         | 7800     |\n",
      "|    time_elapsed       | 83       |\n",
      "|    total_timesteps    | 39000    |\n",
      "| train/                |          |\n",
      "|    entropy_loss       | -1.59    |\n",
      "|    explained_variance | -90.2    |\n",
      "|    learning_rate      | 0.0002   |\n",
      "|    n_updates          | 7799     |\n",
      "|    policy_loss        | 0.354    |\n",
      "|    std                | 1.18     |\n",
      "|    value_loss         | 0.0865   |\n",
      "------------------------------------\n",
      "------------------------------------\n",
      "| time/                 |          |\n",
      "|    fps                | 469      |\n",
      "|    iterations         | 7900     |\n",
      "|    time_elapsed       | 84       |\n",
      "|    total_timesteps    | 39500    |\n",
      "| train/                |          |\n",
      "|    entropy_loss       | -1.59    |\n",
      "|    explained_variance | -37.6    |\n",
      "|    learning_rate      | 0.0002   |\n",
      "|    n_updates          | 7899     |\n",
      "|    policy_loss        | -0.0632  |\n",
      "|    std                | 1.18     |\n",
      "|    value_loss         | 0.158    |\n",
      "------------------------------------\n",
      "------------------------------------\n",
      "| time/                 |          |\n",
      "|    fps                | 469      |\n",
      "|    iterations         | 8000     |\n",
      "|    time_elapsed       | 85       |\n",
      "|    total_timesteps    | 40000    |\n",
      "| train/                |          |\n",
      "|    entropy_loss       | -1.59    |\n",
      "|    explained_variance | -10.8    |\n",
      "|    learning_rate      | 0.0002   |\n",
      "|    n_updates          | 7999     |\n",
      "|    policy_loss        | 1.77     |\n",
      "|    std                | 1.18     |\n",
      "|    value_loss         | 1.21     |\n",
      "------------------------------------\n",
      "------------------------------------\n",
      "| time/                 |          |\n",
      "|    fps                | 469      |\n",
      "|    iterations         | 8100     |\n",
      "|    time_elapsed       | 86       |\n",
      "|    total_timesteps    | 40500    |\n",
      "| train/                |          |\n",
      "|    entropy_loss       | -1.59    |\n",
      "|    explained_variance | -0.0673  |\n",
      "|    learning_rate      | 0.0002   |\n",
      "|    n_updates          | 8099     |\n",
      "|    policy_loss        | 0.304    |\n",
      "|    std                | 1.19     |\n",
      "|    value_loss         | 0.0336   |\n",
      "------------------------------------\n",
      "------------------------------------\n",
      "| time/                 |          |\n",
      "|    fps                | 469      |\n",
      "|    iterations         | 8200     |\n",
      "|    time_elapsed       | 87       |\n",
      "|    total_timesteps    | 41000    |\n",
      "| train/                |          |\n",
      "|    entropy_loss       | -1.6     |\n",
      "|    explained_variance | -43.7    |\n",
      "|    learning_rate      | 0.0002   |\n",
      "|    n_updates          | 8199     |\n",
      "|    policy_loss        | -0.00285 |\n",
      "|    std                | 1.19     |\n",
      "|    value_loss         | 0.011    |\n",
      "------------------------------------\n",
      "------------------------------------\n",
      "| time/                 |          |\n",
      "|    fps                | 469      |\n",
      "|    iterations         | 8300     |\n",
      "|    time_elapsed       | 88       |\n",
      "|    total_timesteps    | 41500    |\n",
      "| train/                |          |\n",
      "|    entropy_loss       | -1.6     |\n",
      "|    explained_variance | -57.3    |\n",
      "|    learning_rate      | 0.0002   |\n",
      "|    n_updates          | 8299     |\n",
      "|    policy_loss        | 0.64     |\n",
      "|    std                | 1.2      |\n",
      "|    value_loss         | 0.24     |\n",
      "------------------------------------\n",
      "------------------------------------\n",
      "| time/                 |          |\n",
      "|    fps                | 469      |\n",
      "|    iterations         | 8400     |\n",
      "|    time_elapsed       | 89       |\n",
      "|    total_timesteps    | 42000    |\n",
      "| train/                |          |\n",
      "|    entropy_loss       | -1.6     |\n",
      "|    explained_variance | -279     |\n",
      "|    learning_rate      | 0.0002   |\n",
      "|    n_updates          | 8399     |\n",
      "|    policy_loss        | 0.0412   |\n",
      "|    std                | 1.2      |\n",
      "|    value_loss         | 0.0189   |\n",
      "------------------------------------\n",
      "------------------------------------\n",
      "| time/                 |          |\n",
      "|    fps                | 469      |\n",
      "|    iterations         | 8500     |\n",
      "|    time_elapsed       | 90       |\n",
      "|    total_timesteps    | 42500    |\n",
      "| train/                |          |\n",
      "|    entropy_loss       | -1.6     |\n",
      "|    explained_variance | -49.8    |\n",
      "|    learning_rate      | 0.0002   |\n",
      "|    n_updates          | 8499     |\n",
      "|    policy_loss        | 0.128    |\n",
      "|    std                | 1.2      |\n",
      "|    value_loss         | 0.0926   |\n",
      "------------------------------------\n",
      "------------------------------------\n",
      "| time/                 |          |\n",
      "|    fps                | 469      |\n",
      "|    iterations         | 8600     |\n",
      "|    time_elapsed       | 91       |\n",
      "|    total_timesteps    | 43000    |\n",
      "| train/                |          |\n",
      "|    entropy_loss       | -1.61    |\n",
      "|    explained_variance | -27.3    |\n",
      "|    learning_rate      | 0.0002   |\n",
      "|    n_updates          | 8599     |\n",
      "|    policy_loss        | -0.0109  |\n",
      "|    std                | 1.21     |\n",
      "|    value_loss         | 0.0208   |\n",
      "------------------------------------\n",
      "------------------------------------\n",
      "| time/                 |          |\n",
      "|    fps                | 468      |\n",
      "|    iterations         | 8700     |\n",
      "|    time_elapsed       | 92       |\n",
      "|    total_timesteps    | 43500    |\n",
      "| train/                |          |\n",
      "|    entropy_loss       | -1.61    |\n",
      "|    explained_variance | -348     |\n",
      "|    learning_rate      | 0.0002   |\n",
      "|    n_updates          | 8699     |\n",
      "|    policy_loss        | 0.0117   |\n",
      "|    std                | 1.21     |\n",
      "|    value_loss         | 0.0354   |\n",
      "------------------------------------\n",
      "-------------------------------------\n",
      "| time/                 |           |\n",
      "|    fps                | 468       |\n",
      "|    iterations         | 8800      |\n",
      "|    time_elapsed       | 93        |\n",
      "|    total_timesteps    | 44000     |\n",
      "| train/                |           |\n",
      "|    entropy_loss       | -1.6      |\n",
      "|    explained_variance | -3.18e+03 |\n",
      "|    learning_rate      | 0.0002    |\n",
      "|    n_updates          | 8799      |\n",
      "|    policy_loss        | 0.147     |\n",
      "|    std                | 1.2       |\n",
      "|    value_loss         | 0.173     |\n",
      "-------------------------------------\n",
      "------------------------------------\n",
      "| time/                 |          |\n",
      "|    fps                | 469      |\n",
      "|    iterations         | 8900     |\n",
      "|    time_elapsed       | 94       |\n",
      "|    total_timesteps    | 44500    |\n",
      "| train/                |          |\n",
      "|    entropy_loss       | -1.6     |\n",
      "|    explained_variance | -695     |\n",
      "|    learning_rate      | 0.0002   |\n",
      "|    n_updates          | 8899     |\n",
      "|    policy_loss        | 0.537    |\n",
      "|    std                | 1.2      |\n",
      "|    value_loss         | 0.271    |\n",
      "------------------------------------\n",
      "-------------------------------------\n",
      "| time/                 |           |\n",
      "|    fps                | 468       |\n",
      "|    iterations         | 9000      |\n",
      "|    time_elapsed       | 95        |\n",
      "|    total_timesteps    | 45000     |\n",
      "| train/                |           |\n",
      "|    entropy_loss       | -1.6      |\n",
      "|    explained_variance | -7.74e+03 |\n",
      "|    learning_rate      | 0.0002    |\n",
      "|    n_updates          | 8999      |\n",
      "|    policy_loss        | 1.98      |\n",
      "|    std                | 1.2       |\n",
      "|    value_loss         | 3.39      |\n",
      "-------------------------------------\n",
      "-------------------------------------\n",
      "| time/                 |           |\n",
      "|    fps                | 468       |\n",
      "|    iterations         | 9100      |\n",
      "|    time_elapsed       | 97        |\n",
      "|    total_timesteps    | 45500     |\n",
      "| train/                |           |\n",
      "|    entropy_loss       | -1.6      |\n",
      "|    explained_variance | -1.82e+05 |\n",
      "|    learning_rate      | 0.0002    |\n",
      "|    n_updates          | 9099      |\n",
      "|    policy_loss        | -0.244    |\n",
      "|    std                | 1.2       |\n",
      "|    value_loss         | 0.106     |\n",
      "-------------------------------------\n",
      "------------------------------------\n",
      "| time/                 |          |\n",
      "|    fps                | 468      |\n",
      "|    iterations         | 9200     |\n",
      "|    time_elapsed       | 98       |\n",
      "|    total_timesteps    | 46000    |\n",
      "| train/                |          |\n",
      "|    entropy_loss       | -1.6     |\n",
      "|    explained_variance | -33.5    |\n",
      "|    learning_rate      | 0.0002   |\n",
      "|    n_updates          | 9199     |\n",
      "|    policy_loss        | -0.00662 |\n",
      "|    std                | 1.2      |\n",
      "|    value_loss         | 0.00572  |\n",
      "------------------------------------\n",
      "------------------------------------\n",
      "| time/                 |          |\n",
      "|    fps                | 468      |\n",
      "|    iterations         | 9300     |\n",
      "|    time_elapsed       | 99       |\n",
      "|    total_timesteps    | 46500    |\n",
      "| train/                |          |\n",
      "|    entropy_loss       | -1.6     |\n",
      "|    explained_variance | -58.6    |\n",
      "|    learning_rate      | 0.0002   |\n",
      "|    n_updates          | 9299     |\n",
      "|    policy_loss        | 0.189    |\n",
      "|    std                | 1.2      |\n",
      "|    value_loss         | 0.0371   |\n",
      "------------------------------------\n",
      "------------------------------------\n",
      "| time/                 |          |\n",
      "|    fps                | 468      |\n",
      "|    iterations         | 9400     |\n",
      "|    time_elapsed       | 100      |\n",
      "|    total_timesteps    | 47000    |\n",
      "| train/                |          |\n",
      "|    entropy_loss       | -1.6     |\n",
      "|    explained_variance | -304     |\n",
      "|    learning_rate      | 0.0002   |\n",
      "|    n_updates          | 9399     |\n",
      "|    policy_loss        | -0.539   |\n",
      "|    std                | 1.2      |\n",
      "|    value_loss         | 0.0488   |\n",
      "------------------------------------\n",
      "------------------------------------\n",
      "| time/                 |          |\n",
      "|    fps                | 468      |\n",
      "|    iterations         | 9500     |\n",
      "|    time_elapsed       | 101      |\n",
      "|    total_timesteps    | 47500    |\n",
      "| train/                |          |\n",
      "|    entropy_loss       | -1.6     |\n",
      "|    explained_variance | -334     |\n",
      "|    learning_rate      | 0.0002   |\n",
      "|    n_updates          | 9499     |\n",
      "|    policy_loss        | 0.788    |\n",
      "|    std                | 1.2      |\n",
      "|    value_loss         | 0.386    |\n",
      "------------------------------------\n",
      "day: 2515, episode: 20\n",
      "begin_total_asset:100000.00\n",
      "end_total_asset:504781.73\n",
      "total_reward:404781.73\n",
      "total_cost: 6990.98\n",
      "total_trades: 2503\n",
      "Sharpe: 0.879\n",
      "=================================\n",
      "------------------------------------\n",
      "| time/                 |          |\n",
      "|    fps                | 469      |\n",
      "|    iterations         | 9600     |\n",
      "|    time_elapsed       | 102      |\n",
      "|    total_timesteps    | 48000    |\n",
      "| train/                |          |\n",
      "|    entropy_loss       | -1.6     |\n",
      "|    explained_variance | -49.5    |\n",
      "|    learning_rate      | 0.0002   |\n",
      "|    n_updates          | 9599     |\n",
      "|    policy_loss        | 0.00152  |\n",
      "|    std                | 1.2      |\n",
      "|    value_loss         | 0.0499   |\n",
      "------------------------------------\n",
      "------------------------------------\n",
      "| time/                 |          |\n",
      "|    fps                | 469      |\n",
      "|    iterations         | 9700     |\n",
      "|    time_elapsed       | 103      |\n",
      "|    total_timesteps    | 48500    |\n",
      "| train/                |          |\n",
      "|    entropy_loss       | -1.6     |\n",
      "|    explained_variance | -50.3    |\n",
      "|    learning_rate      | 0.0002   |\n",
      "|    n_updates          | 9699     |\n",
      "|    policy_loss        | 0.0137   |\n",
      "|    std                | 1.2      |\n",
      "|    value_loss         | 0.00925  |\n",
      "------------------------------------\n",
      "------------------------------------\n",
      "| time/                 |          |\n",
      "|    fps                | 469      |\n",
      "|    iterations         | 9800     |\n",
      "|    time_elapsed       | 104      |\n",
      "|    total_timesteps    | 49000    |\n",
      "| train/                |          |\n",
      "|    entropy_loss       | -1.6     |\n",
      "|    explained_variance | -285     |\n",
      "|    learning_rate      | 0.0002   |\n",
      "|    n_updates          | 9799     |\n",
      "|    policy_loss        | -0.0912  |\n",
      "|    std                | 1.2      |\n",
      "|    value_loss         | 0.0496   |\n",
      "------------------------------------\n",
      "-------------------------------------\n",
      "| time/                 |           |\n",
      "|    fps                | 469       |\n",
      "|    iterations         | 9900      |\n",
      "|    time_elapsed       | 105       |\n",
      "|    total_timesteps    | 49500     |\n",
      "| train/                |           |\n",
      "|    entropy_loss       | -1.6      |\n",
      "|    explained_variance | -1.85e+03 |\n",
      "|    learning_rate      | 0.0002    |\n",
      "|    n_updates          | 9899      |\n",
      "|    policy_loss        | -0.169    |\n",
      "|    std                | 1.2       |\n",
      "|    value_loss         | 0.034     |\n",
      "-------------------------------------\n",
      "------------------------------------\n",
      "| time/                 |          |\n",
      "|    fps                | 469      |\n",
      "|    iterations         | 10000    |\n",
      "|    time_elapsed       | 106      |\n",
      "|    total_timesteps    | 50000    |\n",
      "| train/                |          |\n",
      "|    entropy_loss       | -1.61    |\n",
      "|    explained_variance | -98.8    |\n",
      "|    learning_rate      | 0.0002   |\n",
      "|    n_updates          | 9999     |\n",
      "|    policy_loss        | 0.709    |\n",
      "|    std                | 1.21     |\n",
      "|    value_loss         | 0.104    |\n",
      "------------------------------------\n"
     ]
    }
   ],
   "source": [
    "trained_a2c = agent.train_model(model=model_a2c, \n",
    "                                tb_log_name='a2c',\n",
    "                                total_timesteps=50000)"
   ]
  },
  {
   "cell_type": "code",
   "execution_count": 56,
   "metadata": {},
   "outputs": [],
   "source": [
    "trained_a2c.save(os.path.join(config.TRAINED_MODEL_DIR,'trained_a2c.zip'))"
   ]
  },
  {
   "cell_type": "markdown",
   "metadata": {
    "id": "9upN8FI2r_X1"
   },
   "source": [
    "### Model 2: DDPG"
   ]
  },
  {
   "cell_type": "code",
   "execution_count": 61,
   "metadata": {
    "colab": {
     "base_uri": "https://localhost:8080/"
    },
    "id": "gUFJlHsi-Ka-",
    "outputId": "1b7db70f-f740-401c-ab55-a567b4235e18"
   },
   "outputs": [
    {
     "output_type": "stream",
     "name": "stdout",
     "text": [
      "{'batch_size': 64, 'buffer_size': 500000, 'learning_rate': 0.0001}\nUsing cpu device\nWrapping the env in a DummyVecEnv.\n"
     ]
    }
   ],
   "source": [
    "agent = DRLAgent(env = env_train)\n",
    "DDPG_PARAMS = {\"batch_size\": 64, \"buffer_size\": 500000, \"learning_rate\": 0.0001}\n",
    "\n",
    "\n",
    "model_ddpg = agent.get_model(\"ddpg\",model_kwargs = DDPG_PARAMS)"
   ]
  },
  {
   "cell_type": "code",
   "execution_count": null,
   "metadata": {
    "colab": {
     "base_uri": "https://localhost:8080/"
    },
    "id": "I5J_Scwp-Nis",
    "outputId": "a538962d-33c8-44d3-94af-6ef61fc0d230"
   },
   "outputs": [
    {
     "name": "stdout",
     "output_type": "stream",
     "text": [
      "Logging to tensorboard_log/ddpg/ddpg_1\n"
     ]
    }
   ],
   "source": [
    "trained_ddpg = agent.train_model(model=model_ddpg, \n",
    "                             tb_log_name='ddpg',\n",
    "                             total_timesteps=30000)"
   ]
  },
  {
   "cell_type": "markdown",
   "metadata": {
    "id": "1sve9WGvsC__"
   },
   "source": [
    "### Model 3: PPO"
   ]
  },
  {
   "cell_type": "code",
   "execution_count": null,
   "metadata": {
    "colab": {
     "base_uri": "https://localhost:8080/"
    },
    "id": "BOjuycpS-Qvn",
    "outputId": "13ab0019-419b-4e6e-949d-c2617ae296b3"
   },
   "outputs": [
    {
     "name": "stdout",
     "output_type": "stream",
     "text": [
      "{'n_steps': 2048, 'ent_coef': 0.005, 'learning_rate': 0.0001, 'batch_size': 128}\n",
      "Using cpu device\n"
     ]
    }
   ],
   "source": [
    "agent = DRLAgent(env = env_train)\n",
    "PPO_PARAMS = {\n",
    "    \"n_steps\": 2048,\n",
    "    \"ent_coef\": 0.005,\n",
    "    \"learning_rate\": 0.0001,\n",
    "    \"batch_size\": 128,\n",
    "}\n",
    "model_ppo = agent.get_model(\"ppo\",model_kwargs = PPO_PARAMS)"
   ]
  },
  {
   "cell_type": "code",
   "execution_count": null,
   "metadata": {
    "colab": {
     "base_uri": "https://localhost:8080/"
    },
    "id": "G9hCHA8A-RSy",
    "outputId": "df865883-f3a8-42b2-951f-b129b44bd248"
   },
   "outputs": [
    {
     "name": "stdout",
     "output_type": "stream",
     "text": [
      "Logging to tensorboard_log/ppo/ppo_1\n",
      "-----------------------------\n",
      "| time/              |      |\n",
      "|    fps             | 719  |\n",
      "|    iterations      | 1    |\n",
      "|    time_elapsed    | 2    |\n",
      "|    total_timesteps | 2048 |\n",
      "-----------------------------\n",
      "begin_total_asset:100000\n",
      "end_total_asset:154201.6784307579\n",
      "total_reward:54201.67843075789\n",
      "total_cost:  6229.798879286764\n",
      "total_trades:  2456\n",
      "Sharpe:  0.5097435961979868\n",
      "=================================\n",
      "-------------------------------------------\n",
      "| time/                   |               |\n",
      "|    fps                  | 643           |\n",
      "|    iterations           | 2             |\n",
      "|    time_elapsed         | 6             |\n",
      "|    total_timesteps      | 4096          |\n",
      "| train/                  |               |\n",
      "|    approx_kl            | 0.00047010495 |\n",
      "|    clip_fraction        | 0.00688       |\n",
      "|    clip_range           | 0.2           |\n",
      "|    entropy_loss         | -1.42         |\n",
      "|    explained_variance   | -0.797        |\n",
      "|    learning_rate        | 0.0001        |\n",
      "|    loss                 | 0.00326       |\n",
      "|    n_updates            | 10            |\n",
      "|    policy_gradient_loss | -0.00325      |\n",
      "|    std                  | 0.995         |\n",
      "|    value_loss           | 0.0544        |\n",
      "-------------------------------------------\n",
      "begin_total_asset:100000\n",
      "end_total_asset:208474.5414265936\n",
      "total_reward:108474.54142659361\n",
      "total_cost:  6595.42972978121\n",
      "total_trades:  2466\n",
      "Sharpe:  0.7961560092919648\n",
      "=================================\n",
      "-------------------------------------------\n",
      "| time/                   |               |\n",
      "|    fps                  | 617           |\n",
      "|    iterations           | 3             |\n",
      "|    time_elapsed         | 9             |\n",
      "|    total_timesteps      | 6144          |\n",
      "| train/                  |               |\n",
      "|    approx_kl            | 0.00029668477 |\n",
      "|    clip_fraction        | 0             |\n",
      "|    clip_range           | 0.2           |\n",
      "|    entropy_loss         | -1.41         |\n",
      "|    explained_variance   | -11.2         |\n",
      "|    learning_rate        | 0.0001        |\n",
      "|    loss                 | 0.00154       |\n",
      "|    n_updates            | 20            |\n",
      "|    policy_gradient_loss | -0.00037      |\n",
      "|    std                  | 0.992         |\n",
      "|    value_loss           | 0.0267        |\n",
      "-------------------------------------------\n",
      "begin_total_asset:100000\n",
      "end_total_asset:226623.22692253595\n",
      "total_reward:126623.22692253595\n",
      "total_cost:  6662.477544789074\n",
      "total_trades:  2486\n",
      "Sharpe:  0.6118778493241752\n",
      "=================================\n",
      "------------------------------------------\n",
      "| time/                   |              |\n",
      "|    fps                  | 608          |\n",
      "|    iterations           | 4            |\n",
      "|    time_elapsed         | 13           |\n",
      "|    total_timesteps      | 8192         |\n",
      "| train/                  |              |\n",
      "|    approx_kl            | 0.0017147474 |\n",
      "|    clip_fraction        | 0.0106       |\n",
      "|    clip_range           | 0.2          |\n",
      "|    entropy_loss         | -1.41        |\n",
      "|    explained_variance   | -18.7        |\n",
      "|    learning_rate        | 0.0001       |\n",
      "|    loss                 | 0.0406       |\n",
      "|    n_updates            | 30           |\n",
      "|    policy_gradient_loss | -0.00139     |\n",
      "|    std                  | 0.988        |\n",
      "|    value_loss           | 0.0987       |\n",
      "------------------------------------------\n",
      "begin_total_asset:100000\n",
      "end_total_asset:320411.7910579003\n",
      "total_reward:220411.7910579003\n",
      "total_cost:  6595.420933233377\n",
      "total_trades:  2510\n",
      "Sharpe:  0.726873276762527\n",
      "=================================\n",
      "--------------------------------------------\n",
      "| time/                   |                |\n",
      "|    fps                  | 603            |\n",
      "|    iterations           | 5              |\n",
      "|    time_elapsed         | 16             |\n",
      "|    total_timesteps      | 10240          |\n",
      "| train/                  |                |\n",
      "|    approx_kl            | -0.00034709403 |\n",
      "|    clip_fraction        | 9.77e-05       |\n",
      "|    clip_range           | 0.2            |\n",
      "|    entropy_loss         | -1.41          |\n",
      "|    explained_variance   | -17            |\n",
      "|    learning_rate        | 0.0001         |\n",
      "|    loss                 | 0.156          |\n",
      "|    n_updates            | 40             |\n",
      "|    policy_gradient_loss | -0.000743      |\n",
      "|    std                  | 0.985          |\n",
      "|    value_loss           | 0.413          |\n",
      "--------------------------------------------\n",
      "-------------------------------------------\n",
      "| time/                   |               |\n",
      "|    fps                  | 594           |\n",
      "|    iterations           | 6             |\n",
      "|    time_elapsed         | 20            |\n",
      "|    total_timesteps      | 12288         |\n",
      "| train/                  |               |\n",
      "|    approx_kl            | -0.0008853029 |\n",
      "|    clip_fraction        | 0             |\n",
      "|    clip_range           | 0.2           |\n",
      "|    entropy_loss         | -1.4          |\n",
      "|    explained_variance   | -48.2         |\n",
      "|    learning_rate        | 0.0001        |\n",
      "|    loss                 | 0.421         |\n",
      "|    n_updates            | 50            |\n",
      "|    policy_gradient_loss | -0.000165     |\n",
      "|    std                  | 0.985         |\n",
      "|    value_loss           | 1.02          |\n",
      "-------------------------------------------\n",
      "begin_total_asset:100000\n",
      "end_total_asset:364791.16926864977\n",
      "total_reward:264791.16926864977\n",
      "total_cost:  6459.485391873797\n",
      "total_trades:  2514\n",
      "Sharpe:  0.7751585130144075\n",
      "=================================\n",
      "------------------------------------------\n",
      "| time/                   |              |\n",
      "|    fps                  | 584          |\n",
      "|    iterations           | 7            |\n",
      "|    time_elapsed         | 24           |\n",
      "|    total_timesteps      | 14336        |\n",
      "| train/                  |              |\n",
      "|    approx_kl            | 0.0024066083 |\n",
      "|    clip_fraction        | 0.000146     |\n",
      "|    clip_range           | 0.2          |\n",
      "|    entropy_loss         | -1.4         |\n",
      "|    explained_variance   | -14          |\n",
      "|    learning_rate        | 0.0001       |\n",
      "|    loss                 | 0.261        |\n",
      "|    n_updates            | 60           |\n",
      "|    policy_gradient_loss | -0.000178    |\n",
      "|    std                  | 0.987        |\n",
      "|    value_loss           | 0.633        |\n",
      "------------------------------------------\n",
      "begin_total_asset:100000\n",
      "end_total_asset:386029.3211038883\n",
      "total_reward:286029.3211038883\n",
      "total_cost:  6686.318669397613\n",
      "total_trades:  2514\n",
      "Sharpe:  0.864197994307941\n",
      "=================================\n",
      "------------------------------------------\n",
      "| time/                   |              |\n",
      "|    fps                  | 583          |\n",
      "|    iterations           | 8            |\n",
      "|    time_elapsed         | 28           |\n",
      "|    total_timesteps      | 16384        |\n",
      "| train/                  |              |\n",
      "|    approx_kl            | 0.0044404184 |\n",
      "|    clip_fraction        | 0.00937      |\n",
      "|    clip_range           | 0.2          |\n",
      "|    entropy_loss         | -1.41        |\n",
      "|    explained_variance   | -43.1        |\n",
      "|    learning_rate        | 0.0001       |\n",
      "|    loss                 | 0.59         |\n",
      "|    n_updates            | 70           |\n",
      "|    policy_gradient_loss | -0.000688    |\n",
      "|    std                  | 0.987        |\n",
      "|    value_loss           | 1.04         |\n",
      "------------------------------------------\n",
      "begin_total_asset:100000\n",
      "end_total_asset:367652.02145418554\n",
      "total_reward:267652.02145418554\n",
      "total_cost:  6563.71718565929\n",
      "total_trades:  2514\n",
      "Sharpe:  0.8576480650161772\n",
      "=================================\n",
      "-------------------------------------------\n",
      "| time/                   |               |\n",
      "|    fps                  | 582           |\n",
      "|    iterations           | 9             |\n",
      "|    time_elapsed         | 31            |\n",
      "|    total_timesteps      | 18432         |\n",
      "| train/                  |               |\n",
      "|    approx_kl            | 0.00033915893 |\n",
      "|    clip_fraction        | 0.00464       |\n",
      "|    clip_range           | 0.2           |\n",
      "|    entropy_loss         | -1.41         |\n",
      "|    explained_variance   | -164          |\n",
      "|    learning_rate        | 0.0001        |\n",
      "|    loss                 | 0.485         |\n",
      "|    n_updates            | 80            |\n",
      "|    policy_gradient_loss | -0.000485     |\n",
      "|    std                  | 0.988         |\n",
      "|    value_loss           | 0.893         |\n",
      "-------------------------------------------\n",
      "begin_total_asset:100000\n",
      "end_total_asset:404021.36766140145\n",
      "total_reward:304021.36766140145\n",
      "total_cost:  6733.062301228537\n",
      "total_trades:  2514\n",
      "Sharpe:  0.878678154319762\n",
      "=================================\n",
      "-----------------------------------------\n",
      "| time/                   |             |\n",
      "|    fps                  | 581         |\n",
      "|    iterations           | 10          |\n",
      "|    time_elapsed         | 35          |\n",
      "|    total_timesteps      | 20480       |\n",
      "| train/                  |             |\n",
      "|    approx_kl            | 0.004277601 |\n",
      "|    clip_fraction        | 0.0364      |\n",
      "|    clip_range           | 0.2         |\n",
      "|    entropy_loss         | -1.41       |\n",
      "|    explained_variance   | -24.7       |\n",
      "|    learning_rate        | 0.0001      |\n",
      "|    loss                 | 0.397       |\n",
      "|    n_updates            | 90          |\n",
      "|    policy_gradient_loss | -0.00232    |\n",
      "|    std                  | 0.987       |\n",
      "|    value_loss           | 0.908       |\n",
      "-----------------------------------------\n",
      "-------------------------------------------\n",
      "| time/                   |               |\n",
      "|    fps                  | 578           |\n",
      "|    iterations           | 11            |\n",
      "|    time_elapsed         | 38            |\n",
      "|    total_timesteps      | 22528         |\n",
      "| train/                  |               |\n",
      "|    approx_kl            | 0.00073247147 |\n",
      "|    clip_fraction        | 0.0336        |\n",
      "|    clip_range           | 0.2           |\n",
      "|    entropy_loss         | -1.41         |\n",
      "|    explained_variance   | -25           |\n",
      "|    learning_rate        | 0.0001        |\n",
      "|    loss                 | 0.572         |\n",
      "|    n_updates            | 100           |\n",
      "|    policy_gradient_loss | -0.00311      |\n",
      "|    std                  | 0.985         |\n",
      "|    value_loss           | 1.26          |\n",
      "-------------------------------------------\n",
      "begin_total_asset:100000\n",
      "end_total_asset:397410.98459220416\n",
      "total_reward:297410.98459220416\n",
      "total_cost:  6624.640401721625\n",
      "total_trades:  2515\n",
      "Sharpe:  0.8064228580435082\n",
      "=================================\n",
      "------------------------------------------\n",
      "| time/                   |              |\n",
      "|    fps                  | 576          |\n",
      "|    iterations           | 12           |\n",
      "|    time_elapsed         | 42           |\n",
      "|    total_timesteps      | 24576        |\n",
      "| train/                  |              |\n",
      "|    approx_kl            | 0.0025355744 |\n",
      "|    clip_fraction        | 0.00815      |\n",
      "|    clip_range           | 0.2          |\n",
      "|    entropy_loss         | -1.4         |\n",
      "|    explained_variance   | -20          |\n",
      "|    learning_rate        | 0.0001       |\n",
      "|    loss                 | 0.582        |\n",
      "|    n_updates            | 110          |\n",
      "|    policy_gradient_loss | -0.000497    |\n",
      "|    std                  | 0.985        |\n",
      "|    value_loss           | 0.936        |\n",
      "------------------------------------------\n",
      "begin_total_asset:100000\n",
      "end_total_asset:435471.36903033056\n",
      "total_reward:335471.36903033056\n",
      "total_cost:  6649.137584532092\n",
      "total_trades:  2515\n",
      "Sharpe:  0.8464205040380157\n",
      "=================================\n",
      "-----------------------------------------\n",
      "| time/                   |             |\n",
      "|    fps                  | 576         |\n",
      "|    iterations           | 13          |\n",
      "|    time_elapsed         | 46          |\n",
      "|    total_timesteps      | 26624       |\n",
      "| train/                  |             |\n",
      "|    approx_kl            | 0.003859992 |\n",
      "|    clip_fraction        | 0.0109      |\n",
      "|    clip_range           | 0.2         |\n",
      "|    entropy_loss         | -1.4        |\n",
      "|    explained_variance   | -43.4       |\n",
      "|    learning_rate        | 0.0001      |\n",
      "|    loss                 | 0.627       |\n",
      "|    n_updates            | 120         |\n",
      "|    policy_gradient_loss | -0.00183    |\n",
      "|    std                  | 0.983       |\n",
      "|    value_loss           | 1.42        |\n",
      "-----------------------------------------\n",
      "begin_total_asset:100000\n",
      "end_total_asset:407207.4827603418\n",
      "total_reward:307207.4827603418\n",
      "total_cost:  6763.380354823194\n",
      "total_trades:  2510\n",
      "Sharpe:  0.8443762816476841\n",
      "=================================\n",
      "----------------------------------------\n",
      "| time/                   |            |\n",
      "|    fps                  | 576        |\n",
      "|    iterations           | 14         |\n",
      "|    time_elapsed         | 49         |\n",
      "|    total_timesteps      | 28672      |\n",
      "| train/                  |            |\n",
      "|    approx_kl            | 0.00445222 |\n",
      "|    clip_fraction        | 0.0231     |\n",
      "|    clip_range           | 0.2        |\n",
      "|    entropy_loss         | -1.4       |\n",
      "|    explained_variance   | -37.1      |\n",
      "|    learning_rate        | 0.0001     |\n",
      "|    loss                 | 1.07       |\n",
      "|    n_updates            | 130        |\n",
      "|    policy_gradient_loss | -0.00134   |\n",
      "|    std                  | 0.98       |\n",
      "|    value_loss           | 1.55       |\n",
      "----------------------------------------\n",
      "begin_total_asset:100000\n",
      "end_total_asset:509305.9047923183\n",
      "total_reward:409305.9047923183\n",
      "total_cost:  6651.384115466746\n",
      "total_trades:  2515\n",
      "Sharpe:  0.9409978962165385\n",
      "=================================\n",
      "------------------------------------------\n",
      "| time/                   |              |\n",
      "|    fps                  | 576          |\n",
      "|    iterations           | 15           |\n",
      "|    time_elapsed         | 53           |\n",
      "|    total_timesteps      | 30720        |\n",
      "| train/                  |              |\n",
      "|    approx_kl            | 0.0055885077 |\n",
      "|    clip_fraction        | 0.0357       |\n",
      "|    clip_range           | 0.2          |\n",
      "|    entropy_loss         | -1.4         |\n",
      "|    explained_variance   | -63.7        |\n",
      "|    learning_rate        | 0.0001       |\n",
      "|    loss                 | 0.625        |\n",
      "|    n_updates            | 140          |\n",
      "|    policy_gradient_loss | 0.00057      |\n",
      "|    std                  | 0.979        |\n",
      "|    value_loss           | 1.5          |\n",
      "------------------------------------------\n",
      "begin_total_asset:100000\n",
      "end_total_asset:459898.21614673093\n",
      "total_reward:359898.21614673093\n",
      "total_cost:  6596.732766210887\n",
      "total_trades:  2515\n",
      "Sharpe:  0.9113808701068679\n",
      "=================================\n",
      "------------------------------------------\n",
      "| time/                   |              |\n",
      "|    fps                  | 575          |\n",
      "|    iterations           | 16           |\n",
      "|    time_elapsed         | 56           |\n",
      "|    total_timesteps      | 32768        |\n",
      "| train/                  |              |\n",
      "|    approx_kl            | 0.0031307968 |\n",
      "|    clip_fraction        | 0.000928     |\n",
      "|    clip_range           | 0.2          |\n",
      "|    entropy_loss         | -1.4         |\n",
      "|    explained_variance   | -22.5        |\n",
      "|    learning_rate        | 0.0001       |\n",
      "|    loss                 | 1.44         |\n",
      "|    n_updates            | 150          |\n",
      "|    policy_gradient_loss | -0.000283    |\n",
      "|    std                  | 0.976        |\n",
      "|    value_loss           | 2.3          |\n",
      "------------------------------------------\n",
      "------------------------------------------\n",
      "| time/                   |              |\n",
      "|    fps                  | 576          |\n",
      "|    iterations           | 17           |\n",
      "|    time_elapsed         | 60           |\n",
      "|    total_timesteps      | 34816        |\n",
      "| train/                  |              |\n",
      "|    approx_kl            | 0.0006956297 |\n",
      "|    clip_fraction        | 0.00278      |\n",
      "|    clip_range           | 0.2          |\n",
      "|    entropy_loss         | -1.4         |\n",
      "|    explained_variance   | -257         |\n",
      "|    learning_rate        | 0.0001       |\n",
      "|    loss                 | 0.878        |\n",
      "|    n_updates            | 160          |\n",
      "|    policy_gradient_loss | -0.0005      |\n",
      "|    std                  | 0.978        |\n",
      "|    value_loss           | 2.04         |\n",
      "------------------------------------------\n",
      "begin_total_asset:100000\n",
      "end_total_asset:393533.6497418458\n",
      "total_reward:293533.6497418458\n",
      "total_cost:  6681.590494590975\n",
      "total_trades:  2515\n",
      "Sharpe:  0.8518320188401365\n",
      "=================================\n",
      "------------------------------------------\n",
      "| time/                   |              |\n",
      "|    fps                  | 576          |\n",
      "|    iterations           | 18           |\n",
      "|    time_elapsed         | 63           |\n",
      "|    total_timesteps      | 36864        |\n",
      "| train/                  |              |\n",
      "|    approx_kl            | 0.0031630935 |\n",
      "|    clip_fraction        | 0.0041       |\n",
      "|    clip_range           | 0.2          |\n",
      "|    entropy_loss         | -1.4         |\n",
      "|    explained_variance   | -31.9        |\n",
      "|    learning_rate        | 0.0001       |\n",
      "|    loss                 | 0.33         |\n",
      "|    n_updates            | 170          |\n",
      "|    policy_gradient_loss | -0.00149     |\n",
      "|    std                  | 0.981        |\n",
      "|    value_loss           | 0.592        |\n",
      "------------------------------------------\n",
      "begin_total_asset:100000\n",
      "end_total_asset:408871.7170712545\n",
      "total_reward:308871.7170712545\n",
      "total_cost:  6603.797727765146\n",
      "total_trades:  2513\n",
      "Sharpe:  0.8421582751951677\n",
      "=================================\n",
      "-----------------------------------------\n",
      "| time/                   |             |\n",
      "|    fps                  | 576         |\n",
      "|    iterations           | 19          |\n",
      "|    time_elapsed         | 67          |\n",
      "|    total_timesteps      | 38912       |\n",
      "| train/                  |             |\n",
      "|    approx_kl            | 0.004779038 |\n",
      "|    clip_fraction        | 0.00396     |\n",
      "|    clip_range           | 0.2         |\n",
      "|    entropy_loss         | -1.4        |\n",
      "|    explained_variance   | -131        |\n",
      "|    learning_rate        | 0.0001      |\n",
      "|    loss                 | 0.968       |\n",
      "|    n_updates            | 180         |\n",
      "|    policy_gradient_loss | -0.000368   |\n",
      "|    std                  | 0.987       |\n",
      "|    value_loss           | 1.19        |\n",
      "-----------------------------------------\n",
      "begin_total_asset:100000\n",
      "end_total_asset:504000.8123993165\n",
      "total_reward:404000.8123993165\n",
      "total_cost:  6532.99519724017\n",
      "total_trades:  2515\n",
      "Sharpe:  0.9054715733132074\n",
      "=================================\n",
      "------------------------------------------\n",
      "| time/                   |              |\n",
      "|    fps                  | 575          |\n",
      "|    iterations           | 20           |\n",
      "|    time_elapsed         | 71           |\n",
      "|    total_timesteps      | 40960        |\n",
      "| train/                  |              |\n",
      "|    approx_kl            | 0.0039343373 |\n",
      "|    clip_fraction        | 0.0118       |\n",
      "|    clip_range           | 0.2          |\n",
      "|    entropy_loss         | -1.41        |\n",
      "|    explained_variance   | -116         |\n",
      "|    learning_rate        | 0.0001       |\n",
      "|    loss                 | 0.777        |\n",
      "|    n_updates            | 190          |\n",
      "|    policy_gradient_loss | -0.00175     |\n",
      "|    std                  | 0.984        |\n",
      "|    value_loss           | 1.71         |\n",
      "------------------------------------------\n",
      "begin_total_asset:100000\n",
      "end_total_asset:493973.7566072885\n",
      "total_reward:393973.7566072885\n",
      "total_cost:  6570.434457393137\n",
      "total_trades:  2515\n",
      "Sharpe:  0.8792837035559181\n",
      "=================================\n",
      "------------------------------------------\n",
      "| time/                   |              |\n",
      "|    fps                  | 575          |\n",
      "|    iterations           | 21           |\n",
      "|    time_elapsed         | 74           |\n",
      "|    total_timesteps      | 43008        |\n",
      "| train/                  |              |\n",
      "|    approx_kl            | 0.0038417936 |\n",
      "|    clip_fraction        | 0.0168       |\n",
      "|    clip_range           | 0.2          |\n",
      "|    entropy_loss         | -1.4         |\n",
      "|    explained_variance   | -37.7        |\n",
      "|    learning_rate        | 0.0001       |\n",
      "|    loss                 | 1.04         |\n",
      "|    n_updates            | 200          |\n",
      "|    policy_gradient_loss | -0.000976    |\n",
      "|    std                  | 0.983        |\n",
      "|    value_loss           | 2.35         |\n",
      "------------------------------------------\n",
      "------------------------------------------\n",
      "| time/                   |              |\n",
      "|    fps                  | 574          |\n",
      "|    iterations           | 22           |\n",
      "|    time_elapsed         | 78           |\n",
      "|    total_timesteps      | 45056        |\n",
      "| train/                  |              |\n",
      "|    approx_kl            | 0.0026280978 |\n",
      "|    clip_fraction        | 0.00947      |\n",
      "|    clip_range           | 0.2          |\n",
      "|    entropy_loss         | -1.4         |\n",
      "|    explained_variance   | -190         |\n",
      "|    learning_rate        | 0.0001       |\n",
      "|    loss                 | 1.15         |\n",
      "|    n_updates            | 210          |\n",
      "|    policy_gradient_loss | -0.000627    |\n",
      "|    std                  | 0.984        |\n",
      "|    value_loss           | 2.5          |\n",
      "------------------------------------------\n",
      "begin_total_asset:100000\n",
      "end_total_asset:458212.9979555064\n",
      "total_reward:358212.9979555064\n",
      "total_cost:  6677.85432126429\n",
      "total_trades:  2513\n",
      "Sharpe:  0.9070571534874813\n",
      "=================================\n",
      "------------------------------------------\n",
      "| time/                   |              |\n",
      "|    fps                  | 574          |\n",
      "|    iterations           | 23           |\n",
      "|    time_elapsed         | 81           |\n",
      "|    total_timesteps      | 47104        |\n",
      "| train/                  |              |\n",
      "|    approx_kl            | 0.0032378745 |\n",
      "|    clip_fraction        | 0.0179       |\n",
      "|    clip_range           | 0.2          |\n",
      "|    entropy_loss         | -1.4         |\n",
      "|    explained_variance   | -89.7        |\n",
      "|    learning_rate        | 0.0001       |\n",
      "|    loss                 | 0.451        |\n",
      "|    n_updates            | 220          |\n",
      "|    policy_gradient_loss | -0.00196     |\n",
      "|    std                  | 0.985        |\n",
      "|    value_loss           | 0.908        |\n",
      "------------------------------------------\n",
      "begin_total_asset:100000\n",
      "end_total_asset:520679.2495774107\n",
      "total_reward:420679.2495774107\n",
      "total_cost:  6464.60742463431\n",
      "total_trades:  2512\n",
      "Sharpe:  0.9168742761976522\n",
      "=================================\n",
      "------------------------------------------\n",
      "| time/                   |              |\n",
      "|    fps                  | 574          |\n",
      "|    iterations           | 24           |\n",
      "|    time_elapsed         | 85           |\n",
      "|    total_timesteps      | 49152        |\n",
      "| train/                  |              |\n",
      "|    approx_kl            | 0.0014177399 |\n",
      "|    clip_fraction        | 0.0178       |\n",
      "|    clip_range           | 0.2          |\n",
      "|    entropy_loss         | -1.4         |\n",
      "|    explained_variance   | -38.3        |\n",
      "|    learning_rate        | 0.0001       |\n",
      "|    loss                 | 0.86         |\n",
      "|    n_updates            | 230          |\n",
      "|    policy_gradient_loss | -0.000988    |\n",
      "|    std                  | 0.984        |\n",
      "|    value_loss           | 1.88         |\n",
      "------------------------------------------\n",
      "begin_total_asset:100000\n",
      "end_total_asset:449063.871983055\n",
      "total_reward:349063.871983055\n",
      "total_cost:  6303.219492919385\n",
      "total_trades:  2513\n",
      "Sharpe:  0.8225755015832578\n",
      "=================================\n",
      "-----------------------------------------\n",
      "| time/                   |             |\n",
      "|    fps                  | 574         |\n",
      "|    iterations           | 25          |\n",
      "|    time_elapsed         | 89          |\n",
      "|    total_timesteps      | 51200       |\n",
      "| train/                  |             |\n",
      "|    approx_kl            | 0.002376902 |\n",
      "|    clip_fraction        | 0.0062      |\n",
      "|    clip_range           | 0.2         |\n",
      "|    entropy_loss         | -1.4        |\n",
      "|    explained_variance   | -21.4       |\n",
      "|    learning_rate        | 0.0001      |\n",
      "|    loss                 | 1.11        |\n",
      "|    n_updates            | 240         |\n",
      "|    policy_gradient_loss | -0.000614   |\n",
      "|    std                  | 0.984       |\n",
      "|    value_loss           | 2.49        |\n",
      "-----------------------------------------\n"
     ]
    }
   ],
   "source": [
    "trained_ppo = agent.train_model(model=model_ppo, \n",
    "                             tb_log_name='ppo',\n",
    "                             total_timesteps=80000)"
   ]
  },
  {
   "cell_type": "markdown",
   "metadata": {
    "id": "CiBG2ZknsG73"
   },
   "source": [
    "### Model 4: TD3"
   ]
  },
  {
   "cell_type": "code",
   "execution_count": null,
   "metadata": {
    "colab": {
     "base_uri": "https://localhost:8080/"
    },
    "id": "UcRdoBc8-Xze",
    "outputId": "cc0a65bf-f79d-48ce-c173-6ae08747b0fa"
   },
   "outputs": [
    {
     "name": "stdout",
     "output_type": "stream",
     "text": [
      "{'batch_size': 128, 'buffer_size': 1000000, 'learning_rate': 0.0003}\n",
      "Using cpu device\n"
     ]
    }
   ],
   "source": [
    "agent = DRLAgent(env = env_train)\n",
    "TD3_PARAMS = {\"batch_size\": 128, \n",
    "              \"buffer_size\": 1000000, \n",
    "              \"learning_rate\": 0.0003}\n",
    "\n",
    "model_td3 = agent.get_model(\"td3\",model_kwargs = TD3_PARAMS)"
   ]
  },
  {
   "cell_type": "code",
   "execution_count": null,
   "metadata": {
    "colab": {
     "base_uri": "https://localhost:8080/"
    },
    "id": "CB5cAAio-ZSs",
    "outputId": "741a1ed9-9bb0-4763-f237-5cd461ac100e"
   },
   "outputs": [
    {
     "name": "stdout",
     "output_type": "stream",
     "text": [
      "Logging to tensorboard_log/td3/td3_1\n",
      "---------------------------------\n",
      "| time/              |          |\n",
      "|    episodes        | 4        |\n",
      "|    fps             | 56       |\n",
      "|    time_elapsed    | 177      |\n",
      "|    total timesteps | 10064    |\n",
      "| train/             |          |\n",
      "|    actor_loss      | 1.16e+03 |\n",
      "|    critic_loss     | 2.82e+03 |\n",
      "|    learning_rate   | 0.0003   |\n",
      "|    n_updates       | 7548     |\n",
      "---------------------------------\n",
      "---------------------------------\n",
      "| time/              |          |\n",
      "|    episodes        | 8        |\n",
      "|    fps             | 48       |\n",
      "|    time_elapsed    | 414      |\n",
      "|    total timesteps | 20128    |\n",
      "| train/             |          |\n",
      "|    actor_loss      | 1.05e+03 |\n",
      "|    critic_loss     | 1.26e+03 |\n",
      "|    learning_rate   | 0.0003   |\n",
      "|    n_updates       | 17612    |\n",
      "---------------------------------\n",
      "day: 2515, episode: 30\n",
      "begin_total_asset:100000.00\n",
      "end_total_asset:882157.61\n",
      "total_reward:782157.61\n",
      "total_cost: 99.90\n",
      "total_trades: 2515\n",
      "Sharpe: 1.001\n",
      "=================================\n",
      "---------------------------------\n",
      "| time/              |          |\n",
      "|    episodes        | 12       |\n",
      "|    fps             | 45       |\n",
      "|    time_elapsed    | 656      |\n",
      "|    total timesteps | 30192    |\n",
      "| train/             |          |\n",
      "|    actor_loss      | 841      |\n",
      "|    critic_loss     | 606      |\n",
      "|    learning_rate   | 0.0003   |\n",
      "|    n_updates       | 27676    |\n",
      "---------------------------------\n"
     ]
    }
   ],
   "source": [
    "trained_td3 = agent.train_model(model=model_td3, \n",
    "                             tb_log_name='td3',\n",
    "                             total_timesteps=30000)"
   ]
  },
  {
   "cell_type": "markdown",
   "metadata": {
    "id": "oDk2qrlTLZCp"
   },
   "source": [
    "### Model 4: SAC"
   ]
  },
  {
   "cell_type": "code",
   "execution_count": 21,
   "metadata": {
    "colab": {
     "base_uri": "https://localhost:8080/"
    },
    "id": "el8sK4fo-dl1",
    "outputId": "20c5793c-397b-4dc3-a702-857178e61813"
   },
   "outputs": [
    {
     "name": "stdout",
     "output_type": "stream",
     "text": [
      "{'batch_size': 128, 'buffer_size': 100000, 'learning_rate': 3e-05, 'learning_starts': 100, 'ent_coef': 'auto_0.1'}\n",
      "Using cpu device\n"
     ]
    }
   ],
   "source": [
    "agent = DRLAgent(env = env_train)\n",
    "SAC_PARAMS = {\n",
    "    \"batch_size\": 128,\n",
    "    \"buffer_size\": 100000,\n",
    "    \"learning_rate\": 0.00003,\n",
    "    \"learning_starts\": 100,\n",
    "    \"ent_coef\": \"auto_0.1\",\n",
    "}\n",
    "\n",
    "model_sac = agent.get_model(\"sac\",model_kwargs = SAC_PARAMS)"
   ]
  },
  {
   "cell_type": "code",
   "execution_count": 22,
   "metadata": {
    "colab": {
     "base_uri": "https://localhost:8080/"
    },
    "id": "gaF80PR0-d_d",
    "outputId": "b26b6435-ca69-4000-b2b3-22596677d8ff"
   },
   "outputs": [
    {
     "name": "stdout",
     "output_type": "stream",
     "text": [
      "Logging to tensorboard_log/sac/sac_5\n",
      "---------------------------------\n",
      "| time/              |          |\n",
      "|    episodes        | 4        |\n",
      "|    fps             | 43       |\n",
      "|    time_elapsed    | 232      |\n",
      "|    total timesteps | 10064    |\n",
      "| train/             |          |\n",
      "|    actor_loss      | -410     |\n",
      "|    critic_loss     | 9.99     |\n",
      "|    ent_coef        | 0.132    |\n",
      "|    ent_coef_loss   | 25.1     |\n",
      "|    learning_rate   | 3e-05    |\n",
      "|    n_updates       | 9963     |\n",
      "---------------------------------\n",
      "day: 2515, episode: 30\n",
      "begin_total_asset:100000.00\n",
      "end_total_asset:882157.61\n",
      "total_reward:782157.61\n",
      "total_cost: 99.90\n",
      "total_trades: 2515\n",
      "Sharpe: 1.001\n",
      "=================================\n",
      "---------------------------------\n",
      "| time/              |          |\n",
      "|    episodes        | 8        |\n",
      "|    fps             | 43       |\n",
      "|    time_elapsed    | 464      |\n",
      "|    total timesteps | 20128    |\n",
      "| train/             |          |\n",
      "|    actor_loss      | -155     |\n",
      "|    critic_loss     | 9.36     |\n",
      "|    ent_coef        | 0.178    |\n",
      "|    ent_coef_loss   | 17.3     |\n",
      "|    learning_rate   | 3e-05    |\n",
      "|    n_updates       | 20027    |\n",
      "---------------------------------\n"
     ]
    }
   ],
   "source": [
    "trained_sac = agent.train_model(model=model_sac, \n",
    "                             tb_log_name='sac',\n",
    "                             total_timesteps=30000)"
   ]
  },
  {
   "cell_type": "markdown",
   "metadata": {
    "id": "KE1Xm9N9TnTn"
   },
   "source": [
    "### Trading\n",
    "* we use the environment class we initialized at 5.3 to create a stock trading environment\n",
    "* Assume that we have $100,000 initial capital at 2019-01-01. \n",
    "* We use the trained model of PPO to trade AAPL."
   ]
  },
  {
   "cell_type": "code",
   "execution_count": 57,
   "metadata": {
    "colab": {
     "base_uri": "https://localhost:8080/",
     "height": 298
    },
    "id": "kLFUwxhCoHN_",
    "outputId": "22540921-fc5e-460b-f9ef-1438131b45d7"
   },
   "outputs": [
    {
     "output_type": "execute_result",
     "data": {
      "text/plain": [
       "           date        open        high         low       close    volume  \\\n",
       "0    2019-01-02   99.550003  101.750000   98.940002   98.602066  35329300   \n",
       "1    2019-01-03  100.099998  100.190002   97.199997   94.974693  42579100   \n",
       "2    2019-01-04   99.720001  102.510002   98.930000   99.391899  44060600   \n",
       "3    2019-01-07  101.639999  103.269997  100.980003   99.518669  35656100   \n",
       "4    2019-01-08  103.040001  103.970001  101.709999  100.240234  31514400   \n",
       "..          ...         ...         ...         ...         ...       ...   \n",
       "500  2020-12-24  221.419998  223.610001  221.199997  222.750000  10550600   \n",
       "501  2020-12-28  224.449997  226.029999  223.020004  224.960007  17933500   \n",
       "502  2020-12-29  226.309998  227.179993  223.580002  224.149994  17403200   \n",
       "503  2020-12-30  225.229996  225.630005  221.470001  221.679993  20272300   \n",
       "504  2020-12-31  221.699997  223.000000  219.679993  222.419998  20926900   \n",
       "\n",
       "      tic      macd     rsi_30      cci_30      dx_30       kdjk  open_2_sma  \\\n",
       "0    MSFT -1.908755  45.769243  -81.402190  21.611852  29.006660  100.420002   \n",
       "1    MSFT -2.109402  42.780437 -114.398491  26.941934  22.605710   99.825001   \n",
       "2    MSFT -1.890196  47.129690  -59.749624  15.726471  35.099601   99.910000   \n",
       "3    MSFT -1.686800  47.248730  -43.233414  12.253522  43.301888  100.680000   \n",
       "4    MSFT -1.450660  47.938936  -30.170069   9.031910  49.781125  102.340000   \n",
       "..    ...       ...        ...         ...        ...        ...         ...   \n",
       "500  MSFT  2.311901  56.053159  180.164276  20.880557  79.423156  222.264999   \n",
       "501  MSFT  2.610026  57.377328  199.820539  27.520698  83.695706  222.934998   \n",
       "502  MSFT  2.749240  56.729225  175.935076  30.484308  81.024530  225.379997   \n",
       "503  MSFT  2.629943  54.777431  121.157876  20.796775  70.921951  225.769997   \n",
       "504  MSFT  2.565537  55.254561   90.097518  13.176882  66.397193  223.464996   \n",
       "\n",
       "           boll  close_10.0_le_5_c      wr_10       dma      trix  \n",
       "0    101.634626                0.0  64.070684 -4.995555 -0.313713  \n",
       "1    100.918416                0.0  92.146329 -5.425719 -0.326105  \n",
       "2    100.597122                0.0  47.517866 -5.456367 -0.324821  \n",
       "3    100.249499                0.0  40.293539 -5.294014 -0.313650  \n",
       "4    100.151014                0.0  37.260400 -4.866337 -0.293431  \n",
       "..          ...                ...        ...       ...       ...  \n",
       "500  216.564000                0.0  17.433439  4.544461  0.131579  \n",
       "501  217.050500                0.0   7.759192  5.596991  0.152547  \n",
       "502  217.554500                0.0  20.281134  6.490719  0.170882  \n",
       "503  217.827999                0.0  44.141282  7.085331  0.181612  \n",
       "504  218.180499                0.0  42.652325  7.232721  0.187628  \n",
       "\n",
       "[505 rows x 18 columns]"
      ],
      "text/html": "<div>\n<style scoped>\n    .dataframe tbody tr th:only-of-type {\n        vertical-align: middle;\n    }\n\n    .dataframe tbody tr th {\n        vertical-align: top;\n    }\n\n    .dataframe thead th {\n        text-align: right;\n    }\n</style>\n<table border=\"1\" class=\"dataframe\">\n  <thead>\n    <tr style=\"text-align: right;\">\n      <th></th>\n      <th>date</th>\n      <th>open</th>\n      <th>high</th>\n      <th>low</th>\n      <th>close</th>\n      <th>volume</th>\n      <th>tic</th>\n      <th>macd</th>\n      <th>rsi_30</th>\n      <th>cci_30</th>\n      <th>dx_30</th>\n      <th>kdjk</th>\n      <th>open_2_sma</th>\n      <th>boll</th>\n      <th>close_10.0_le_5_c</th>\n      <th>wr_10</th>\n      <th>dma</th>\n      <th>trix</th>\n    </tr>\n  </thead>\n  <tbody>\n    <tr>\n      <th>0</th>\n      <td>2019-01-02</td>\n      <td>99.550003</td>\n      <td>101.750000</td>\n      <td>98.940002</td>\n      <td>98.602066</td>\n      <td>35329300</td>\n      <td>MSFT</td>\n      <td>-1.908755</td>\n      <td>45.769243</td>\n      <td>-81.402190</td>\n      <td>21.611852</td>\n      <td>29.006660</td>\n      <td>100.420002</td>\n      <td>101.634626</td>\n      <td>0.0</td>\n      <td>64.070684</td>\n      <td>-4.995555</td>\n      <td>-0.313713</td>\n    </tr>\n    <tr>\n      <th>1</th>\n      <td>2019-01-03</td>\n      <td>100.099998</td>\n      <td>100.190002</td>\n      <td>97.199997</td>\n      <td>94.974693</td>\n      <td>42579100</td>\n      <td>MSFT</td>\n      <td>-2.109402</td>\n      <td>42.780437</td>\n      <td>-114.398491</td>\n      <td>26.941934</td>\n      <td>22.605710</td>\n      <td>99.825001</td>\n      <td>100.918416</td>\n      <td>0.0</td>\n      <td>92.146329</td>\n      <td>-5.425719</td>\n      <td>-0.326105</td>\n    </tr>\n    <tr>\n      <th>2</th>\n      <td>2019-01-04</td>\n      <td>99.720001</td>\n      <td>102.510002</td>\n      <td>98.930000</td>\n      <td>99.391899</td>\n      <td>44060600</td>\n      <td>MSFT</td>\n      <td>-1.890196</td>\n      <td>47.129690</td>\n      <td>-59.749624</td>\n      <td>15.726471</td>\n      <td>35.099601</td>\n      <td>99.910000</td>\n      <td>100.597122</td>\n      <td>0.0</td>\n      <td>47.517866</td>\n      <td>-5.456367</td>\n      <td>-0.324821</td>\n    </tr>\n    <tr>\n      <th>3</th>\n      <td>2019-01-07</td>\n      <td>101.639999</td>\n      <td>103.269997</td>\n      <td>100.980003</td>\n      <td>99.518669</td>\n      <td>35656100</td>\n      <td>MSFT</td>\n      <td>-1.686800</td>\n      <td>47.248730</td>\n      <td>-43.233414</td>\n      <td>12.253522</td>\n      <td>43.301888</td>\n      <td>100.680000</td>\n      <td>100.249499</td>\n      <td>0.0</td>\n      <td>40.293539</td>\n      <td>-5.294014</td>\n      <td>-0.313650</td>\n    </tr>\n    <tr>\n      <th>4</th>\n      <td>2019-01-08</td>\n      <td>103.040001</td>\n      <td>103.970001</td>\n      <td>101.709999</td>\n      <td>100.240234</td>\n      <td>31514400</td>\n      <td>MSFT</td>\n      <td>-1.450660</td>\n      <td>47.938936</td>\n      <td>-30.170069</td>\n      <td>9.031910</td>\n      <td>49.781125</td>\n      <td>102.340000</td>\n      <td>100.151014</td>\n      <td>0.0</td>\n      <td>37.260400</td>\n      <td>-4.866337</td>\n      <td>-0.293431</td>\n    </tr>\n    <tr>\n      <th>...</th>\n      <td>...</td>\n      <td>...</td>\n      <td>...</td>\n      <td>...</td>\n      <td>...</td>\n      <td>...</td>\n      <td>...</td>\n      <td>...</td>\n      <td>...</td>\n      <td>...</td>\n      <td>...</td>\n      <td>...</td>\n      <td>...</td>\n      <td>...</td>\n      <td>...</td>\n      <td>...</td>\n      <td>...</td>\n      <td>...</td>\n    </tr>\n    <tr>\n      <th>500</th>\n      <td>2020-12-24</td>\n      <td>221.419998</td>\n      <td>223.610001</td>\n      <td>221.199997</td>\n      <td>222.750000</td>\n      <td>10550600</td>\n      <td>MSFT</td>\n      <td>2.311901</td>\n      <td>56.053159</td>\n      <td>180.164276</td>\n      <td>20.880557</td>\n      <td>79.423156</td>\n      <td>222.264999</td>\n      <td>216.564000</td>\n      <td>0.0</td>\n      <td>17.433439</td>\n      <td>4.544461</td>\n      <td>0.131579</td>\n    </tr>\n    <tr>\n      <th>501</th>\n      <td>2020-12-28</td>\n      <td>224.449997</td>\n      <td>226.029999</td>\n      <td>223.020004</td>\n      <td>224.960007</td>\n      <td>17933500</td>\n      <td>MSFT</td>\n      <td>2.610026</td>\n      <td>57.377328</td>\n      <td>199.820539</td>\n      <td>27.520698</td>\n      <td>83.695706</td>\n      <td>222.934998</td>\n      <td>217.050500</td>\n      <td>0.0</td>\n      <td>7.759192</td>\n      <td>5.596991</td>\n      <td>0.152547</td>\n    </tr>\n    <tr>\n      <th>502</th>\n      <td>2020-12-29</td>\n      <td>226.309998</td>\n      <td>227.179993</td>\n      <td>223.580002</td>\n      <td>224.149994</td>\n      <td>17403200</td>\n      <td>MSFT</td>\n      <td>2.749240</td>\n      <td>56.729225</td>\n      <td>175.935076</td>\n      <td>30.484308</td>\n      <td>81.024530</td>\n      <td>225.379997</td>\n      <td>217.554500</td>\n      <td>0.0</td>\n      <td>20.281134</td>\n      <td>6.490719</td>\n      <td>0.170882</td>\n    </tr>\n    <tr>\n      <th>503</th>\n      <td>2020-12-30</td>\n      <td>225.229996</td>\n      <td>225.630005</td>\n      <td>221.470001</td>\n      <td>221.679993</td>\n      <td>20272300</td>\n      <td>MSFT</td>\n      <td>2.629943</td>\n      <td>54.777431</td>\n      <td>121.157876</td>\n      <td>20.796775</td>\n      <td>70.921951</td>\n      <td>225.769997</td>\n      <td>217.827999</td>\n      <td>0.0</td>\n      <td>44.141282</td>\n      <td>7.085331</td>\n      <td>0.181612</td>\n    </tr>\n    <tr>\n      <th>504</th>\n      <td>2020-12-31</td>\n      <td>221.699997</td>\n      <td>223.000000</td>\n      <td>219.679993</td>\n      <td>222.419998</td>\n      <td>20926900</td>\n      <td>MSFT</td>\n      <td>2.565537</td>\n      <td>55.254561</td>\n      <td>90.097518</td>\n      <td>13.176882</td>\n      <td>66.397193</td>\n      <td>223.464996</td>\n      <td>218.180499</td>\n      <td>0.0</td>\n      <td>42.652325</td>\n      <td>7.232721</td>\n      <td>0.187628</td>\n    </tr>\n  </tbody>\n</table>\n<p>505 rows × 18 columns</p>\n</div>"
     },
     "metadata": {},
     "execution_count": 57
    }
   ],
   "source": [
    "trade"
   ]
  },
  {
   "cell_type": "code",
   "execution_count": 58,
   "metadata": {},
   "outputs": [],
   "source": [
    "## make a prediction and get the account value change\n",
    "trade = data_split(data_df, start = '2019-01-01', end = '2021-01-01')\n",
    "\n",
    "e_trade_gym = StockTradingEnv(df = trade, **env_kwargs)\n",
    "env_trade, obs_trade = e_trade_gym.get_sb_env()"
   ]
  },
  {
   "cell_type": "code",
   "execution_count": 59,
   "metadata": {
    "id": "bLHl6V7eqV6_",
    "tags": []
   },
   "outputs": [],
   "source": [
    "df_account_value, df_actions = DRLAgent.DRL_prediction(model=trained_a2c,\n",
    "                                           test_data = trade,\n",
    "                                           test_env = env_trade,\n",
    "                                           test_obs = obs_trade)"
   ]
  },
  {
   "cell_type": "code",
   "execution_count": null,
   "metadata": {},
   "outputs": [],
   "source": [
    "dji = YahooDownloader(\n",
    "        start_date=start, end_date=end, ticker_list=[ticker]\n",
    "    ).fetch_data()"
   ]
  },
  {
   "cell_type": "code",
   "execution_count": null,
   "metadata": {},
   "outputs": [],
   "source": []
  },
  {
   "cell_type": "code",
   "execution_count": 60,
   "metadata": {},
   "outputs": [
    {
     "output_type": "display_data",
     "data": {
      "text/plain": "<Figure size 432x288 with 1 Axes>",
      "image/svg+xml": "<?xml version=\"1.0\" encoding=\"utf-8\" standalone=\"no\"?>\n<!DOCTYPE svg PUBLIC \"-//W3C//DTD SVG 1.1//EN\"\n  \"http://www.w3.org/Graphics/SVG/1.1/DTD/svg11.dtd\">\n<!-- Created with matplotlib (https://matplotlib.org/) -->\n<svg height=\"262.19625pt\" version=\"1.1\" viewBox=\"0 0 393.674341 262.19625\" width=\"393.674341pt\" xmlns=\"http://www.w3.org/2000/svg\" xmlns:xlink=\"http://www.w3.org/1999/xlink\">\n <metadata>\n  <rdf:RDF xmlns:cc=\"http://creativecommons.org/ns#\" xmlns:dc=\"http://purl.org/dc/elements/1.1/\" xmlns:rdf=\"http://www.w3.org/1999/02/22-rdf-syntax-ns#\">\n   <cc:Work>\n    <dc:type rdf:resource=\"http://purl.org/dc/dcmitype/StillImage\"/>\n    <dc:date>2021-01-08T23:23:49.205044</dc:date>\n    <dc:format>image/svg+xml</dc:format>\n    <dc:creator>\n     <cc:Agent>\n      <dc:title>Matplotlib v3.3.3, https://matplotlib.org/</dc:title>\n     </cc:Agent>\n    </dc:creator>\n   </cc:Work>\n  </rdf:RDF>\n </metadata>\n <defs>\n  <style type=\"text/css\">*{stroke-linecap:butt;stroke-linejoin:round;}</style>\n </defs>\n <g id=\"figure_1\">\n  <g id=\"patch_1\">\n   <path d=\"M -0 262.19625 \nL 393.674341 262.19625 \nL 393.674341 0 \nL -0 0 \nz\n\" style=\"fill:none;\"/>\n  </g>\n  <g id=\"axes_1\">\n   <g id=\"patch_2\">\n    <path d=\"M 39.65 224.64 \nL 374.45 224.64 \nL 374.45 7.2 \nL 39.65 7.2 \nz\n\" style=\"fill:#ffffff;\"/>\n   </g>\n   <g id=\"matplotlib.axis_1\">\n    <g id=\"xtick_1\">\n     <g id=\"line2d_1\">\n      <defs>\n       <path d=\"M 0 0 \nL 0 3.5 \n\" id=\"md23600e3b8\" style=\"stroke:#000000;stroke-width:0.8;\"/>\n      </defs>\n      <g>\n       <use style=\"stroke:#000000;stroke-width:0.8;\" x=\"54.868182\" xlink:href=\"#md23600e3b8\" y=\"224.64\"/>\n      </g>\n     </g>\n     <g id=\"text_1\">\n      <!-- 2019-01-02 -->\n      <g transform=\"translate(25.810369 239.238437)scale(0.1 -0.1)\">\n       <defs>\n        <path d=\"M 19.1875 8.296875 \nL 53.609375 8.296875 \nL 53.609375 0 \nL 7.328125 0 \nL 7.328125 8.296875 \nQ 12.9375 14.109375 22.625 23.890625 \nQ 32.328125 33.6875 34.8125 36.53125 \nQ 39.546875 41.84375 41.421875 45.53125 \nQ 43.3125 49.21875 43.3125 52.78125 \nQ 43.3125 58.59375 39.234375 62.25 \nQ 35.15625 65.921875 28.609375 65.921875 \nQ 23.96875 65.921875 18.8125 64.3125 \nQ 13.671875 62.703125 7.8125 59.421875 \nL 7.8125 69.390625 \nQ 13.765625 71.78125 18.9375 73 \nQ 24.125 74.21875 28.421875 74.21875 \nQ 39.75 74.21875 46.484375 68.546875 \nQ 53.21875 62.890625 53.21875 53.421875 \nQ 53.21875 48.921875 51.53125 44.890625 \nQ 49.859375 40.875 45.40625 35.40625 \nQ 44.1875 33.984375 37.640625 27.21875 \nQ 31.109375 20.453125 19.1875 8.296875 \nz\n\" id=\"DejaVuSans-50\"/>\n        <path d=\"M 31.78125 66.40625 \nQ 24.171875 66.40625 20.328125 58.90625 \nQ 16.5 51.421875 16.5 36.375 \nQ 16.5 21.390625 20.328125 13.890625 \nQ 24.171875 6.390625 31.78125 6.390625 \nQ 39.453125 6.390625 43.28125 13.890625 \nQ 47.125 21.390625 47.125 36.375 \nQ 47.125 51.421875 43.28125 58.90625 \nQ 39.453125 66.40625 31.78125 66.40625 \nz\nM 31.78125 74.21875 \nQ 44.046875 74.21875 50.515625 64.515625 \nQ 56.984375 54.828125 56.984375 36.375 \nQ 56.984375 17.96875 50.515625 8.265625 \nQ 44.046875 -1.421875 31.78125 -1.421875 \nQ 19.53125 -1.421875 13.0625 8.265625 \nQ 6.59375 17.96875 6.59375 36.375 \nQ 6.59375 54.828125 13.0625 64.515625 \nQ 19.53125 74.21875 31.78125 74.21875 \nz\n\" id=\"DejaVuSans-48\"/>\n        <path d=\"M 12.40625 8.296875 \nL 28.515625 8.296875 \nL 28.515625 63.921875 \nL 10.984375 60.40625 \nL 10.984375 69.390625 \nL 28.421875 72.90625 \nL 38.28125 72.90625 \nL 38.28125 8.296875 \nL 54.390625 8.296875 \nL 54.390625 0 \nL 12.40625 0 \nz\n\" id=\"DejaVuSans-49\"/>\n        <path d=\"M 10.984375 1.515625 \nL 10.984375 10.5 \nQ 14.703125 8.734375 18.5 7.8125 \nQ 22.3125 6.890625 25.984375 6.890625 \nQ 35.75 6.890625 40.890625 13.453125 \nQ 46.046875 20.015625 46.78125 33.40625 \nQ 43.953125 29.203125 39.59375 26.953125 \nQ 35.25 24.703125 29.984375 24.703125 \nQ 19.046875 24.703125 12.671875 31.3125 \nQ 6.296875 37.9375 6.296875 49.421875 \nQ 6.296875 60.640625 12.9375 67.421875 \nQ 19.578125 74.21875 30.609375 74.21875 \nQ 43.265625 74.21875 49.921875 64.515625 \nQ 56.59375 54.828125 56.59375 36.375 \nQ 56.59375 19.140625 48.40625 8.859375 \nQ 40.234375 -1.421875 26.421875 -1.421875 \nQ 22.703125 -1.421875 18.890625 -0.6875 \nQ 15.09375 0.046875 10.984375 1.515625 \nz\nM 30.609375 32.421875 \nQ 37.25 32.421875 41.125 36.953125 \nQ 45.015625 41.5 45.015625 49.421875 \nQ 45.015625 57.28125 41.125 61.84375 \nQ 37.25 66.40625 30.609375 66.40625 \nQ 23.96875 66.40625 20.09375 61.84375 \nQ 16.21875 57.28125 16.21875 49.421875 \nQ 16.21875 41.5 20.09375 36.953125 \nQ 23.96875 32.421875 30.609375 32.421875 \nz\n\" id=\"DejaVuSans-57\"/>\n        <path d=\"M 4.890625 31.390625 \nL 31.203125 31.390625 \nL 31.203125 23.390625 \nL 4.890625 23.390625 \nz\n\" id=\"DejaVuSans-45\"/>\n       </defs>\n       <use xlink:href=\"#DejaVuSans-50\"/>\n       <use x=\"63.623047\" xlink:href=\"#DejaVuSans-48\"/>\n       <use x=\"127.246094\" xlink:href=\"#DejaVuSans-49\"/>\n       <use x=\"190.869141\" xlink:href=\"#DejaVuSans-57\"/>\n       <use x=\"254.492188\" xlink:href=\"#DejaVuSans-45\"/>\n       <use x=\"290.576172\" xlink:href=\"#DejaVuSans-48\"/>\n       <use x=\"354.199219\" xlink:href=\"#DejaVuSans-49\"/>\n       <use x=\"417.822266\" xlink:href=\"#DejaVuSans-45\"/>\n       <use x=\"453.90625\" xlink:href=\"#DejaVuSans-48\"/>\n       <use x=\"517.529297\" xlink:href=\"#DejaVuSans-50\"/>\n      </g>\n     </g>\n    </g>\n    <g id=\"xtick_2\">\n     <g id=\"line2d_2\">\n      <g>\n       <use style=\"stroke:#000000;stroke-width:0.8;\" x=\"115.377851\" xlink:href=\"#md23600e3b8\" y=\"224.64\"/>\n      </g>\n     </g>\n     <g id=\"text_2\">\n      <!-- 2019-05-28 -->\n      <g transform=\"translate(86.320039 239.238437)scale(0.1 -0.1)\">\n       <defs>\n        <path d=\"M 10.796875 72.90625 \nL 49.515625 72.90625 \nL 49.515625 64.59375 \nL 19.828125 64.59375 \nL 19.828125 46.734375 \nQ 21.96875 47.46875 24.109375 47.828125 \nQ 26.265625 48.1875 28.421875 48.1875 \nQ 40.625 48.1875 47.75 41.5 \nQ 54.890625 34.8125 54.890625 23.390625 \nQ 54.890625 11.625 47.5625 5.09375 \nQ 40.234375 -1.421875 26.90625 -1.421875 \nQ 22.3125 -1.421875 17.546875 -0.640625 \nQ 12.796875 0.140625 7.71875 1.703125 \nL 7.71875 11.625 \nQ 12.109375 9.234375 16.796875 8.0625 \nQ 21.484375 6.890625 26.703125 6.890625 \nQ 35.15625 6.890625 40.078125 11.328125 \nQ 45.015625 15.765625 45.015625 23.390625 \nQ 45.015625 31 40.078125 35.4375 \nQ 35.15625 39.890625 26.703125 39.890625 \nQ 22.75 39.890625 18.8125 39.015625 \nQ 14.890625 38.140625 10.796875 36.28125 \nz\n\" id=\"DejaVuSans-53\"/>\n        <path d=\"M 31.78125 34.625 \nQ 24.75 34.625 20.71875 30.859375 \nQ 16.703125 27.09375 16.703125 20.515625 \nQ 16.703125 13.921875 20.71875 10.15625 \nQ 24.75 6.390625 31.78125 6.390625 \nQ 38.8125 6.390625 42.859375 10.171875 \nQ 46.921875 13.96875 46.921875 20.515625 \nQ 46.921875 27.09375 42.890625 30.859375 \nQ 38.875 34.625 31.78125 34.625 \nz\nM 21.921875 38.8125 \nQ 15.578125 40.375 12.03125 44.71875 \nQ 8.5 49.078125 8.5 55.328125 \nQ 8.5 64.0625 14.71875 69.140625 \nQ 20.953125 74.21875 31.78125 74.21875 \nQ 42.671875 74.21875 48.875 69.140625 \nQ 55.078125 64.0625 55.078125 55.328125 \nQ 55.078125 49.078125 51.53125 44.71875 \nQ 48 40.375 41.703125 38.8125 \nQ 48.828125 37.15625 52.796875 32.3125 \nQ 56.78125 27.484375 56.78125 20.515625 \nQ 56.78125 9.90625 50.3125 4.234375 \nQ 43.84375 -1.421875 31.78125 -1.421875 \nQ 19.734375 -1.421875 13.25 4.234375 \nQ 6.78125 9.90625 6.78125 20.515625 \nQ 6.78125 27.484375 10.78125 32.3125 \nQ 14.796875 37.15625 21.921875 38.8125 \nz\nM 18.3125 54.390625 \nQ 18.3125 48.734375 21.84375 45.5625 \nQ 25.390625 42.390625 31.78125 42.390625 \nQ 38.140625 42.390625 41.71875 45.5625 \nQ 45.3125 48.734375 45.3125 54.390625 \nQ 45.3125 60.0625 41.71875 63.234375 \nQ 38.140625 66.40625 31.78125 66.40625 \nQ 25.390625 66.40625 21.84375 63.234375 \nQ 18.3125 60.0625 18.3125 54.390625 \nz\n\" id=\"DejaVuSans-56\"/>\n       </defs>\n       <use xlink:href=\"#DejaVuSans-50\"/>\n       <use x=\"63.623047\" xlink:href=\"#DejaVuSans-48\"/>\n       <use x=\"127.246094\" xlink:href=\"#DejaVuSans-49\"/>\n       <use x=\"190.869141\" xlink:href=\"#DejaVuSans-57\"/>\n       <use x=\"254.492188\" xlink:href=\"#DejaVuSans-45\"/>\n       <use x=\"290.576172\" xlink:href=\"#DejaVuSans-48\"/>\n       <use x=\"354.199219\" xlink:href=\"#DejaVuSans-53\"/>\n       <use x=\"417.822266\" xlink:href=\"#DejaVuSans-45\"/>\n       <use x=\"453.90625\" xlink:href=\"#DejaVuSans-50\"/>\n       <use x=\"517.529297\" xlink:href=\"#DejaVuSans-56\"/>\n      </g>\n     </g>\n    </g>\n    <g id=\"xtick_3\">\n     <g id=\"line2d_3\">\n      <g>\n       <use style=\"stroke:#000000;stroke-width:0.8;\" x=\"175.88752\" xlink:href=\"#md23600e3b8\" y=\"224.64\"/>\n      </g>\n     </g>\n     <g id=\"text_3\">\n      <!-- 2019-10-17 -->\n      <g transform=\"translate(146.829708 239.238437)scale(0.1 -0.1)\">\n       <defs>\n        <path d=\"M 8.203125 72.90625 \nL 55.078125 72.90625 \nL 55.078125 68.703125 \nL 28.609375 0 \nL 18.3125 0 \nL 43.21875 64.59375 \nL 8.203125 64.59375 \nz\n\" id=\"DejaVuSans-55\"/>\n       </defs>\n       <use xlink:href=\"#DejaVuSans-50\"/>\n       <use x=\"63.623047\" xlink:href=\"#DejaVuSans-48\"/>\n       <use x=\"127.246094\" xlink:href=\"#DejaVuSans-49\"/>\n       <use x=\"190.869141\" xlink:href=\"#DejaVuSans-57\"/>\n       <use x=\"254.492188\" xlink:href=\"#DejaVuSans-45\"/>\n       <use x=\"290.576172\" xlink:href=\"#DejaVuSans-49\"/>\n       <use x=\"354.199219\" xlink:href=\"#DejaVuSans-48\"/>\n       <use x=\"417.822266\" xlink:href=\"#DejaVuSans-45\"/>\n       <use x=\"453.90625\" xlink:href=\"#DejaVuSans-49\"/>\n       <use x=\"517.529297\" xlink:href=\"#DejaVuSans-55\"/>\n      </g>\n     </g>\n    </g>\n    <g id=\"xtick_4\">\n     <g id=\"line2d_4\">\n      <g>\n       <use style=\"stroke:#000000;stroke-width:0.8;\" x=\"236.39719\" xlink:href=\"#md23600e3b8\" y=\"224.64\"/>\n      </g>\n     </g>\n     <g id=\"text_4\">\n      <!-- 2020-03-12 -->\n      <g transform=\"translate(207.339377 239.238437)scale(0.1 -0.1)\">\n       <defs>\n        <path d=\"M 40.578125 39.3125 \nQ 47.65625 37.796875 51.625 33 \nQ 55.609375 28.21875 55.609375 21.1875 \nQ 55.609375 10.40625 48.1875 4.484375 \nQ 40.765625 -1.421875 27.09375 -1.421875 \nQ 22.515625 -1.421875 17.65625 -0.515625 \nQ 12.796875 0.390625 7.625 2.203125 \nL 7.625 11.71875 \nQ 11.71875 9.328125 16.59375 8.109375 \nQ 21.484375 6.890625 26.8125 6.890625 \nQ 36.078125 6.890625 40.9375 10.546875 \nQ 45.796875 14.203125 45.796875 21.1875 \nQ 45.796875 27.640625 41.28125 31.265625 \nQ 36.765625 34.90625 28.71875 34.90625 \nL 20.21875 34.90625 \nL 20.21875 43.015625 \nL 29.109375 43.015625 \nQ 36.375 43.015625 40.234375 45.921875 \nQ 44.09375 48.828125 44.09375 54.296875 \nQ 44.09375 59.90625 40.109375 62.90625 \nQ 36.140625 65.921875 28.71875 65.921875 \nQ 24.65625 65.921875 20.015625 65.03125 \nQ 15.375 64.15625 9.8125 62.3125 \nL 9.8125 71.09375 \nQ 15.4375 72.65625 20.34375 73.4375 \nQ 25.25 74.21875 29.59375 74.21875 \nQ 40.828125 74.21875 47.359375 69.109375 \nQ 53.90625 64.015625 53.90625 55.328125 \nQ 53.90625 49.265625 50.4375 45.09375 \nQ 46.96875 40.921875 40.578125 39.3125 \nz\n\" id=\"DejaVuSans-51\"/>\n       </defs>\n       <use xlink:href=\"#DejaVuSans-50\"/>\n       <use x=\"63.623047\" xlink:href=\"#DejaVuSans-48\"/>\n       <use x=\"127.246094\" xlink:href=\"#DejaVuSans-50\"/>\n       <use x=\"190.869141\" xlink:href=\"#DejaVuSans-48\"/>\n       <use x=\"254.492188\" xlink:href=\"#DejaVuSans-45\"/>\n       <use x=\"290.576172\" xlink:href=\"#DejaVuSans-48\"/>\n       <use x=\"354.199219\" xlink:href=\"#DejaVuSans-51\"/>\n       <use x=\"417.822266\" xlink:href=\"#DejaVuSans-45\"/>\n       <use x=\"453.90625\" xlink:href=\"#DejaVuSans-49\"/>\n       <use x=\"517.529297\" xlink:href=\"#DejaVuSans-50\"/>\n      </g>\n     </g>\n    </g>\n    <g id=\"xtick_5\">\n     <g id=\"line2d_5\">\n      <g>\n       <use style=\"stroke:#000000;stroke-width:0.8;\" x=\"296.906859\" xlink:href=\"#md23600e3b8\" y=\"224.64\"/>\n      </g>\n     </g>\n     <g id=\"text_5\">\n      <!-- 2020-08-04 -->\n      <g transform=\"translate(267.849046 239.238437)scale(0.1 -0.1)\">\n       <defs>\n        <path d=\"M 37.796875 64.3125 \nL 12.890625 25.390625 \nL 37.796875 25.390625 \nz\nM 35.203125 72.90625 \nL 47.609375 72.90625 \nL 47.609375 25.390625 \nL 58.015625 25.390625 \nL 58.015625 17.1875 \nL 47.609375 17.1875 \nL 47.609375 0 \nL 37.796875 0 \nL 37.796875 17.1875 \nL 4.890625 17.1875 \nL 4.890625 26.703125 \nz\n\" id=\"DejaVuSans-52\"/>\n       </defs>\n       <use xlink:href=\"#DejaVuSans-50\"/>\n       <use x=\"63.623047\" xlink:href=\"#DejaVuSans-48\"/>\n       <use x=\"127.246094\" xlink:href=\"#DejaVuSans-50\"/>\n       <use x=\"190.869141\" xlink:href=\"#DejaVuSans-48\"/>\n       <use x=\"254.492188\" xlink:href=\"#DejaVuSans-45\"/>\n       <use x=\"290.576172\" xlink:href=\"#DejaVuSans-48\"/>\n       <use x=\"354.199219\" xlink:href=\"#DejaVuSans-56\"/>\n       <use x=\"417.822266\" xlink:href=\"#DejaVuSans-45\"/>\n       <use x=\"453.90625\" xlink:href=\"#DejaVuSans-48\"/>\n       <use x=\"517.529297\" xlink:href=\"#DejaVuSans-52\"/>\n      </g>\n     </g>\n    </g>\n    <g id=\"xtick_6\">\n     <g id=\"line2d_6\">\n      <g>\n       <use style=\"stroke:#000000;stroke-width:0.8;\" x=\"357.416528\" xlink:href=\"#md23600e3b8\" y=\"224.64\"/>\n      </g>\n     </g>\n     <g id=\"text_6\">\n      <!-- 2020-12-24 -->\n      <g transform=\"translate(328.358716 239.238437)scale(0.1 -0.1)\">\n       <use xlink:href=\"#DejaVuSans-50\"/>\n       <use x=\"63.623047\" xlink:href=\"#DejaVuSans-48\"/>\n       <use x=\"127.246094\" xlink:href=\"#DejaVuSans-50\"/>\n       <use x=\"190.869141\" xlink:href=\"#DejaVuSans-48\"/>\n       <use x=\"254.492188\" xlink:href=\"#DejaVuSans-45\"/>\n       <use x=\"290.576172\" xlink:href=\"#DejaVuSans-49\"/>\n       <use x=\"354.199219\" xlink:href=\"#DejaVuSans-50\"/>\n       <use x=\"417.822266\" xlink:href=\"#DejaVuSans-45\"/>\n       <use x=\"453.90625\" xlink:href=\"#DejaVuSans-50\"/>\n       <use x=\"517.529297\" xlink:href=\"#DejaVuSans-52\"/>\n      </g>\n     </g>\n    </g>\n    <g id=\"text_7\">\n     <!-- date -->\n     <g transform=\"translate(195.775 252.916562)scale(0.1 -0.1)\">\n      <defs>\n       <path d=\"M 45.40625 46.390625 \nL 45.40625 75.984375 \nL 54.390625 75.984375 \nL 54.390625 0 \nL 45.40625 0 \nL 45.40625 8.203125 \nQ 42.578125 3.328125 38.25 0.953125 \nQ 33.9375 -1.421875 27.875 -1.421875 \nQ 17.96875 -1.421875 11.734375 6.484375 \nQ 5.515625 14.40625 5.515625 27.296875 \nQ 5.515625 40.1875 11.734375 48.09375 \nQ 17.96875 56 27.875 56 \nQ 33.9375 56 38.25 53.625 \nQ 42.578125 51.265625 45.40625 46.390625 \nz\nM 14.796875 27.296875 \nQ 14.796875 17.390625 18.875 11.75 \nQ 22.953125 6.109375 30.078125 6.109375 \nQ 37.203125 6.109375 41.296875 11.75 \nQ 45.40625 17.390625 45.40625 27.296875 \nQ 45.40625 37.203125 41.296875 42.84375 \nQ 37.203125 48.484375 30.078125 48.484375 \nQ 22.953125 48.484375 18.875 42.84375 \nQ 14.796875 37.203125 14.796875 27.296875 \nz\n\" id=\"DejaVuSans-100\"/>\n       <path d=\"M 34.28125 27.484375 \nQ 23.390625 27.484375 19.1875 25 \nQ 14.984375 22.515625 14.984375 16.5 \nQ 14.984375 11.71875 18.140625 8.90625 \nQ 21.296875 6.109375 26.703125 6.109375 \nQ 34.1875 6.109375 38.703125 11.40625 \nQ 43.21875 16.703125 43.21875 25.484375 \nL 43.21875 27.484375 \nz\nM 52.203125 31.203125 \nL 52.203125 0 \nL 43.21875 0 \nL 43.21875 8.296875 \nQ 40.140625 3.328125 35.546875 0.953125 \nQ 30.953125 -1.421875 24.3125 -1.421875 \nQ 15.921875 -1.421875 10.953125 3.296875 \nQ 6 8.015625 6 15.921875 \nQ 6 25.140625 12.171875 29.828125 \nQ 18.359375 34.515625 30.609375 34.515625 \nL 43.21875 34.515625 \nL 43.21875 35.40625 \nQ 43.21875 41.609375 39.140625 45 \nQ 35.0625 48.390625 27.6875 48.390625 \nQ 23 48.390625 18.546875 47.265625 \nQ 14.109375 46.140625 10.015625 43.890625 \nL 10.015625 52.203125 \nQ 14.9375 54.109375 19.578125 55.046875 \nQ 24.21875 56 28.609375 56 \nQ 40.484375 56 46.34375 49.84375 \nQ 52.203125 43.703125 52.203125 31.203125 \nz\n\" id=\"DejaVuSans-97\"/>\n       <path d=\"M 18.3125 70.21875 \nL 18.3125 54.6875 \nL 36.8125 54.6875 \nL 36.8125 47.703125 \nL 18.3125 47.703125 \nL 18.3125 18.015625 \nQ 18.3125 11.328125 20.140625 9.421875 \nQ 21.96875 7.515625 27.59375 7.515625 \nL 36.8125 7.515625 \nL 36.8125 0 \nL 27.59375 0 \nQ 17.1875 0 13.234375 3.875 \nQ 9.28125 7.765625 9.28125 18.015625 \nL 9.28125 47.703125 \nL 2.6875 47.703125 \nL 2.6875 54.6875 \nL 9.28125 54.6875 \nL 9.28125 70.21875 \nz\n\" id=\"DejaVuSans-116\"/>\n       <path d=\"M 56.203125 29.59375 \nL 56.203125 25.203125 \nL 14.890625 25.203125 \nQ 15.484375 15.921875 20.484375 11.0625 \nQ 25.484375 6.203125 34.421875 6.203125 \nQ 39.59375 6.203125 44.453125 7.46875 \nQ 49.3125 8.734375 54.109375 11.28125 \nL 54.109375 2.78125 \nQ 49.265625 0.734375 44.1875 -0.34375 \nQ 39.109375 -1.421875 33.890625 -1.421875 \nQ 20.796875 -1.421875 13.15625 6.1875 \nQ 5.515625 13.8125 5.515625 26.8125 \nQ 5.515625 40.234375 12.765625 48.109375 \nQ 20.015625 56 32.328125 56 \nQ 43.359375 56 49.78125 48.890625 \nQ 56.203125 41.796875 56.203125 29.59375 \nz\nM 47.21875 32.234375 \nQ 47.125 39.59375 43.09375 43.984375 \nQ 39.0625 48.390625 32.421875 48.390625 \nQ 24.90625 48.390625 20.390625 44.140625 \nQ 15.875 39.890625 15.1875 32.171875 \nz\n\" id=\"DejaVuSans-101\"/>\n      </defs>\n      <use xlink:href=\"#DejaVuSans-100\"/>\n      <use x=\"63.476562\" xlink:href=\"#DejaVuSans-97\"/>\n      <use x=\"124.755859\" xlink:href=\"#DejaVuSans-116\"/>\n      <use x=\"163.964844\" xlink:href=\"#DejaVuSans-101\"/>\n     </g>\n    </g>\n   </g>\n   <g id=\"matplotlib.axis_2\">\n    <g id=\"ytick_1\">\n     <g id=\"line2d_7\">\n      <defs>\n       <path d=\"M 0 0 \nL -3.5 0 \n\" id=\"mca16bd3219\" style=\"stroke:#000000;stroke-width:0.8;\"/>\n      </defs>\n      <g>\n       <use style=\"stroke:#000000;stroke-width:0.8;\" x=\"39.65\" xlink:href=\"#mca16bd3219\" y=\"192.420462\"/>\n      </g>\n     </g>\n     <g id=\"text_8\">\n      <!-- 200 -->\n      <g transform=\"translate(13.5625 196.219681)scale(0.1 -0.1)\">\n       <use xlink:href=\"#DejaVuSans-50\"/>\n       <use x=\"63.623047\" xlink:href=\"#DejaVuSans-48\"/>\n       <use x=\"127.246094\" xlink:href=\"#DejaVuSans-48\"/>\n      </g>\n     </g>\n    </g>\n    <g id=\"ytick_2\">\n     <g id=\"line2d_8\">\n      <g>\n       <use style=\"stroke:#000000;stroke-width:0.8;\" x=\"39.65\" xlink:href=\"#mca16bd3219\" y=\"147.748659\"/>\n      </g>\n     </g>\n     <g id=\"text_9\">\n      <!-- 400 -->\n      <g transform=\"translate(13.5625 151.547878)scale(0.1 -0.1)\">\n       <use xlink:href=\"#DejaVuSans-52\"/>\n       <use x=\"63.623047\" xlink:href=\"#DejaVuSans-48\"/>\n       <use x=\"127.246094\" xlink:href=\"#DejaVuSans-48\"/>\n      </g>\n     </g>\n    </g>\n    <g id=\"ytick_3\">\n     <g id=\"line2d_9\">\n      <g>\n       <use style=\"stroke:#000000;stroke-width:0.8;\" x=\"39.65\" xlink:href=\"#mca16bd3219\" y=\"103.076857\"/>\n      </g>\n     </g>\n     <g id=\"text_10\">\n      <!-- 600 -->\n      <g transform=\"translate(13.5625 106.876075)scale(0.1 -0.1)\">\n       <defs>\n        <path d=\"M 33.015625 40.375 \nQ 26.375 40.375 22.484375 35.828125 \nQ 18.609375 31.296875 18.609375 23.390625 \nQ 18.609375 15.53125 22.484375 10.953125 \nQ 26.375 6.390625 33.015625 6.390625 \nQ 39.65625 6.390625 43.53125 10.953125 \nQ 47.40625 15.53125 47.40625 23.390625 \nQ 47.40625 31.296875 43.53125 35.828125 \nQ 39.65625 40.375 33.015625 40.375 \nz\nM 52.59375 71.296875 \nL 52.59375 62.3125 \nQ 48.875 64.0625 45.09375 64.984375 \nQ 41.3125 65.921875 37.59375 65.921875 \nQ 27.828125 65.921875 22.671875 59.328125 \nQ 17.53125 52.734375 16.796875 39.40625 \nQ 19.671875 43.65625 24.015625 45.921875 \nQ 28.375 48.1875 33.59375 48.1875 \nQ 44.578125 48.1875 50.953125 41.515625 \nQ 57.328125 34.859375 57.328125 23.390625 \nQ 57.328125 12.15625 50.6875 5.359375 \nQ 44.046875 -1.421875 33.015625 -1.421875 \nQ 20.359375 -1.421875 13.671875 8.265625 \nQ 6.984375 17.96875 6.984375 36.375 \nQ 6.984375 53.65625 15.1875 63.9375 \nQ 23.390625 74.21875 37.203125 74.21875 \nQ 40.921875 74.21875 44.703125 73.484375 \nQ 48.484375 72.75 52.59375 71.296875 \nz\n\" id=\"DejaVuSans-54\"/>\n       </defs>\n       <use xlink:href=\"#DejaVuSans-54\"/>\n       <use x=\"63.623047\" xlink:href=\"#DejaVuSans-48\"/>\n       <use x=\"127.246094\" xlink:href=\"#DejaVuSans-48\"/>\n      </g>\n     </g>\n    </g>\n    <g id=\"ytick_4\">\n     <g id=\"line2d_10\">\n      <g>\n       <use style=\"stroke:#000000;stroke-width:0.8;\" x=\"39.65\" xlink:href=\"#mca16bd3219\" y=\"58.405054\"/>\n      </g>\n     </g>\n     <g id=\"text_11\">\n      <!-- 800 -->\n      <g transform=\"translate(13.5625 62.204273)scale(0.1 -0.1)\">\n       <use xlink:href=\"#DejaVuSans-56\"/>\n       <use x=\"63.623047\" xlink:href=\"#DejaVuSans-48\"/>\n       <use x=\"127.246094\" xlink:href=\"#DejaVuSans-48\"/>\n      </g>\n     </g>\n    </g>\n    <g id=\"ytick_5\">\n     <g id=\"line2d_11\">\n      <g>\n       <use style=\"stroke:#000000;stroke-width:0.8;\" x=\"39.65\" xlink:href=\"#mca16bd3219\" y=\"13.733251\"/>\n      </g>\n     </g>\n     <g id=\"text_12\">\n      <!-- 1000 -->\n      <g transform=\"translate(7.2 17.53247)scale(0.1 -0.1)\">\n       <use xlink:href=\"#DejaVuSans-49\"/>\n       <use x=\"63.623047\" xlink:href=\"#DejaVuSans-48\"/>\n       <use x=\"127.246094\" xlink:href=\"#DejaVuSans-48\"/>\n       <use x=\"190.869141\" xlink:href=\"#DejaVuSans-48\"/>\n      </g>\n     </g>\n    </g>\n   </g>\n   <g id=\"line2d_12\">\n    <path clip-path=\"url(#p99d6a1846d)\" d=\"M 54.868182 214.756364 \nL 55.473279 192.420462 \nL 56.078375 187.506564 \nL 56.683472 165.170663 \nL 57.288569 154.002712 \nL 57.893665 167.180894 \nL 58.498762 144.844992 \nL 59.103859 127.19963 \nL 59.708955 145.515069 \nL 60.314052 123.179168 \nL 60.919149 125.189399 \nL 62.129342 80.517596 \nL 62.734439 70.243082 \nL 63.944632 25.571279 \nL 64.549729 17.530354 \nL 65.759922 17.530354 \nL 66.365019 39.866256 \nL 66.970116 57.0649 \nL 67.575212 46.567026 \nL 68.180309 40.312974 \nL 68.785406 50.364129 \nL 69.390502 72.700031 \nL 70.600696 28.028228 \nL 71.205793 17.083636 \nL 71.810889 24.901202 \nL 72.415986 17.083636 \nL 73.021083 18.870508 \nL 73.626179 41.20641 \nL 74.231276 28.698305 \nL 74.836373 26.688074 \nL 75.441469 17.306995 \nL 76.046566 18.42379 \nL 77.256759 63.095593 \nL 77.861856 60.191926 \nL 78.466953 37.856025 \nL 79.07205 60.191926 \nL 79.677146 37.856025 \nL 80.282243 21.774176 \nL 80.88734 29.145023 \nL 81.492436 17.083636 \nL 82.097533 17.083636 \nL 82.70263 37.856025 \nL 83.307726 24.454484 \nL 83.912823 17.530354 \nL 84.51792 17.530354 \nL 85.123016 32.495408 \nL 85.728113 17.753713 \nL 87.543403 17.753713 \nL 88.1485 40.089615 \nL 88.753597 17.753713 \nL 89.358693 35.175716 \nL 89.96379 36.292512 \nL 90.568887 17.753713 \nL 91.173983 40.089615 \nL 91.77908 18.42379 \nL 92.384177 17.977072 \nL 93.59437 17.977072 \nL 94.199467 25.34792 \nL 94.804564 47.683821 \nL 95.40966 46.343667 \nL 96.014757 24.677843 \nL 96.619854 18.870508 \nL 97.22495 23.561048 \nL 97.830047 18.200431 \nL 98.435144 28.921664 \nL 99.04024 18.200431 \nL 99.645337 18.200431 \nL 100.250434 40.536333 \nL 100.85553 31.155254 \nL 101.460627 18.42379 \nL 102.670821 24.677843 \nL 103.275917 23.337689 \nL 103.881014 18.647149 \nL 104.486111 39.419538 \nL 105.091207 42.546564 \nL 105.696304 25.794638 \nL 106.301401 18.870508 \nL 107.511594 63.542311 \nL 108.721787 39.196179 \nL 109.326884 47.90718 \nL 109.931981 26.464715 \nL 110.537078 25.571279 \nL 111.142174 19.317227 \nL 114.772754 19.317227 \nL 115.377851 23.561048 \nL 115.982948 30.931895 \nL 116.588044 19.317227 \nL 117.193141 19.317227 \nL 117.798238 38.079384 \nL 118.403335 19.987304 \nL 119.613528 19.987304 \nL 120.218625 42.323205 \nL 120.823721 47.237103 \nL 121.428818 24.901202 \nL 122.033915 28.921664 \nL 122.639011 20.210663 \nL 123.244108 33.165485 \nL 123.849205 20.210663 \nL 124.454301 34.505639 \nL 125.059398 20.210663 \nL 127.479785 20.210663 \nL 128.084882 42.546564 \nL 128.689978 20.434022 \nL 129.295075 25.794638 \nL 129.900172 24.677843 \nL 130.505268 20.434022 \nL 131.110365 22.444253 \nL 131.715462 20.434022 \nL 132.320558 28.028228 \nL 132.925655 20.434022 \nL 134.135849 20.434022 \nL 134.740945 42.769923 \nL 135.346042 34.505639 \nL 135.951139 20.210663 \nL 136.556235 20.210663 \nL 137.766429 64.882465 \nL 138.371525 59.521849 \nL 138.976622 37.185948 \nL 139.581719 45.003513 \nL 140.186815 67.339414 \nL 141.397009 22.667612 \nL 142.002106 21.774176 \nL 142.607202 27.358151 \nL 143.212299 35.399076 \nL 143.817396 21.550817 \nL 144.422492 21.774176 \nL 145.027589 29.591741 \nL 145.632686 21.774176 \nL 146.237782 37.632666 \nL 146.842879 21.550817 \nL 147.447976 43.886718 \nL 148.053072 21.997535 \nL 148.658169 44.333436 \nL 149.263266 21.997535 \nL 149.868363 38.079384 \nL 150.473459 22.444253 \nL 151.078556 30.708536 \nL 151.683653 44.780154 \nL 152.288749 42.323205 \nL 152.893846 48.353898 \nL 153.498943 28.028228 \nL 154.104039 22.220894 \nL 154.709136 44.556795 \nL 155.314233 22.667612 \nL 155.919329 22.667612 \nL 156.524426 41.20641 \nL 157.129523 22.890971 \nL 157.73462 30.261818 \nL 158.339716 22.890971 \nL 160.155006 22.890971 \nL 160.760103 45.226872 \nL 161.3652 49.917411 \nL 161.970296 42.993282 \nL 162.575393 22.890971 \nL 163.18049 23.561048 \nL 163.785586 22.890971 \nL 164.390683 30.485177 \nL 164.99578 22.890971 \nL 165.600877 24.454484 \nL 166.205973 38.302743 \nL 166.81107 22.890971 \nL 167.416167 45.226872 \nL 168.021263 28.251587 \nL 168.62636 23.11433 \nL 169.836553 23.11433 \nL 170.44165 45.450231 \nL 171.046747 23.11433 \nL 171.651843 27.358151 \nL 172.25694 49.694052 \nL 172.862037 27.358151 \nL 173.467134 23.337689 \nL 174.677327 23.337689 \nL 175.282424 33.612203 \nL 175.88752 23.337689 \nL 177.097714 68.009492 \nL 177.70281 59.521849 \nL 178.307907 37.185948 \nL 178.913004 23.337689 \nL 179.5181 41.876487 \nL 180.123197 38.302743 \nL 180.728294 30.261818 \nL 181.333391 52.59772 \nL 181.938487 37.632666 \nL 182.543584 43.44 \nL 183.148681 38.97282 \nL 183.753777 40.983051 \nL 184.358874 23.561048 \nL 184.963971 41.20641 \nL 185.569067 23.784407 \nL 186.174164 24.454484 \nL 186.779261 26.241356 \nL 187.384357 46.567026 \nL 187.989454 35.622435 \nL 188.594551 42.099846 \nL 189.199648 64.435747 \nL 189.804744 45.450231 \nL 190.409841 48.800616 \nL 191.014938 26.464715 \nL 191.620034 24.231125 \nL 192.225131 24.231125 \nL 192.830228 46.567026 \nL 193.435324 25.34792 \nL 194.040421 24.454484 \nL 194.645518 24.454484 \nL 195.250614 46.790385 \nL 195.855711 55.724746 \nL 196.460808 74.263544 \nL 197.065905 65.552542 \nL 197.671001 43.216641 \nL 198.276098 53.267797 \nL 198.881195 44.556795 \nL 199.486291 25.34792 \nL 200.091388 47.683821 \nL 200.696485 25.571279 \nL 201.301581 45.896949 \nL 201.906678 40.312974 \nL 202.511775 25.571279 \nL 203.116871 39.866256 \nL 203.721968 28.028228 \nL 204.327065 25.794638 \nL 204.932162 25.794638 \nL 205.537258 48.130539 \nL 206.142355 25.794638 \nL 206.747452 25.571279 \nL 207.352548 25.571279 \nL 207.957645 39.642897 \nL 208.562742 25.571279 \nL 209.167838 38.749461 \nL 209.772935 37.185948 \nL 210.378032 33.835562 \nL 210.983129 26.017997 \nL 211.588225 26.017997 \nL 212.193322 30.485177 \nL 212.798419 38.079384 \nL 213.403515 26.241356 \nL 214.008612 26.241356 \nL 214.613709 29.591741 \nL 215.218805 51.927643 \nL 215.823902 31.378613 \nL 216.428999 26.464715 \nL 217.034095 42.099846 \nL 217.639192 26.688074 \nL 219.454482 26.688074 \nL 220.059579 32.942126 \nL 220.664676 26.911433 \nL 221.269772 49.247334 \nL 221.874869 50.14077 \nL 222.479966 27.804869 \nL 223.085062 27.358151 \nL 223.690159 27.358151 \nL 224.295256 48.353898 \nL 224.900352 28.921664 \nL 225.505449 27.358151 \nL 226.110546 49.694052 \nL 226.715643 27.58151 \nL 227.320739 31.155254 \nL 227.925836 47.683821 \nL 228.530933 26.464715 \nL 229.136029 48.800616 \nL 229.741126 43.886718 \nL 230.346223 66.222619 \nL 230.951319 54.83131 \nL 231.556416 70.019723 \nL 232.161513 47.683821 \nL 232.766609 58.405054 \nL 233.371706 36.069153 \nL 233.976803 58.405054 \nL 234.5819 36.069153 \nL 235.186996 24.454484 \nL 235.792093 46.790385 \nL 236.39719 51.257565 \nL 237.002286 28.921664 \nL 237.607383 51.257565 \nL 238.21248 36.515871 \nL 238.817576 26.688074 \nL 239.422673 49.023975 \nL 240.02777 44.556795 \nL 240.632866 30.261818 \nL 241.237963 26.241356 \nL 241.84306 48.577257 \nL 242.448157 27.58151 \nL 243.053253 27.58151 \nL 243.65835 45.67359 \nL 244.263447 27.358151 \nL 244.868543 49.694052 \nL 245.47364 42.323205 \nL 246.078737 27.58151 \nL 247.28893 27.58151 \nL 247.894027 30.038459 \nL 248.499123 29.145023 \nL 249.10422 27.58151 \nL 249.709317 29.591741 \nL 250.314414 51.927643 \nL 250.91951 49.023975 \nL 251.524607 54.83131 \nL 252.129704 32.495408 \nL 252.7348 47.237103 \nL 253.339897 54.607951 \nL 253.944994 32.272049 \nL 254.55009 28.251587 \nL 255.155187 38.526102 \nL 255.760284 28.028228 \nL 256.36538 48.800616 \nL 256.970477 42.099846 \nL 257.575574 64.435747 \nL 258.180671 72.476672 \nL 258.785767 63.318952 \nL 259.390864 85.654854 \nL 259.995961 63.318952 \nL 260.601057 74.710262 \nL 261.811251 30.261818 \nL 262.416347 48.577257 \nL 263.021444 30.261818 \nL 263.626541 44.333436 \nL 264.231637 32.718767 \nL 264.836734 48.353898 \nL 265.441831 30.708536 \nL 266.046928 30.708536 \nL 266.652024 51.257565 \nL 267.257121 52.151002 \nL 267.862218 55.501387 \nL 268.467314 55.948105 \nL 269.072411 33.612203 \nL 269.677508 30.931895 \nL 270.282604 30.931895 \nL 271.492798 63.095593 \nL 272.097894 40.759692 \nL 272.702991 31.378613 \nL 273.308088 53.714515 \nL 273.913185 32.272049 \nL 274.518281 39.866256 \nL 275.123378 45.003513 \nL 275.728475 32.495408 \nL 276.938668 32.495408 \nL 277.543765 44.110077 \nL 278.148861 32.495408 \nL 280.569248 32.495408 \nL 282.384538 93.025701 \nL 283.594732 48.353898 \nL 284.199828 34.728998 \nL 284.804925 39.642897 \nL 285.410022 34.728998 \nL 286.015118 57.0649 \nL 286.620215 63.318952 \nL 287.225312 40.983051 \nL 287.830408 52.374361 \nL 288.435505 33.835562 \nL 289.040602 51.034206 \nL 290.250795 34.28228 \nL 292.066085 34.28228 \nL 292.671182 49.470693 \nL 293.276279 42.769923 \nL 293.881375 34.28228 \nL 294.486472 56.618182 \nL 295.091569 34.28228 \nL 295.696665 34.28228 \nL 296.301762 53.044438 \nL 296.906859 34.058921 \nL 297.511956 47.460462 \nL 298.117052 34.28228 \nL 298.722149 53.044438 \nL 299.327246 34.058921 \nL 299.932342 56.394823 \nL 300.537439 38.526102 \nL 301.142536 41.876487 \nL 301.747632 34.728998 \nL 302.352729 34.728998 \nL 302.957826 50.810847 \nL 303.562922 34.505639 \nL 304.168019 37.632666 \nL 304.773116 34.505639 \nL 305.983309 34.505639 \nL 306.588406 53.491156 \nL 307.193503 35.175716 \nL 307.798599 35.175716 \nL 308.403696 57.511618 \nL 309.008793 51.257565 \nL 309.613889 35.622435 \nL 310.218986 45.450231 \nL 310.824083 35.399076 \nL 311.429179 57.734977 \nL 312.034276 64.882465 \nL 312.639373 87.218367 \nL 313.24447 91.908906 \nL 313.849566 103.970293 \nL 314.454663 120.945578 \nL 316.87505 34.28228 \nL 317.480146 34.505639 \nL 318.085243 55.948105 \nL 319.295436 34.952357 \nL 319.900533 36.515871 \nL 320.50563 34.952357 \nL 321.110727 34.952357 \nL 321.715823 57.288259 \nL 322.32092 57.288259 \nL 322.926017 49.470693 \nL 323.531113 58.851772 \nL 324.741307 34.952357 \nL 325.9515 34.952357 \nL 326.556597 47.237103 \nL 327.161693 66.222619 \nL 327.76679 43.886718 \nL 328.976984 62.202157 \nL 329.58208 42.323205 \nL 330.187177 57.0649 \nL 330.792274 79.400801 \nL 331.39737 76.497134 \nL 332.002467 80.517596 \nL 332.607564 58.181695 \nL 333.21266 56.618182 \nL 333.817757 47.683821 \nL 334.422854 32.942126 \nL 335.02795 32.942126 \nL 335.633047 49.917411 \nL 336.238144 33.835562 \nL 336.843241 56.171464 \nL 337.448337 33.835562 \nL 338.053434 34.058921 \nL 338.658531 34.058921 \nL 339.263627 47.683821 \nL 339.868724 33.835562 \nL 340.473821 33.835562 \nL 341.684014 78.507365 \nL 342.894207 35.622435 \nL 343.499304 33.165485 \nL 344.104401 33.165485 \nL 344.709498 55.501387 \nL 345.314594 49.917411 \nL 345.919691 33.388844 \nL 346.524788 33.612203 \nL 347.734981 69.796364 \nL 348.340078 61.978798 \nL 348.945174 82.527827 \nL 350.155368 37.856025 \nL 350.760464 52.59772 \nL 351.365561 41.429769 \nL 351.970658 63.76567 \nL 352.575755 75.380339 \nL 353.785948 34.058921 \nL 354.391045 45.003513 \nL 354.996141 34.058921 \nL 355.601238 39.419538 \nL 356.206335 34.058921 \nL 356.811431 52.374361 \nL 357.416528 34.28228 \nL 358.021625 53.044438 \nL 358.626721 34.28228 \nL 359.231818 34.28228 \nL 359.231818 34.28228 \n\" style=\"fill:none;stroke:#1f77b4;stroke-linecap:square;stroke-width:1.5;\"/>\n   </g>\n   <g id=\"patch_3\">\n    <path d=\"M 39.65 224.64 \nL 39.65 7.2 \n\" style=\"fill:none;stroke:#000000;stroke-linecap:square;stroke-linejoin:miter;stroke-width:0.8;\"/>\n   </g>\n   <g id=\"patch_4\">\n    <path d=\"M 374.45 224.64 \nL 374.45 7.2 \n\" style=\"fill:none;stroke:#000000;stroke-linecap:square;stroke-linejoin:miter;stroke-width:0.8;\"/>\n   </g>\n   <g id=\"patch_5\">\n    <path d=\"M 39.65 224.64 \nL 374.45 224.64 \n\" style=\"fill:none;stroke:#000000;stroke-linecap:square;stroke-linejoin:miter;stroke-width:0.8;\"/>\n   </g>\n   <g id=\"patch_6\">\n    <path d=\"M 39.65 7.2 \nL 374.45 7.2 \n\" style=\"fill:none;stroke:#000000;stroke-linecap:square;stroke-linejoin:miter;stroke-width:0.8;\"/>\n   </g>\n  </g>\n </g>\n <defs>\n  <clipPath id=\"p99d6a1846d\">\n   <rect height=\"217.44\" width=\"334.8\" x=\"39.65\" y=\"7.2\"/>\n  </clipPath>\n </defs>\n</svg>\n",
      "image/png": "[encoded data removed]"
     },
     "metadata": {
      "needs_background": "light"
     }
    }
   ],
   "source": [
    "%matplotlib inline \n",
    "\n",
    "df_actions.set_index('date')['actions'].cumsum().plot();"
   ]
  },
  {
   "cell_type": "code",
   "execution_count": 61,
   "metadata": {},
   "outputs": [],
   "source": [
    "# plt.subplot(211)\n",
    "# ax1 = df_actions.set_index('date')['actions'].cumsum().plot()\n",
    "# plt.subplot(212)\n",
    "# df_account_value.set_index('date')['account_value'].cumsum().plot(sharex=ax1,color='green')"
   ]
  },
  {
   "cell_type": "code",
   "execution_count": 62,
   "metadata": {},
   "outputs": [],
   "source": [
    "df_ = pd.concat([df_account_value, df_actions['actions'], trade['close']], axis=1)"
   ]
  },
  {
   "cell_type": "code",
   "execution_count": 63,
   "metadata": {},
   "outputs": [],
   "source": [
    "df_['n_shares'] = df_['actions'].cumsum()\n",
    "df_['v_shares'] = (df_['close'] * df_['n_shares']).round(3)\n",
    "\n",
    "df_['d_money'] = -( df_['actions'] * df_['close'] * (1 + (2*(df_['actions']>0)-1)*0.001) ).round(3)\n",
    "df_['v_money'] = 100000 + df_['d_money'].cumsum()\n",
    "\n",
    "df_['account_value_'] = (df_['v_shares'] + df_['v_money']).round(3)"
   ]
  },
  {
   "cell_type": "code",
   "execution_count": 64,
   "metadata": {},
   "outputs": [
    {
     "output_type": "execute_result",
     "data": {
      "text/plain": [
       "           date  account_value  actions       close  n_shares    v_shares  \\\n",
       "0    2019-01-02  100000.000000    100.0   98.602066     100.0    9860.207   \n",
       "1    2019-01-03   99627.402519    100.0   94.974693     200.0   18994.939   \n",
       "2    2019-01-04  100501.346212     22.0   99.391899     222.0   22065.002   \n",
       "3    2019-01-07  100527.302535    100.0   99.518669     322.0   32045.011   \n",
       "4    2019-01-08  100749.694677     50.0  100.240234     372.0   37289.367   \n",
       "..          ...            ...      ...         ...       ...         ...   \n",
       "500  2020-12-24  202443.877469     81.0  222.750000     908.0  202257.000   \n",
       "501  2020-12-28  204432.520815    -84.0  224.960007     824.0  185367.046   \n",
       "502  2020-12-29  203746.173613     84.0  224.149994     908.0  203528.194   \n",
       "503  2020-12-30  201484.583905      0.0  221.679993     908.0  201285.433   \n",
       "504  2020-12-31  202156.508893      NaN  222.419998       NaN         NaN   \n",
       "\n",
       "       d_money    v_money  account_value_  \n",
       "0    -9870.067  90129.933       99990.140  \n",
       "1    -9506.967  80622.966       99617.905  \n",
       "2    -2188.808  78434.158      100499.160  \n",
       "3    -9961.819  68472.339      100517.350  \n",
       "4    -5017.024  63455.315      100744.682  \n",
       "..         ...        ...             ...  \n",
       "500 -18060.793    167.722      202424.722  \n",
       "501  18877.744  19045.466      204412.512  \n",
       "502 -18847.428    198.038      203726.232  \n",
       "503     -0.000    198.038      201483.471  \n",
       "504        NaN        NaN             NaN  \n",
       "\n",
       "[505 rows x 9 columns]"
      ],
      "text/html": "<div>\n<style scoped>\n    .dataframe tbody tr th:only-of-type {\n        vertical-align: middle;\n    }\n\n    .dataframe tbody tr th {\n        vertical-align: top;\n    }\n\n    .dataframe thead th {\n        text-align: right;\n    }\n</style>\n<table border=\"1\" class=\"dataframe\">\n  <thead>\n    <tr style=\"text-align: right;\">\n      <th></th>\n      <th>date</th>\n      <th>account_value</th>\n      <th>actions</th>\n      <th>close</th>\n      <th>n_shares</th>\n      <th>v_shares</th>\n      <th>d_money</th>\n      <th>v_money</th>\n      <th>account_value_</th>\n    </tr>\n  </thead>\n  <tbody>\n    <tr>\n      <th>0</th>\n      <td>2019-01-02</td>\n      <td>100000.000000</td>\n      <td>100.0</td>\n      <td>98.602066</td>\n      <td>100.0</td>\n      <td>9860.207</td>\n      <td>-9870.067</td>\n      <td>90129.933</td>\n      <td>99990.140</td>\n    </tr>\n    <tr>\n      <th>1</th>\n      <td>2019-01-03</td>\n      <td>99627.402519</td>\n      <td>100.0</td>\n      <td>94.974693</td>\n      <td>200.0</td>\n      <td>18994.939</td>\n      <td>-9506.967</td>\n      <td>80622.966</td>\n      <td>99617.905</td>\n    </tr>\n    <tr>\n      <th>2</th>\n      <td>2019-01-04</td>\n      <td>100501.346212</td>\n      <td>22.0</td>\n      <td>99.391899</td>\n      <td>222.0</td>\n      <td>22065.002</td>\n      <td>-2188.808</td>\n      <td>78434.158</td>\n      <td>100499.160</td>\n    </tr>\n    <tr>\n      <th>3</th>\n      <td>2019-01-07</td>\n      <td>100527.302535</td>\n      <td>100.0</td>\n      <td>99.518669</td>\n      <td>322.0</td>\n      <td>32045.011</td>\n      <td>-9961.819</td>\n      <td>68472.339</td>\n      <td>100517.350</td>\n    </tr>\n    <tr>\n      <th>4</th>\n      <td>2019-01-08</td>\n      <td>100749.694677</td>\n      <td>50.0</td>\n      <td>100.240234</td>\n      <td>372.0</td>\n      <td>37289.367</td>\n      <td>-5017.024</td>\n      <td>63455.315</td>\n      <td>100744.682</td>\n    </tr>\n    <tr>\n      <th>...</th>\n      <td>...</td>\n      <td>...</td>\n      <td>...</td>\n      <td>...</td>\n      <td>...</td>\n      <td>...</td>\n      <td>...</td>\n      <td>...</td>\n      <td>...</td>\n    </tr>\n    <tr>\n      <th>500</th>\n      <td>2020-12-24</td>\n      <td>202443.877469</td>\n      <td>81.0</td>\n      <td>222.750000</td>\n      <td>908.0</td>\n      <td>202257.000</td>\n      <td>-18060.793</td>\n      <td>167.722</td>\n      <td>202424.722</td>\n    </tr>\n    <tr>\n      <th>501</th>\n      <td>2020-12-28</td>\n      <td>204432.520815</td>\n      <td>-84.0</td>\n      <td>224.960007</td>\n      <td>824.0</td>\n      <td>185367.046</td>\n      <td>18877.744</td>\n      <td>19045.466</td>\n      <td>204412.512</td>\n    </tr>\n    <tr>\n      <th>502</th>\n      <td>2020-12-29</td>\n      <td>203746.173613</td>\n      <td>84.0</td>\n      <td>224.149994</td>\n      <td>908.0</td>\n      <td>203528.194</td>\n      <td>-18847.428</td>\n      <td>198.038</td>\n      <td>203726.232</td>\n    </tr>\n    <tr>\n      <th>503</th>\n      <td>2020-12-30</td>\n      <td>201484.583905</td>\n      <td>0.0</td>\n      <td>221.679993</td>\n      <td>908.0</td>\n      <td>201285.433</td>\n      <td>-0.000</td>\n      <td>198.038</td>\n      <td>201483.471</td>\n    </tr>\n    <tr>\n      <th>504</th>\n      <td>2020-12-31</td>\n      <td>202156.508893</td>\n      <td>NaN</td>\n      <td>222.419998</td>\n      <td>NaN</td>\n      <td>NaN</td>\n      <td>NaN</td>\n      <td>NaN</td>\n      <td>NaN</td>\n    </tr>\n  </tbody>\n</table>\n<p>505 rows × 9 columns</p>\n</div>"
     },
     "metadata": {},
     "execution_count": 64
    }
   ],
   "source": [
    "df_"
   ]
  },
  {
   "cell_type": "code",
   "execution_count": 65,
   "metadata": {},
   "outputs": [
    {
     "output_type": "display_data",
     "data": {
      "text/plain": "<Figure size 432x288 with 1 Axes>",
      "image/svg+xml": "<?xml version=\"1.0\" encoding=\"utf-8\" standalone=\"no\"?>\n<!DOCTYPE svg PUBLIC \"-//W3C//DTD SVG 1.1//EN\"\n  \"http://www.w3.org/Graphics/SVG/1.1/DTD/svg11.dtd\">\n<!-- Created with matplotlib (https://matplotlib.org/) -->\n<svg height=\"262.19625pt\" version=\"1.1\" viewBox=\"0 0 400.036841 262.19625\" width=\"400.036841pt\" xmlns=\"http://www.w3.org/2000/svg\" xmlns:xlink=\"http://www.w3.org/1999/xlink\">\n <metadata>\n  <rdf:RDF xmlns:cc=\"http://creativecommons.org/ns#\" xmlns:dc=\"http://purl.org/dc/elements/1.1/\" xmlns:rdf=\"http://www.w3.org/1999/02/22-rdf-syntax-ns#\">\n   <cc:Work>\n    <dc:type rdf:resource=\"http://purl.org/dc/dcmitype/StillImage\"/>\n    <dc:date>2021-01-08T23:24:13.816851</dc:date>\n    <dc:format>image/svg+xml</dc:format>\n    <dc:creator>\n     <cc:Agent>\n      <dc:title>Matplotlib v3.3.3, https://matplotlib.org/</dc:title>\n     </cc:Agent>\n    </dc:creator>\n   </cc:Work>\n  </rdf:RDF>\n </metadata>\n <defs>\n  <style type=\"text/css\">*{stroke-linecap:butt;stroke-linejoin:round;}</style>\n </defs>\n <g id=\"figure_1\">\n  <g id=\"patch_1\">\n   <path d=\"M 0 262.19625 \nL 400.036841 262.19625 \nL 400.036841 0 \nL 0 0 \nz\n\" style=\"fill:none;\"/>\n  </g>\n  <g id=\"axes_1\">\n   <g id=\"patch_2\">\n    <path d=\"M 46.0125 224.64 \nL 380.8125 224.64 \nL 380.8125 7.2 \nL 46.0125 7.2 \nz\n\" style=\"fill:#ffffff;\"/>\n   </g>\n   <g id=\"matplotlib.axis_1\">\n    <g id=\"xtick_1\">\n     <g id=\"line2d_1\">\n      <defs>\n       <path d=\"M 0 0 \nL 0 3.5 \n\" id=\"mb9fe105d6d\" style=\"stroke:#000000;stroke-width:0.8;\"/>\n      </defs>\n      <g>\n       <use style=\"stroke:#000000;stroke-width:0.8;\" x=\"61.230682\" xlink:href=\"#mb9fe105d6d\" y=\"224.64\"/>\n      </g>\n     </g>\n     <g id=\"text_1\">\n      <!-- 2019-01-02 -->\n      <g transform=\"translate(32.172869 239.238438)scale(0.1 -0.1)\">\n       <defs>\n        <path d=\"M 19.1875 8.296875 \nL 53.609375 8.296875 \nL 53.609375 0 \nL 7.328125 0 \nL 7.328125 8.296875 \nQ 12.9375 14.109375 22.625 23.890625 \nQ 32.328125 33.6875 34.8125 36.53125 \nQ 39.546875 41.84375 41.421875 45.53125 \nQ 43.3125 49.21875 43.3125 52.78125 \nQ 43.3125 58.59375 39.234375 62.25 \nQ 35.15625 65.921875 28.609375 65.921875 \nQ 23.96875 65.921875 18.8125 64.3125 \nQ 13.671875 62.703125 7.8125 59.421875 \nL 7.8125 69.390625 \nQ 13.765625 71.78125 18.9375 73 \nQ 24.125 74.21875 28.421875 74.21875 \nQ 39.75 74.21875 46.484375 68.546875 \nQ 53.21875 62.890625 53.21875 53.421875 \nQ 53.21875 48.921875 51.53125 44.890625 \nQ 49.859375 40.875 45.40625 35.40625 \nQ 44.1875 33.984375 37.640625 27.21875 \nQ 31.109375 20.453125 19.1875 8.296875 \nz\n\" id=\"DejaVuSans-50\"/>\n        <path d=\"M 31.78125 66.40625 \nQ 24.171875 66.40625 20.328125 58.90625 \nQ 16.5 51.421875 16.5 36.375 \nQ 16.5 21.390625 20.328125 13.890625 \nQ 24.171875 6.390625 31.78125 6.390625 \nQ 39.453125 6.390625 43.28125 13.890625 \nQ 47.125 21.390625 47.125 36.375 \nQ 47.125 51.421875 43.28125 58.90625 \nQ 39.453125 66.40625 31.78125 66.40625 \nz\nM 31.78125 74.21875 \nQ 44.046875 74.21875 50.515625 64.515625 \nQ 56.984375 54.828125 56.984375 36.375 \nQ 56.984375 17.96875 50.515625 8.265625 \nQ 44.046875 -1.421875 31.78125 -1.421875 \nQ 19.53125 -1.421875 13.0625 8.265625 \nQ 6.59375 17.96875 6.59375 36.375 \nQ 6.59375 54.828125 13.0625 64.515625 \nQ 19.53125 74.21875 31.78125 74.21875 \nz\n\" id=\"DejaVuSans-48\"/>\n        <path d=\"M 12.40625 8.296875 \nL 28.515625 8.296875 \nL 28.515625 63.921875 \nL 10.984375 60.40625 \nL 10.984375 69.390625 \nL 28.421875 72.90625 \nL 38.28125 72.90625 \nL 38.28125 8.296875 \nL 54.390625 8.296875 \nL 54.390625 0 \nL 12.40625 0 \nz\n\" id=\"DejaVuSans-49\"/>\n        <path d=\"M 10.984375 1.515625 \nL 10.984375 10.5 \nQ 14.703125 8.734375 18.5 7.8125 \nQ 22.3125 6.890625 25.984375 6.890625 \nQ 35.75 6.890625 40.890625 13.453125 \nQ 46.046875 20.015625 46.78125 33.40625 \nQ 43.953125 29.203125 39.59375 26.953125 \nQ 35.25 24.703125 29.984375 24.703125 \nQ 19.046875 24.703125 12.671875 31.3125 \nQ 6.296875 37.9375 6.296875 49.421875 \nQ 6.296875 60.640625 12.9375 67.421875 \nQ 19.578125 74.21875 30.609375 74.21875 \nQ 43.265625 74.21875 49.921875 64.515625 \nQ 56.59375 54.828125 56.59375 36.375 \nQ 56.59375 19.140625 48.40625 8.859375 \nQ 40.234375 -1.421875 26.421875 -1.421875 \nQ 22.703125 -1.421875 18.890625 -0.6875 \nQ 15.09375 0.046875 10.984375 1.515625 \nz\nM 30.609375 32.421875 \nQ 37.25 32.421875 41.125 36.953125 \nQ 45.015625 41.5 45.015625 49.421875 \nQ 45.015625 57.28125 41.125 61.84375 \nQ 37.25 66.40625 30.609375 66.40625 \nQ 23.96875 66.40625 20.09375 61.84375 \nQ 16.21875 57.28125 16.21875 49.421875 \nQ 16.21875 41.5 20.09375 36.953125 \nQ 23.96875 32.421875 30.609375 32.421875 \nz\n\" id=\"DejaVuSans-57\"/>\n        <path d=\"M 4.890625 31.390625 \nL 31.203125 31.390625 \nL 31.203125 23.390625 \nL 4.890625 23.390625 \nz\n\" id=\"DejaVuSans-45\"/>\n       </defs>\n       <use xlink:href=\"#DejaVuSans-50\"/>\n       <use x=\"63.623047\" xlink:href=\"#DejaVuSans-48\"/>\n       <use x=\"127.246094\" xlink:href=\"#DejaVuSans-49\"/>\n       <use x=\"190.869141\" xlink:href=\"#DejaVuSans-57\"/>\n       <use x=\"254.492188\" xlink:href=\"#DejaVuSans-45\"/>\n       <use x=\"290.576172\" xlink:href=\"#DejaVuSans-48\"/>\n       <use x=\"354.199219\" xlink:href=\"#DejaVuSans-49\"/>\n       <use x=\"417.822266\" xlink:href=\"#DejaVuSans-45\"/>\n       <use x=\"453.90625\" xlink:href=\"#DejaVuSans-48\"/>\n       <use x=\"517.529297\" xlink:href=\"#DejaVuSans-50\"/>\n      </g>\n     </g>\n    </g>\n    <g id=\"xtick_2\">\n     <g id=\"line2d_2\">\n      <g>\n       <use style=\"stroke:#000000;stroke-width:0.8;\" x=\"121.740351\" xlink:href=\"#mb9fe105d6d\" y=\"224.64\"/>\n      </g>\n     </g>\n     <g id=\"text_2\">\n      <!-- 2019-05-28 -->\n      <g transform=\"translate(92.682539 239.238438)scale(0.1 -0.1)\">\n       <defs>\n        <path d=\"M 10.796875 72.90625 \nL 49.515625 72.90625 \nL 49.515625 64.59375 \nL 19.828125 64.59375 \nL 19.828125 46.734375 \nQ 21.96875 47.46875 24.109375 47.828125 \nQ 26.265625 48.1875 28.421875 48.1875 \nQ 40.625 48.1875 47.75 41.5 \nQ 54.890625 34.8125 54.890625 23.390625 \nQ 54.890625 11.625 47.5625 5.09375 \nQ 40.234375 -1.421875 26.90625 -1.421875 \nQ 22.3125 -1.421875 17.546875 -0.640625 \nQ 12.796875 0.140625 7.71875 1.703125 \nL 7.71875 11.625 \nQ 12.109375 9.234375 16.796875 8.0625 \nQ 21.484375 6.890625 26.703125 6.890625 \nQ 35.15625 6.890625 40.078125 11.328125 \nQ 45.015625 15.765625 45.015625 23.390625 \nQ 45.015625 31 40.078125 35.4375 \nQ 35.15625 39.890625 26.703125 39.890625 \nQ 22.75 39.890625 18.8125 39.015625 \nQ 14.890625 38.140625 10.796875 36.28125 \nz\n\" id=\"DejaVuSans-53\"/>\n        <path d=\"M 31.78125 34.625 \nQ 24.75 34.625 20.71875 30.859375 \nQ 16.703125 27.09375 16.703125 20.515625 \nQ 16.703125 13.921875 20.71875 10.15625 \nQ 24.75 6.390625 31.78125 6.390625 \nQ 38.8125 6.390625 42.859375 10.171875 \nQ 46.921875 13.96875 46.921875 20.515625 \nQ 46.921875 27.09375 42.890625 30.859375 \nQ 38.875 34.625 31.78125 34.625 \nz\nM 21.921875 38.8125 \nQ 15.578125 40.375 12.03125 44.71875 \nQ 8.5 49.078125 8.5 55.328125 \nQ 8.5 64.0625 14.71875 69.140625 \nQ 20.953125 74.21875 31.78125 74.21875 \nQ 42.671875 74.21875 48.875 69.140625 \nQ 55.078125 64.0625 55.078125 55.328125 \nQ 55.078125 49.078125 51.53125 44.71875 \nQ 48 40.375 41.703125 38.8125 \nQ 48.828125 37.15625 52.796875 32.3125 \nQ 56.78125 27.484375 56.78125 20.515625 \nQ 56.78125 9.90625 50.3125 4.234375 \nQ 43.84375 -1.421875 31.78125 -1.421875 \nQ 19.734375 -1.421875 13.25 4.234375 \nQ 6.78125 9.90625 6.78125 20.515625 \nQ 6.78125 27.484375 10.78125 32.3125 \nQ 14.796875 37.15625 21.921875 38.8125 \nz\nM 18.3125 54.390625 \nQ 18.3125 48.734375 21.84375 45.5625 \nQ 25.390625 42.390625 31.78125 42.390625 \nQ 38.140625 42.390625 41.71875 45.5625 \nQ 45.3125 48.734375 45.3125 54.390625 \nQ 45.3125 60.0625 41.71875 63.234375 \nQ 38.140625 66.40625 31.78125 66.40625 \nQ 25.390625 66.40625 21.84375 63.234375 \nQ 18.3125 60.0625 18.3125 54.390625 \nz\n\" id=\"DejaVuSans-56\"/>\n       </defs>\n       <use xlink:href=\"#DejaVuSans-50\"/>\n       <use x=\"63.623047\" xlink:href=\"#DejaVuSans-48\"/>\n       <use x=\"127.246094\" xlink:href=\"#DejaVuSans-49\"/>\n       <use x=\"190.869141\" xlink:href=\"#DejaVuSans-57\"/>\n       <use x=\"254.492188\" xlink:href=\"#DejaVuSans-45\"/>\n       <use x=\"290.576172\" xlink:href=\"#DejaVuSans-48\"/>\n       <use x=\"354.199219\" xlink:href=\"#DejaVuSans-53\"/>\n       <use x=\"417.822266\" xlink:href=\"#DejaVuSans-45\"/>\n       <use x=\"453.90625\" xlink:href=\"#DejaVuSans-50\"/>\n       <use x=\"517.529297\" xlink:href=\"#DejaVuSans-56\"/>\n      </g>\n     </g>\n    </g>\n    <g id=\"xtick_3\">\n     <g id=\"line2d_3\">\n      <g>\n       <use style=\"stroke:#000000;stroke-width:0.8;\" x=\"182.25002\" xlink:href=\"#mb9fe105d6d\" y=\"224.64\"/>\n      </g>\n     </g>\n     <g id=\"text_3\">\n      <!-- 2019-10-17 -->\n      <g transform=\"translate(153.192208 239.238438)scale(0.1 -0.1)\">\n       <defs>\n        <path d=\"M 8.203125 72.90625 \nL 55.078125 72.90625 \nL 55.078125 68.703125 \nL 28.609375 0 \nL 18.3125 0 \nL 43.21875 64.59375 \nL 8.203125 64.59375 \nz\n\" id=\"DejaVuSans-55\"/>\n       </defs>\n       <use xlink:href=\"#DejaVuSans-50\"/>\n       <use x=\"63.623047\" xlink:href=\"#DejaVuSans-48\"/>\n       <use x=\"127.246094\" xlink:href=\"#DejaVuSans-49\"/>\n       <use x=\"190.869141\" xlink:href=\"#DejaVuSans-57\"/>\n       <use x=\"254.492188\" xlink:href=\"#DejaVuSans-45\"/>\n       <use x=\"290.576172\" xlink:href=\"#DejaVuSans-49\"/>\n       <use x=\"354.199219\" xlink:href=\"#DejaVuSans-48\"/>\n       <use x=\"417.822266\" xlink:href=\"#DejaVuSans-45\"/>\n       <use x=\"453.90625\" xlink:href=\"#DejaVuSans-49\"/>\n       <use x=\"517.529297\" xlink:href=\"#DejaVuSans-55\"/>\n      </g>\n     </g>\n    </g>\n    <g id=\"xtick_4\">\n     <g id=\"line2d_4\">\n      <g>\n       <use style=\"stroke:#000000;stroke-width:0.8;\" x=\"242.75969\" xlink:href=\"#mb9fe105d6d\" y=\"224.64\"/>\n      </g>\n     </g>\n     <g id=\"text_4\">\n      <!-- 2020-03-12 -->\n      <g transform=\"translate(213.701877 239.238438)scale(0.1 -0.1)\">\n       <defs>\n        <path d=\"M 40.578125 39.3125 \nQ 47.65625 37.796875 51.625 33 \nQ 55.609375 28.21875 55.609375 21.1875 \nQ 55.609375 10.40625 48.1875 4.484375 \nQ 40.765625 -1.421875 27.09375 -1.421875 \nQ 22.515625 -1.421875 17.65625 -0.515625 \nQ 12.796875 0.390625 7.625 2.203125 \nL 7.625 11.71875 \nQ 11.71875 9.328125 16.59375 8.109375 \nQ 21.484375 6.890625 26.8125 6.890625 \nQ 36.078125 6.890625 40.9375 10.546875 \nQ 45.796875 14.203125 45.796875 21.1875 \nQ 45.796875 27.640625 41.28125 31.265625 \nQ 36.765625 34.90625 28.71875 34.90625 \nL 20.21875 34.90625 \nL 20.21875 43.015625 \nL 29.109375 43.015625 \nQ 36.375 43.015625 40.234375 45.921875 \nQ 44.09375 48.828125 44.09375 54.296875 \nQ 44.09375 59.90625 40.109375 62.90625 \nQ 36.140625 65.921875 28.71875 65.921875 \nQ 24.65625 65.921875 20.015625 65.03125 \nQ 15.375 64.15625 9.8125 62.3125 \nL 9.8125 71.09375 \nQ 15.4375 72.65625 20.34375 73.4375 \nQ 25.25 74.21875 29.59375 74.21875 \nQ 40.828125 74.21875 47.359375 69.109375 \nQ 53.90625 64.015625 53.90625 55.328125 \nQ 53.90625 49.265625 50.4375 45.09375 \nQ 46.96875 40.921875 40.578125 39.3125 \nz\n\" id=\"DejaVuSans-51\"/>\n       </defs>\n       <use xlink:href=\"#DejaVuSans-50\"/>\n       <use x=\"63.623047\" xlink:href=\"#DejaVuSans-48\"/>\n       <use x=\"127.246094\" xlink:href=\"#DejaVuSans-50\"/>\n       <use x=\"190.869141\" xlink:href=\"#DejaVuSans-48\"/>\n       <use x=\"254.492188\" xlink:href=\"#DejaVuSans-45\"/>\n       <use x=\"290.576172\" xlink:href=\"#DejaVuSans-48\"/>\n       <use x=\"354.199219\" xlink:href=\"#DejaVuSans-51\"/>\n       <use x=\"417.822266\" xlink:href=\"#DejaVuSans-45\"/>\n       <use x=\"453.90625\" xlink:href=\"#DejaVuSans-49\"/>\n       <use x=\"517.529297\" xlink:href=\"#DejaVuSans-50\"/>\n      </g>\n     </g>\n    </g>\n    <g id=\"xtick_5\">\n     <g id=\"line2d_5\">\n      <g>\n       <use style=\"stroke:#000000;stroke-width:0.8;\" x=\"303.269359\" xlink:href=\"#mb9fe105d6d\" y=\"224.64\"/>\n      </g>\n     </g>\n     <g id=\"text_5\">\n      <!-- 2020-08-04 -->\n      <g transform=\"translate(274.211546 239.238438)scale(0.1 -0.1)\">\n       <defs>\n        <path d=\"M 37.796875 64.3125 \nL 12.890625 25.390625 \nL 37.796875 25.390625 \nz\nM 35.203125 72.90625 \nL 47.609375 72.90625 \nL 47.609375 25.390625 \nL 58.015625 25.390625 \nL 58.015625 17.1875 \nL 47.609375 17.1875 \nL 47.609375 0 \nL 37.796875 0 \nL 37.796875 17.1875 \nL 4.890625 17.1875 \nL 4.890625 26.703125 \nz\n\" id=\"DejaVuSans-52\"/>\n       </defs>\n       <use xlink:href=\"#DejaVuSans-50\"/>\n       <use x=\"63.623047\" xlink:href=\"#DejaVuSans-48\"/>\n       <use x=\"127.246094\" xlink:href=\"#DejaVuSans-50\"/>\n       <use x=\"190.869141\" xlink:href=\"#DejaVuSans-48\"/>\n       <use x=\"254.492188\" xlink:href=\"#DejaVuSans-45\"/>\n       <use x=\"290.576172\" xlink:href=\"#DejaVuSans-48\"/>\n       <use x=\"354.199219\" xlink:href=\"#DejaVuSans-56\"/>\n       <use x=\"417.822266\" xlink:href=\"#DejaVuSans-45\"/>\n       <use x=\"453.90625\" xlink:href=\"#DejaVuSans-48\"/>\n       <use x=\"517.529297\" xlink:href=\"#DejaVuSans-52\"/>\n      </g>\n     </g>\n    </g>\n    <g id=\"xtick_6\">\n     <g id=\"line2d_6\">\n      <g>\n       <use style=\"stroke:#000000;stroke-width:0.8;\" x=\"363.779028\" xlink:href=\"#mb9fe105d6d\" y=\"224.64\"/>\n      </g>\n     </g>\n     <g id=\"text_6\">\n      <!-- 2020-12-24 -->\n      <g transform=\"translate(334.721216 239.238438)scale(0.1 -0.1)\">\n       <use xlink:href=\"#DejaVuSans-50\"/>\n       <use x=\"63.623047\" xlink:href=\"#DejaVuSans-48\"/>\n       <use x=\"127.246094\" xlink:href=\"#DejaVuSans-50\"/>\n       <use x=\"190.869141\" xlink:href=\"#DejaVuSans-48\"/>\n       <use x=\"254.492188\" xlink:href=\"#DejaVuSans-45\"/>\n       <use x=\"290.576172\" xlink:href=\"#DejaVuSans-49\"/>\n       <use x=\"354.199219\" xlink:href=\"#DejaVuSans-50\"/>\n       <use x=\"417.822266\" xlink:href=\"#DejaVuSans-45\"/>\n       <use x=\"453.90625\" xlink:href=\"#DejaVuSans-50\"/>\n       <use x=\"517.529297\" xlink:href=\"#DejaVuSans-52\"/>\n      </g>\n     </g>\n    </g>\n    <g id=\"text_7\">\n     <!-- date -->\n     <g transform=\"translate(202.1375 252.916563)scale(0.1 -0.1)\">\n      <defs>\n       <path d=\"M 45.40625 46.390625 \nL 45.40625 75.984375 \nL 54.390625 75.984375 \nL 54.390625 0 \nL 45.40625 0 \nL 45.40625 8.203125 \nQ 42.578125 3.328125 38.25 0.953125 \nQ 33.9375 -1.421875 27.875 -1.421875 \nQ 17.96875 -1.421875 11.734375 6.484375 \nQ 5.515625 14.40625 5.515625 27.296875 \nQ 5.515625 40.1875 11.734375 48.09375 \nQ 17.96875 56 27.875 56 \nQ 33.9375 56 38.25 53.625 \nQ 42.578125 51.265625 45.40625 46.390625 \nz\nM 14.796875 27.296875 \nQ 14.796875 17.390625 18.875 11.75 \nQ 22.953125 6.109375 30.078125 6.109375 \nQ 37.203125 6.109375 41.296875 11.75 \nQ 45.40625 17.390625 45.40625 27.296875 \nQ 45.40625 37.203125 41.296875 42.84375 \nQ 37.203125 48.484375 30.078125 48.484375 \nQ 22.953125 48.484375 18.875 42.84375 \nQ 14.796875 37.203125 14.796875 27.296875 \nz\n\" id=\"DejaVuSans-100\"/>\n       <path d=\"M 34.28125 27.484375 \nQ 23.390625 27.484375 19.1875 25 \nQ 14.984375 22.515625 14.984375 16.5 \nQ 14.984375 11.71875 18.140625 8.90625 \nQ 21.296875 6.109375 26.703125 6.109375 \nQ 34.1875 6.109375 38.703125 11.40625 \nQ 43.21875 16.703125 43.21875 25.484375 \nL 43.21875 27.484375 \nz\nM 52.203125 31.203125 \nL 52.203125 0 \nL 43.21875 0 \nL 43.21875 8.296875 \nQ 40.140625 3.328125 35.546875 0.953125 \nQ 30.953125 -1.421875 24.3125 -1.421875 \nQ 15.921875 -1.421875 10.953125 3.296875 \nQ 6 8.015625 6 15.921875 \nQ 6 25.140625 12.171875 29.828125 \nQ 18.359375 34.515625 30.609375 34.515625 \nL 43.21875 34.515625 \nL 43.21875 35.40625 \nQ 43.21875 41.609375 39.140625 45 \nQ 35.0625 48.390625 27.6875 48.390625 \nQ 23 48.390625 18.546875 47.265625 \nQ 14.109375 46.140625 10.015625 43.890625 \nL 10.015625 52.203125 \nQ 14.9375 54.109375 19.578125 55.046875 \nQ 24.21875 56 28.609375 56 \nQ 40.484375 56 46.34375 49.84375 \nQ 52.203125 43.703125 52.203125 31.203125 \nz\n\" id=\"DejaVuSans-97\"/>\n       <path d=\"M 18.3125 70.21875 \nL 18.3125 54.6875 \nL 36.8125 54.6875 \nL 36.8125 47.703125 \nL 18.3125 47.703125 \nL 18.3125 18.015625 \nQ 18.3125 11.328125 20.140625 9.421875 \nQ 21.96875 7.515625 27.59375 7.515625 \nL 36.8125 7.515625 \nL 36.8125 0 \nL 27.59375 0 \nQ 17.1875 0 13.234375 3.875 \nQ 9.28125 7.765625 9.28125 18.015625 \nL 9.28125 47.703125 \nL 2.6875 47.703125 \nL 2.6875 54.6875 \nL 9.28125 54.6875 \nL 9.28125 70.21875 \nz\n\" id=\"DejaVuSans-116\"/>\n       <path d=\"M 56.203125 29.59375 \nL 56.203125 25.203125 \nL 14.890625 25.203125 \nQ 15.484375 15.921875 20.484375 11.0625 \nQ 25.484375 6.203125 34.421875 6.203125 \nQ 39.59375 6.203125 44.453125 7.46875 \nQ 49.3125 8.734375 54.109375 11.28125 \nL 54.109375 2.78125 \nQ 49.265625 0.734375 44.1875 -0.34375 \nQ 39.109375 -1.421875 33.890625 -1.421875 \nQ 20.796875 -1.421875 13.15625 6.1875 \nQ 5.515625 13.8125 5.515625 26.8125 \nQ 5.515625 40.234375 12.765625 48.109375 \nQ 20.015625 56 32.328125 56 \nQ 43.359375 56 49.78125 48.890625 \nQ 56.203125 41.796875 56.203125 29.59375 \nz\nM 47.21875 32.234375 \nQ 47.125 39.59375 43.09375 43.984375 \nQ 39.0625 48.390625 32.421875 48.390625 \nQ 24.90625 48.390625 20.390625 44.140625 \nQ 15.875 39.890625 15.1875 32.171875 \nz\n\" id=\"DejaVuSans-101\"/>\n      </defs>\n      <use xlink:href=\"#DejaVuSans-100\"/>\n      <use x=\"63.476562\" xlink:href=\"#DejaVuSans-97\"/>\n      <use x=\"124.755859\" xlink:href=\"#DejaVuSans-116\"/>\n      <use x=\"163.964844\" xlink:href=\"#DejaVuSans-101\"/>\n     </g>\n    </g>\n   </g>\n   <g id=\"matplotlib.axis_2\">\n    <g id=\"ytick_1\">\n     <g id=\"line2d_7\">\n      <defs>\n       <path d=\"M 0 0 \nL -3.5 0 \n\" id=\"mb8a20b1ac7\" style=\"stroke:#000000;stroke-width:0.8;\"/>\n      </defs>\n      <g>\n       <use style=\"stroke:#000000;stroke-width:0.8;\" x=\"46.0125\" xlink:href=\"#mb8a20b1ac7\" y=\"214.728257\"/>\n      </g>\n     </g>\n     <g id=\"text_8\">\n      <!-- 0 -->\n      <g transform=\"translate(32.65 218.527476)scale(0.1 -0.1)\">\n       <use xlink:href=\"#DejaVuSans-48\"/>\n      </g>\n     </g>\n    </g>\n    <g id=\"ytick_2\">\n     <g id=\"line2d_8\">\n      <g>\n       <use style=\"stroke:#000000;stroke-width:0.8;\" x=\"46.0125\" xlink:href=\"#mb8a20b1ac7\" y=\"170.870548\"/>\n      </g>\n     </g>\n     <g id=\"text_9\">\n      <!-- 20000 -->\n      <g transform=\"translate(7.2 174.669767)scale(0.1 -0.1)\">\n       <use xlink:href=\"#DejaVuSans-50\"/>\n       <use x=\"63.623047\" xlink:href=\"#DejaVuSans-48\"/>\n       <use x=\"127.246094\" xlink:href=\"#DejaVuSans-48\"/>\n       <use x=\"190.869141\" xlink:href=\"#DejaVuSans-48\"/>\n       <use x=\"254.492188\" xlink:href=\"#DejaVuSans-48\"/>\n      </g>\n     </g>\n    </g>\n    <g id=\"ytick_3\">\n     <g id=\"line2d_9\">\n      <g>\n       <use style=\"stroke:#000000;stroke-width:0.8;\" x=\"46.0125\" xlink:href=\"#mb8a20b1ac7\" y=\"127.012838\"/>\n      </g>\n     </g>\n     <g id=\"text_10\">\n      <!-- 40000 -->\n      <g transform=\"translate(7.2 130.812057)scale(0.1 -0.1)\">\n       <use xlink:href=\"#DejaVuSans-52\"/>\n       <use x=\"63.623047\" xlink:href=\"#DejaVuSans-48\"/>\n       <use x=\"127.246094\" xlink:href=\"#DejaVuSans-48\"/>\n       <use x=\"190.869141\" xlink:href=\"#DejaVuSans-48\"/>\n       <use x=\"254.492188\" xlink:href=\"#DejaVuSans-48\"/>\n      </g>\n     </g>\n    </g>\n    <g id=\"ytick_4\">\n     <g id=\"line2d_10\">\n      <g>\n       <use style=\"stroke:#000000;stroke-width:0.8;\" x=\"46.0125\" xlink:href=\"#mb8a20b1ac7\" y=\"83.155129\"/>\n      </g>\n     </g>\n     <g id=\"text_11\">\n      <!-- 60000 -->\n      <g transform=\"translate(7.2 86.954348)scale(0.1 -0.1)\">\n       <defs>\n        <path d=\"M 33.015625 40.375 \nQ 26.375 40.375 22.484375 35.828125 \nQ 18.609375 31.296875 18.609375 23.390625 \nQ 18.609375 15.53125 22.484375 10.953125 \nQ 26.375 6.390625 33.015625 6.390625 \nQ 39.65625 6.390625 43.53125 10.953125 \nQ 47.40625 15.53125 47.40625 23.390625 \nQ 47.40625 31.296875 43.53125 35.828125 \nQ 39.65625 40.375 33.015625 40.375 \nz\nM 52.59375 71.296875 \nL 52.59375 62.3125 \nQ 48.875 64.0625 45.09375 64.984375 \nQ 41.3125 65.921875 37.59375 65.921875 \nQ 27.828125 65.921875 22.671875 59.328125 \nQ 17.53125 52.734375 16.796875 39.40625 \nQ 19.671875 43.65625 24.015625 45.921875 \nQ 28.375 48.1875 33.59375 48.1875 \nQ 44.578125 48.1875 50.953125 41.515625 \nQ 57.328125 34.859375 57.328125 23.390625 \nQ 57.328125 12.15625 50.6875 5.359375 \nQ 44.046875 -1.421875 33.015625 -1.421875 \nQ 20.359375 -1.421875 13.671875 8.265625 \nQ 6.984375 17.96875 6.984375 36.375 \nQ 6.984375 53.65625 15.1875 63.9375 \nQ 23.390625 74.21875 37.203125 74.21875 \nQ 40.921875 74.21875 44.703125 73.484375 \nQ 48.484375 72.75 52.59375 71.296875 \nz\n\" id=\"DejaVuSans-54\"/>\n       </defs>\n       <use xlink:href=\"#DejaVuSans-54\"/>\n       <use x=\"63.623047\" xlink:href=\"#DejaVuSans-48\"/>\n       <use x=\"127.246094\" xlink:href=\"#DejaVuSans-48\"/>\n       <use x=\"190.869141\" xlink:href=\"#DejaVuSans-48\"/>\n       <use x=\"254.492188\" xlink:href=\"#DejaVuSans-48\"/>\n      </g>\n     </g>\n    </g>\n    <g id=\"ytick_5\">\n     <g id=\"line2d_11\">\n      <g>\n       <use style=\"stroke:#000000;stroke-width:0.8;\" x=\"46.0125\" xlink:href=\"#mb8a20b1ac7\" y=\"39.297419\"/>\n      </g>\n     </g>\n     <g id=\"text_12\">\n      <!-- 80000 -->\n      <g transform=\"translate(7.2 43.096638)scale(0.1 -0.1)\">\n       <use xlink:href=\"#DejaVuSans-56\"/>\n       <use x=\"63.623047\" xlink:href=\"#DejaVuSans-48\"/>\n       <use x=\"127.246094\" xlink:href=\"#DejaVuSans-48\"/>\n       <use x=\"190.869141\" xlink:href=\"#DejaVuSans-48\"/>\n       <use x=\"254.492188\" xlink:href=\"#DejaVuSans-48\"/>\n      </g>\n     </g>\n    </g>\n   </g>\n   <g id=\"line2d_12\">\n    <path clip-path=\"url(#p0951bc4e63)\" d=\"M 61.230682 17.083636 \nL 61.835779 37.931326 \nL 62.440875 42.731131 \nL 63.045972 64.57626 \nL 63.651069 75.578019 \nL 64.256165 62.436615 \nL 64.861262 84.611369 \nL 65.466359 101.994147 \nL 66.071455 84.118685 \nL 66.676552 106.595237 \nL 67.281649 104.569276 \nL 68.491842 150.337877 \nL 69.096939 160.743057 \nL 70.307132 206.314737 \nL 70.912229 214.572734 \nL 72.122422 214.572734 \nL 72.727519 191.84844 \nL 73.332616 174.671476 \nL 73.937712 185.011118 \nL 74.542809 191.348302 \nL 75.147906 181.041624 \nL 75.753002 158.392095 \nL 76.963196 203.542116 \nL 77.568293 214.580797 \nL 78.173389 206.589163 \nL 78.778486 214.590801 \nL 79.383583 212.763971 \nL 79.988679 189.64663 \nL 80.593776 202.612267 \nL 81.198873 204.685197 \nL 81.803969 214.562903 \nL 82.409066 213.372602 \nL 83.619259 165.329361 \nL 84.224356 168.463871 \nL 84.829453 192.545405 \nL 85.43455 168.404723 \nL 86.039646 192.535695 \nL 86.644743 209.823323 \nL 87.24984 201.912118 \nL 87.854936 214.725779 \nL 88.460033 214.725779 \nL 89.06513 192.215093 \nL 89.670226 206.869081 \nL 90.275323 214.498947 \nL 90.88042 214.498947 \nL 91.485516 197.838873 \nL 92.090613 214.518648 \nL 93.905903 214.518648 \nL 94.511 189.408309 \nL 95.116097 214.700048 \nL 95.721193 194.970076 \nL 96.32629 193.717564 \nL 96.931387 214.579461 \nL 97.536483 189.27819 \nL 98.14158 214.094746 \nL 98.746677 214.607158 \nL 99.95687 214.607158 \nL 100.561967 206.119691 \nL 101.167064 180.391515 \nL 101.77216 181.929912 \nL 102.377257 206.99042 \nL 102.982354 213.715493 \nL 103.58745 208.266624 \nL 104.192547 214.51153 \nL 104.797644 202.075508 \nL 105.40274 214.639606 \nL 106.007837 214.639606 \nL 106.612934 188.089789 \nL 107.21803 199.414709 \nL 107.823127 214.731558 \nL 109.033321 206.950033 \nL 109.638417 208.623725 \nL 110.243514 214.519111 \nL 110.848611 189.005801 \nL 111.453707 185.215245 \nL 112.058804 205.996126 \nL 112.663901 214.53558 \nL 113.874094 160.682961 \nL 115.084287 190.287599 \nL 115.689384 179.967475 \nL 116.294481 205.706492 \nL 116.899578 206.794053 \nL 117.504674 214.582779 \nL 121.135254 214.582779 \nL 121.740351 209.421455 \nL 122.345448 200.543738 \nL 122.950544 214.649504 \nL 123.555641 214.649504 \nL 124.160738 192.974116 \nL 124.765835 214.49743 \nL 125.976028 214.49743 \nL 126.581125 186.204289 \nL 127.186221 179.922952 \nL 127.791318 208.423764 \nL 128.396415 203.327509 \nL 129.001511 214.461337 \nL 129.606608 197.920183 \nL 130.211705 214.544507 \nL 130.816801 195.918747 \nL 131.421898 214.65498 \nL 133.842285 214.65498 \nL 134.447382 185.817078 \nL 135.052478 214.470745 \nL 135.657575 207.548097 \nL 136.262672 209.011758 \nL 136.867768 214.610559 \nL 137.472865 211.94674 \nL 138.077962 214.608125 \nL 138.683058 204.581412 \nL 139.288155 214.59152 \nL 140.498349 214.59152 \nL 141.103445 184.683472 \nL 141.708542 195.771605 \nL 142.313639 214.699765 \nL 142.918735 214.699765 \nL 144.128929 155.908598 \nL 144.734025 163.076561 \nL 145.339122 193.128629 \nL 145.944219 182.523653 \nL 146.549315 152.337841 \nL 147.759509 213.259673 \nL 148.364606 214.470905 \nL 148.969702 207.135466 \nL 149.574799 196.433683 \nL 150.179896 214.746261 \nL 150.784992 214.461585 \nL 151.390089 204.311045 \nL 151.995186 214.526459 \nL 152.600282 193.293276 \nL 153.205379 214.685325 \nL 153.810476 185.44693 \nL 154.415572 214.752068 \nL 155.020669 185.807335 \nL 155.625766 214.745072 \nL 156.230863 193.570434 \nL 156.835959 214.543588 \nL 157.441056 203.571852 \nL 158.046153 184.682012 \nL 158.651249 187.962792 \nL 159.256346 180.18213 \nL 159.861443 206.864145 \nL 160.466539 214.503899 \nL 161.071636 185.217826 \nL 161.676733 214.518718 \nL 162.281829 214.518718 \nL 162.886926 190.125205 \nL 163.492023 214.5553 \nL 164.09712 204.570792 \nL 164.702216 214.507425 \nL 166.517506 214.507425 \nL 167.122603 184.797914 \nL 167.7277 178.56799 \nL 168.332796 187.71652 \nL 168.937893 214.483281 \nL 169.54299 213.585514 \nL 170.148086 214.501638 \nL 170.753183 204.259376 \nL 171.35828 214.500064 \nL 171.963377 212.422515 \nL 172.568473 193.756165 \nL 173.17357 214.598482 \nL 173.778667 184.843608 \nL 174.383763 207.71646 \nL 174.98886 214.540924 \nL 176.199053 214.540924 \nL 176.80415 184.701791 \nL 177.409247 214.384191 \nL 178.014343 208.815322 \nL 178.61944 178.950265 \nL 179.224537 209.061276 \nL 179.829634 214.503857 \nL 181.039827 214.503857 \nL 181.644924 200.550281 \nL 182.25002 214.460094 \nL 183.460214 154.868249 \nL 184.06531 166.085867 \nL 184.670407 195.794248 \nL 185.275504 214.575812 \nL 185.8806 189.341332 \nL 186.485697 194.335387 \nL 187.090794 205.466029 \nL 187.695891 174.22481 \nL 188.300987 195.018482 \nL 188.906084 186.945756 \nL 189.511181 193.203911 \nL 190.116277 190.395119 \nL 190.721374 214.719188 \nL 191.326471 190.098364 \nL 191.931567 214.743244 \nL 192.536664 213.796285 \nL 193.141761 211.254472 \nL 193.746857 182.294159 \nL 194.351954 197.998945 \nL 194.957051 188.603183 \nL 195.562148 156.124066 \nL 196.167244 183.795781 \nL 196.772341 178.930748 \nL 197.377438 211.398819 \nL 197.982534 214.648015 \nL 198.587631 214.648015 \nL 199.192728 181.692039 \nL 199.797824 213.122736 \nL 200.402921 214.437968 \nL 201.008018 214.437968 \nL 201.613114 182.071614 \nL 202.218211 169.07825 \nL 202.823308 142.102623 \nL 203.428405 154.957467 \nL 204.033501 187.833892 \nL 204.638598 173.091494 \nL 205.243695 185.942098 \nL 205.848791 214.567008 \nL 206.453888 181.069099 \nL 207.058985 214.513456 \nL 207.664081 183.998796 \nL 208.269178 192.381351 \nL 208.874275 214.703392 \nL 209.479371 192.865174 \nL 210.084468 210.986155 \nL 210.689565 214.404557 \nL 211.294662 214.404557 \nL 211.899758 179.946346 \nL 212.504855 214.17597 \nL 213.109952 214.518506 \nL 213.715048 214.518506 \nL 214.320145 192.856264 \nL 214.925242 214.617977 \nL 215.530338 194.464125 \nL 216.135435 196.89821 \nL 216.740532 202.179269 \nL 217.345629 214.44472 \nL 217.950725 214.44472 \nL 218.555822 207.415644 \nL 219.160919 195.388828 \nL 219.766015 214.518256 \nL 220.371112 214.518256 \nL 220.976209 209.104355 \nL 221.581305 173.185092 \nL 222.186402 206.500799 \nL 222.791499 214.387319 \nL 223.396595 189.762789 \nL 224.001692 214.560728 \nL 225.816982 214.560728 \nL 226.422079 203.976489 \nL 227.027176 214.539779 \nL 227.632272 175.542341 \nL 228.237369 173.9501 \nL 228.842466 213.892264 \nL 229.447562 214.712002 \nL 230.052659 214.712002 \nL 230.657756 177.074293 \nL 231.262852 211.789966 \nL 231.867949 214.608116 \nL 232.473046 174.021731 \nL 233.078143 214.403438 \nL 233.683239 207.989608 \nL 234.288336 179.263396 \nL 234.893433 214.622264 \nL 235.498529 178.089737 \nL 236.103626 186.243607 \nL 236.708723 151.860821 \nL 237.313819 169.856575 \nL 237.918916 144.316803 \nL 238.524013 180.1471 \nL 239.129109 162.352738 \nL 239.734206 198.56636 \nL 240.339303 163.446703 \nL 240.9444 196.251752 \nL 241.549496 214.476918 \nL 242.154593 181.083142 \nL 242.75969 175.037789 \nL 243.364786 209.630983 \nL 243.969883 180.195421 \nL 244.57498 201.264579 \nL 245.180076 214.719398 \nL 245.785173 183.699246 \nL 246.39027 189.682214 \nL 246.995366 208.636746 \nL 247.600463 214.45227 \nL 248.20556 182.517011 \nL 248.810657 214.477738 \nL 249.415753 214.477738 \nL 250.02085 186.266746 \nL 250.625947 214.433137 \nL 251.231043 181.369755 \nL 251.83614 192.528917 \nL 252.441237 214.641684 \nL 253.65143 214.641684 \nL 254.256527 210.693403 \nL 254.861623 212.132103 \nL 255.46672 214.655469 \nL 256.071817 211.257402 \nL 256.676914 173.896717 \nL 257.28201 178.909429 \nL 257.887107 168.815871 \nL 258.492204 206.943959 \nL 259.0973 182.868355 \nL 259.702397 170.421691 \nL 260.307494 207.756985 \nL 260.91259 214.600046 \nL 261.517687 197.197158 \nL 262.122784 214.579937 \nL 262.72788 178.712572 \nL 263.332977 190.422159 \nL 263.938074 152.476756 \nL 264.543171 138.482281 \nL 265.148267 154.623795 \nL 265.753364 114.945999 \nL 266.358461 154.934099 \nL 266.963557 134.461193 \nL 268.173751 214.486376 \nL 268.778847 182.447869 \nL 269.383944 214.689823 \nL 269.989041 189.607908 \nL 270.594137 210.550085 \nL 271.199234 182.609777 \nL 271.804331 214.643792 \nL 272.409428 214.643792 \nL 273.014524 177.84404 \nL 273.619621 176.260965 \nL 274.224718 170.316588 \nL 274.829814 169.525792 \nL 275.434911 209.54882 \nL 276.040008 214.340575 \nL 276.645104 214.340575 \nL 277.855298 156.532579 \nL 278.460394 197.418312 \nL 279.065491 214.696728 \nL 279.670588 173.325959 \nL 280.275685 214.597487 \nL 280.880781 200.793034 \nL 281.485878 191.381031 \nL 282.090975 214.489858 \nL 283.301168 214.489858 \nL 283.906265 192.238052 \nL 284.511361 214.401526 \nL 286.931748 214.401526 \nL 288.747038 96.596874 \nL 289.957232 186.353289 \nL 290.562328 214.424444 \nL 291.167425 204.438134 \nL 291.772522 214.664504 \nL 292.377618 167.9491 \nL 292.982715 154.90846 \nL 293.587812 200.133934 \nL 294.192908 176.972734 \nL 294.798005 214.685713 \nL 295.403102 180.460363 \nL 296.613295 214.359701 \nL 298.428585 214.359701 \nL 299.033682 184.523052 \nL 299.638779 197.879713 \nL 300.243875 214.646272 \nL 300.848972 170.16725 \nL 301.454069 214.700375 \nL 302.059165 214.700375 \nL 302.664262 175.052968 \nL 303.269359 214.649338 \nL 303.874456 186.800578 \nL 304.479552 214.679428 \nL 305.084649 175.775386 \nL 305.689746 214.436099 \nL 306.294842 170.105294 \nL 306.899939 206.656092 \nL 307.505036 199.832532 \nL 308.110132 214.432582 \nL 308.715229 214.432582 \nL 309.320326 181.241629 \nL 309.925422 214.756364 \nL 310.530519 208.192446 \nL 311.135616 214.72169 \nL 312.345809 214.72169 \nL 312.950906 173.649129 \nL 313.556003 214.326225 \nL 314.161099 214.326225 \nL 314.766196 165.048549 \nL 315.371293 178.980588 \nL 315.976389 214.481937 \nL 316.581486 193.590979 \nL 317.186583 214.699017 \nL 317.791679 170.418371 \nL 318.396776 155.645162 \nL 319.001873 110.77239 \nL 319.60697 101.410591 \nL 320.212066 77.174573 \nL 320.817163 42.505008 \nL 323.23755 214.734593 \nL 323.842646 214.281387 \nL 324.447743 172.206164 \nL 325.657936 214.478527 \nL 326.263033 211.275182 \nL 326.86813 214.451531 \nL 327.473227 214.451531 \nL 328.078323 168.02961 \nL 328.68342 168.02961 \nL 329.288517 184.150426 \nL 329.893613 165.254305 \nL 331.103807 214.497768 \nL 332.314 214.497768 \nL 332.919097 187.715908 \nL 333.524193 146.697207 \nL 334.12929 194.788394 \nL 335.339484 155.943519 \nL 335.94458 197.768466 \nL 336.549677 166.792551 \nL 337.154774 119.839684 \nL 337.75987 125.993916 \nL 338.364967 117.731576 \nL 338.970064 164.41939 \nL 339.57516 167.525547 \nL 340.180257 185.453666 \nL 340.785354 214.709949 \nL 341.39045 214.709949 \nL 341.995547 180.430621 \nL 342.600644 214.540814 \nL 343.205741 165.75257 \nL 343.810837 214.73263 \nL 344.415934 214.255454 \nL 345.021031 214.255454 \nL 345.626127 185.392954 \nL 346.231224 214.636669 \nL 346.836321 214.636669 \nL 348.046514 120.313602 \nL 349.256707 209.544941 \nL 349.861804 214.624988 \nL 350.466901 214.624988 \nL 351.071998 167.774836 \nL 351.677094 179.511372 \nL 352.282191 214.472429 \nL 352.887288 214.003467 \nL 354.097481 137.415758 \nL 354.702578 153.875335 \nL 355.307674 110.672423 \nL 356.517868 205.12664 \nL 357.122964 174.503387 \nL 357.728061 197.608782 \nL 358.333158 150.890074 \nL 358.938255 126.489265 \nL 360.148448 214.406105 \nL 360.753545 190.852699 \nL 361.358641 214.363986 \nL 361.963738 202.660956 \nL 362.568835 214.458537 \nL 363.173931 174.755212 \nL 363.779028 214.360462 \nL 364.384125 172.963732 \nL 364.989221 214.293983 \nL 365.594318 214.293983 \nL 365.594318 214.293983 \n\" style=\"fill:none;stroke:#1f77b4;stroke-linecap:square;stroke-width:1.5;\"/>\n   </g>\n   <g id=\"patch_3\">\n    <path d=\"M 46.0125 224.64 \nL 46.0125 7.2 \n\" style=\"fill:none;stroke:#000000;stroke-linecap:square;stroke-linejoin:miter;stroke-width:0.8;\"/>\n   </g>\n   <g id=\"patch_4\">\n    <path d=\"M 380.8125 224.64 \nL 380.8125 7.2 \n\" style=\"fill:none;stroke:#000000;stroke-linecap:square;stroke-linejoin:miter;stroke-width:0.8;\"/>\n   </g>\n   <g id=\"patch_5\">\n    <path d=\"M 46.0125 224.64 \nL 380.8125 224.64 \n\" style=\"fill:none;stroke:#000000;stroke-linecap:square;stroke-linejoin:miter;stroke-width:0.8;\"/>\n   </g>\n   <g id=\"patch_6\">\n    <path d=\"M 46.0125 7.2 \nL 380.8125 7.2 \n\" style=\"fill:none;stroke:#000000;stroke-linecap:square;stroke-linejoin:miter;stroke-width:0.8;\"/>\n   </g>\n  </g>\n </g>\n <defs>\n  <clipPath id=\"p0951bc4e63\">\n   <rect height=\"217.44\" width=\"334.8\" x=\"46.0125\" y=\"7.2\"/>\n  </clipPath>\n </defs>\n</svg>\n",
      "image/png": "[encoded data removed]"
     },
     "metadata": {
      "needs_background": "light"
     }
    }
   ],
   "source": [
    "df_.set_index('date')['v_money'].plot();"
   ]
  },
  {
   "cell_type": "markdown",
   "metadata": {
    "id": "qYXxFzD5TnTw"
   },
   "source": [
    "<a id='6'></a>\n",
    "# Part 7: Backtesting Performance\n",
    "Backtesting plays a key role in evaluating the performance of a trading strategy. Automated backtesting tool is preferred because it reduces the human error. We usually use the Quantopian pyfolio package to backtest our trading strategies. It is easy to use and consists of various individual plots that provide a comprehensive image of the performance of a trading strategy."
   ]
  },
  {
   "cell_type": "markdown",
   "metadata": {
    "id": "8GwqOO-v1NVz"
   },
   "source": [
    "<a id='6.1'></a>\n",
    "## 7.1 BackTestStats\n",
    "pass in df_account_value, this information is stored in env class\n"
   ]
  },
  {
   "cell_type": "code",
   "execution_count": 71,
   "metadata": {
    "colab": {
     "base_uri": "https://localhost:8080/"
    },
    "id": "C9cpPm9YYxHC",
    "outputId": "7c7a8e34-7ed3-441d-9036-829240430843"
   },
   "outputs": [
    {
     "output_type": "stream",
     "name": "stdout",
     "text": [
      "==============Get Backtest Results===========\nAnnual return          0.420827\nCumulative returns     1.021565\nAnnual volatility      0.317405\nSharpe ratio           1.268732\nCalmar ratio           1.544140\nStability              0.945676\nMax drawdown          -0.272532\nOmega ratio            1.280132\nSortino ratio          1.849961\nSkew                        NaN\nKurtosis                    NaN\nTail ratio             0.921969\nDaily value at risk   -0.038391\ndtype: float64\n"
     ]
    }
   ],
   "source": [
    "print(\"==============Get Backtest Results===========\")\n",
    "now = datetime.datetime.now().strftime('%Y%m%d-%Hh%M')\n",
    "\n",
    "perf_stats_all = BackTestStats(account_value=df_account_value)\n",
    "perf_stats_all = pd.DataFrame(perf_stats_all)\n",
    "# perf_stats_all.to_csv(\"./\"+config.RESULTS_DIR+\"/perf_stats_all_\"+now+'.csv')"
   ]
  },
  {
   "cell_type": "code",
   "execution_count": 68,
   "metadata": {
    "id": "e-Tenjb0hcNr"
   },
   "outputs": [
    {
     "output_type": "execute_result",
     "data": {
      "text/plain": [
       "1.3258360769364061"
      ]
     },
     "metadata": {},
     "execution_count": 68
    }
   ],
   "source": [
    "0.420827 / 0.317405"
   ]
  },
  {
   "cell_type": "markdown",
   "metadata": {
    "id": "y4Gw3HNr1TDU"
   },
   "source": [
    "<a id='6.2'></a>\n",
    "## 7.2 BackTestPlot"
   ]
  },
  {
   "cell_type": "code",
   "execution_count": null,
   "metadata": {
    "colab": {
     "base_uri": "https://localhost:8080/",
     "height": 1000
    },
    "id": "MA_8LuZE1J3X",
    "outputId": "3d2c46b2-2b6e-4cfd-9648-68ae7d37d89c"
   },
   "outputs": [
    {
     "name": "stdout",
     "output_type": "stream",
     "text": [
      "==============Compare to AAPL itself buy-and-hold===========\n",
      "annual return:  98.50882005689301\n",
      "sharpe ratio:  1.8721562790475017\n",
      "[*********************100%***********************]  1 of 1 completed\n",
      "Shape of DataFrame:  (505, 7)\n"
     ]
    },
    {
     "data": {
      "text/html": [
       "<table border=\"1\" class=\"dataframe\">\n",
       "  <thead>\n",
       "    <tr style=\"text-align: right;\"><th>Start date</th><td colspan=2>2019-01-03</td></tr>\n",
       "    <tr style=\"text-align: right;\"><th>End date</th><td colspan=2>2020-12-31</td></tr>\n",
       "    <tr style=\"text-align: right;\"><th>Total months</th><td colspan=2>24</td></tr>\n",
       "    <tr style=\"text-align: right;\">\n",
       "      <th></th>\n",
       "      <th>Backtest</th>\n",
       "    </tr>\n",
       "  </thead>\n",
       "  <tbody>\n",
       "    <tr>\n",
       "      <th>Annual return</th>\n",
       "      <td>85.643%</td>\n",
       "    </tr>\n",
       "    <tr>\n",
       "      <th>Cumulative returns</th>\n",
       "      <td>244.635%</td>\n",
       "    </tr>\n",
       "    <tr>\n",
       "      <th>Annual volatility</th>\n",
       "      <td>36.674%</td>\n",
       "    </tr>\n",
       "    <tr>\n",
       "      <th>Sharpe ratio</th>\n",
       "      <td>1.87</td>\n",
       "    </tr>\n",
       "    <tr>\n",
       "      <th>Calmar ratio</th>\n",
       "      <td>2.73</td>\n",
       "    </tr>\n",
       "    <tr>\n",
       "      <th>Stability</th>\n",
       "      <td>0.94</td>\n",
       "    </tr>\n",
       "    <tr>\n",
       "      <th>Max drawdown</th>\n",
       "      <td>-31.422%</td>\n",
       "    </tr>\n",
       "    <tr>\n",
       "      <th>Omega ratio</th>\n",
       "      <td>1.43</td>\n",
       "    </tr>\n",
       "    <tr>\n",
       "      <th>Sortino ratio</th>\n",
       "      <td>2.83</td>\n",
       "    </tr>\n",
       "    <tr>\n",
       "      <th>Skew</th>\n",
       "      <td>-0.09</td>\n",
       "    </tr>\n",
       "    <tr>\n",
       "      <th>Kurtosis</th>\n",
       "      <td>6.07</td>\n",
       "    </tr>\n",
       "    <tr>\n",
       "      <th>Tail ratio</th>\n",
       "      <td>1.10</td>\n",
       "    </tr>\n",
       "    <tr>\n",
       "      <th>Daily value at risk</th>\n",
       "      <td>-4.348%</td>\n",
       "    </tr>\n",
       "    <tr>\n",
       "      <th>Alpha</th>\n",
       "      <td>0.03</td>\n",
       "    </tr>\n",
       "    <tr>\n",
       "      <th>Beta</th>\n",
       "      <td>0.95</td>\n",
       "    </tr>\n",
       "  </tbody>\n",
       "</table>"
      ],
      "text/plain": [
       "<IPython.core.display.HTML object>"
      ]
     },
     "metadata": {
      "tags": []
     },
     "output_type": "display_data"
    },
    {
     "data": {
      "text/html": [
       "<table border=\"1\" class=\"dataframe\">\n",
       "  <thead>\n",
       "    <tr style=\"text-align: right;\">\n",
       "      <th>Worst drawdown periods</th>\n",
       "      <th>Net drawdown in %</th>\n",
       "      <th>Peak date</th>\n",
       "      <th>Valley date</th>\n",
       "      <th>Recovery date</th>\n",
       "      <th>Duration</th>\n",
       "    </tr>\n",
       "  </thead>\n",
       "  <tbody>\n",
       "    <tr>\n",
       "      <th>0</th>\n",
       "      <td>31.42</td>\n",
       "      <td>2020-02-12</td>\n",
       "      <td>2020-03-23</td>\n",
       "      <td>2020-06-05</td>\n",
       "      <td>83</td>\n",
       "    </tr>\n",
       "    <tr>\n",
       "      <th>1</th>\n",
       "      <td>20.37</td>\n",
       "      <td>2020-09-01</td>\n",
       "      <td>2020-09-18</td>\n",
       "      <td>2020-12-28</td>\n",
       "      <td>85</td>\n",
       "    </tr>\n",
       "    <tr>\n",
       "      <th>2</th>\n",
       "      <td>17.84</td>\n",
       "      <td>2019-05-03</td>\n",
       "      <td>2019-06-03</td>\n",
       "      <td>2019-07-31</td>\n",
       "      <td>64</td>\n",
       "    </tr>\n",
       "    <tr>\n",
       "      <th>3</th>\n",
       "      <td>9.24</td>\n",
       "      <td>2019-07-31</td>\n",
       "      <td>2019-08-05</td>\n",
       "      <td>2019-08-21</td>\n",
       "      <td>16</td>\n",
       "    </tr>\n",
       "    <tr>\n",
       "      <th>4</th>\n",
       "      <td>5.84</td>\n",
       "      <td>2020-07-20</td>\n",
       "      <td>2020-07-24</td>\n",
       "      <td>2020-07-31</td>\n",
       "      <td>10</td>\n",
       "    </tr>\n",
       "  </tbody>\n",
       "</table>"
      ],
      "text/plain": [
       "<IPython.core.display.HTML object>"
      ]
     },
     "metadata": {
      "tags": []
     },
     "output_type": "display_data"
    },
    {
     "data": {
      "image/png": "[encoded data removed]",
      "text/plain": [
       "<Figure size 1008x5184 with 13 Axes>"
      ]
     },
     "metadata": {
      "needs_background": "light",
      "tags": []
     },
     "output_type": "display_data"
    }
   ],
   "source": [
    "print(\"==============Compare to AAPL itself buy-and-hold===========\")\n",
    "%matplotlib inline\n",
    "BackTestPlot(account_value=df_account_value, \n",
    "             baseline_ticker = 'AAPL',\n",
    "             baseline_start = '2019-01-01',\n",
    "             baseline_end = '2021-01-01')"
   ]
  },
  {
   "cell_type": "markdown",
   "metadata": {
    "id": "qSFMdgCJE4O-"
   },
   "source": [
    "<a id='6.3'></a>\n",
    "## 7.3 Baseline Stats"
   ]
  },
  {
   "cell_type": "code",
   "execution_count": 115,
   "metadata": {
    "colab": {
     "base_uri": "https://localhost:8080/"
    },
    "id": "MpR7aQIwqdC4",
    "outputId": "24029a71-3596-4090-d7bc-7f44dd6000fc"
   },
   "outputs": [
    {
     "output_type": "stream",
     "name": "stdout",
     "text": [
      "==============Get Baseline Stats===========\n",
      "[*********************100%***********************]  1 of 1 completed\n",
      "Shape of DataFrame:  (483, 7)\n",
      "Annual return          0.800630\n",
      "Cumulative returns     2.087191\n",
      "Annual volatility      0.382201\n",
      "Sharpe ratio           1.735128\n",
      "Calmar ratio           2.547565\n",
      "Stability              0.930285\n",
      "Max drawdown          -0.314273\n",
      "Omega ratio            1.387241\n",
      "Sortino ratio          2.572655\n",
      "Skew                        NaN\n",
      "Kurtosis                    NaN\n",
      "Tail ratio             1.081315\n",
      "Daily value at risk   -0.045521\n",
      "Alpha                  0.000000\n",
      "Beta                   1.000000\n",
      "dtype: float64\n"
     ]
    }
   ],
   "source": [
    "print(\"==============Get Baseline Stats===========\")\n",
    "baesline_perf_stats=BaselineStats('AAPL')"
   ]
  },
  {
   "cell_type": "code",
   "execution_count": null,
   "metadata": {
    "colab": {
     "base_uri": "https://localhost:8080/"
    },
    "id": "vSFRXQfYFTQf",
    "outputId": "a5951bab-aa47-4fa8-9cd9-9fc62b5b02f5"
   },
   "outputs": [
    {
     "name": "stdout",
     "output_type": "stream",
     "text": [
      "==============Get Baseline Stats===========\n",
      "\r",
      "[*********************100%***********************]  1 of 1 completed\n",
      "Shape of DataFrame:  (483, 7)\n",
      "Annual return          0.210804\n",
      "Cumulative returns     0.442863\n",
      "Annual volatility      0.264385\n",
      "Sharpe ratio           0.858377\n",
      "Calmar ratio           0.621384\n",
      "Stability              0.467075\n",
      "Max drawdown          -0.339250\n",
      "Omega ratio            1.200929\n",
      "Sortino ratio          1.183069\n",
      "Skew                        NaN\n",
      "Kurtosis                    NaN\n",
      "Tail ratio             0.726400\n",
      "Daily value at risk   -0.032409\n",
      "Alpha                  0.000000\n",
      "Beta                   1.000000\n",
      "dtype: float64\n"
     ]
    }
   ],
   "source": [
    "print(\"==============Get Baseline Stats===========\")\n",
    "baesline_perf_stats=BaselineStats('^GSPC')"
   ]
  },
  {
   "cell_type": "markdown",
   "metadata": {
    "id": "tunrA4mjE9la"
   },
   "source": [
    "<a id='6.4'></a>\n",
    "## 7.4 Compare to Stock Market Index"
   ]
  },
  {
   "cell_type": "code",
   "execution_count": 114,
   "metadata": {
    "colab": {
     "base_uri": "https://localhost:8080/",
     "height": 1000
    },
    "id": "5Ca2gHxi1gzX",
    "outputId": "68de7e8c-882a-4e8a-c9a9-cea8ea6ca212"
   },
   "outputs": [
    {
     "output_type": "stream",
     "name": "stdout",
     "text": [
      "==============Compare to S&P 500===========\n",
      "annual return:  42.980668975921276\n",
      "sharpe ratio:  1.241913303151797\n",
      "[*********************100%***********************]  1 of 1 completed\n",
      "Shape of DataFrame:  (483, 7)\n"
     ]
    },
    {
     "output_type": "display_data",
     "data": {
      "text/plain": "<IPython.core.display.HTML object>",
      "text/html": "<table border=\"1\" class=\"dataframe\">\n  <thead>\n    <tr style=\"text-align: right;\"><th>Start date</th><td colspan=2>2019-01-03</td></tr>\n    <tr style=\"text-align: right;\"><th>End date</th><td colspan=2>2020-11-30</td></tr>\n    <tr style=\"text-align: right;\"><th>Total months</th><td colspan=2>22</td></tr>\n    <tr style=\"text-align: right;\">\n      <th></th>\n      <th>Backtest</th>\n    </tr>\n  </thead>\n  <tbody>\n    <tr>\n      <th>Annual return</th>\n      <td>38.3%</td>\n    </tr>\n    <tr>\n      <th>Cumulative returns</th>\n      <td>85.9%</td>\n    </tr>\n    <tr>\n      <th>Annual volatility</th>\n      <td>29.2%</td>\n    </tr>\n    <tr>\n      <th>Sharpe ratio</th>\n      <td>1.26</td>\n    </tr>\n    <tr>\n      <th>Calmar ratio</th>\n      <td>1.76</td>\n    </tr>\n    <tr>\n      <th>Stability</th>\n      <td>0.64</td>\n    </tr>\n    <tr>\n      <th>Max drawdown</th>\n      <td>-21.8%</td>\n    </tr>\n    <tr>\n      <th>Omega ratio</th>\n      <td>1.28</td>\n    </tr>\n    <tr>\n      <th>Sortino ratio</th>\n      <td>1.94</td>\n    </tr>\n    <tr>\n      <th>Skew</th>\n      <td>0.19</td>\n    </tr>\n    <tr>\n      <th>Kurtosis</th>\n      <td>3.61</td>\n    </tr>\n    <tr>\n      <th>Tail ratio</th>\n      <td>1.21</td>\n    </tr>\n    <tr>\n      <th>Daily value at risk</th>\n      <td>-3.5%</td>\n    </tr>\n    <tr>\n      <th>Alpha</th>\n      <td>0.25</td>\n    </tr>\n    <tr>\n      <th>Beta</th>\n      <td>0.65</td>\n    </tr>\n  </tbody>\n</table>"
     },
     "metadata": {}
    },
    {
     "output_type": "error",
     "ename": "AttributeError",
     "evalue": "'numpy.int64' object has no attribute 'to_pydatetime'",
     "traceback": [
      "\u001b[0;31m---------------------------------------------------------------------------\u001b[0m",
      "\u001b[0;31mAttributeError\u001b[0m                            Traceback (most recent call last)",
      "\u001b[0;32m<ipython-input-114-a1f0050d446c>\u001b[0m in \u001b[0;36m<module>\u001b[0;34m\u001b[0m\n\u001b[1;32m      4\u001b[0m \u001b[0;31m# Dow Jones Index: ^DJI\u001b[0m\u001b[0;34m\u001b[0m\u001b[0;34m\u001b[0m\u001b[0;34m\u001b[0m\u001b[0m\n\u001b[1;32m      5\u001b[0m \u001b[0;31m# NASDAQ 100: ^NDX\u001b[0m\u001b[0;34m\u001b[0m\u001b[0;34m\u001b[0m\u001b[0;34m\u001b[0m\u001b[0m\n\u001b[0;32m----> 6\u001b[0;31m \u001b[0mBackTestPlot\u001b[0m\u001b[0;34m(\u001b[0m\u001b[0mdf_account_value\u001b[0m\u001b[0;34m,\u001b[0m \u001b[0mbaseline_ticker\u001b[0m \u001b[0;34m=\u001b[0m \u001b[0;34m'^GSPC'\u001b[0m\u001b[0;34m)\u001b[0m\u001b[0;34m\u001b[0m\u001b[0;34m\u001b[0m\u001b[0m\n\u001b[0m",
      "\u001b[0;32m~/FinRL-Library/finrl/trade/backtest.py\u001b[0m in \u001b[0;36mBackTestPlot\u001b[0;34m(account_value, baseline_start, baseline_end, baseline_ticker)\u001b[0m\n\u001b[1;32m     66\u001b[0m \u001b[0;34m\u001b[0m\u001b[0m\n\u001b[1;32m     67\u001b[0m     \u001b[0;32mwith\u001b[0m \u001b[0mpyfolio\u001b[0m\u001b[0;34m.\u001b[0m\u001b[0mplotting\u001b[0m\u001b[0;34m.\u001b[0m\u001b[0mplotting_context\u001b[0m\u001b[0;34m(\u001b[0m\u001b[0mfont_scale\u001b[0m\u001b[0;34m=\u001b[0m\u001b[0;36m1.1\u001b[0m\u001b[0;34m)\u001b[0m\u001b[0;34m:\u001b[0m\u001b[0;34m\u001b[0m\u001b[0;34m\u001b[0m\u001b[0m\n\u001b[0;32m---> 68\u001b[0;31m         pyfolio.create_full_tear_sheet(\n\u001b[0m\u001b[1;32m     69\u001b[0m             \u001b[0mreturns\u001b[0m\u001b[0;34m=\u001b[0m\u001b[0mDRL_strat\u001b[0m\u001b[0;34m,\u001b[0m \u001b[0mbenchmark_rets\u001b[0m\u001b[0;34m=\u001b[0m\u001b[0mdow_strat\u001b[0m\u001b[0;34m,\u001b[0m \u001b[0mset_context\u001b[0m\u001b[0;34m=\u001b[0m\u001b[0;32mFalse\u001b[0m\u001b[0;34m\u001b[0m\u001b[0;34m\u001b[0m\u001b[0m\n\u001b[1;32m     70\u001b[0m         )\n",
      "\u001b[0;32m~/anaconda3/lib/python3.8/site-packages/pyfolio/tears.py\u001b[0m in \u001b[0;36mcreate_full_tear_sheet\u001b[0;34m(returns, positions, transactions, market_data, benchmark_rets, slippage, live_start_date, sector_mappings, bayesian, round_trips, estimate_intraday, hide_positions, cone_std, bootstrap, unadjusted_returns, style_factor_panel, sectors, caps, shares_held, volumes, percentile, turnover_denom, set_context, factor_returns, factor_loadings, pos_in_dollars, header_rows, factor_partitions)\u001b[0m\n\u001b[1;32m    199\u001b[0m                                      positions, transactions)\n\u001b[1;32m    200\u001b[0m \u001b[0;34m\u001b[0m\u001b[0m\n\u001b[0;32m--> 201\u001b[0;31m     create_returns_tear_sheet(\n\u001b[0m\u001b[1;32m    202\u001b[0m         \u001b[0mreturns\u001b[0m\u001b[0;34m,\u001b[0m\u001b[0;34m\u001b[0m\u001b[0;34m\u001b[0m\u001b[0m\n\u001b[1;32m    203\u001b[0m         \u001b[0mpositions\u001b[0m\u001b[0;34m=\u001b[0m\u001b[0mpositions\u001b[0m\u001b[0;34m,\u001b[0m\u001b[0;34m\u001b[0m\u001b[0;34m\u001b[0m\u001b[0m\n",
      "\u001b[0;32m~/anaconda3/lib/python3.8/site-packages/pyfolio/plotting.py\u001b[0m in \u001b[0;36mcall_w_context\u001b[0;34m(*args, **kwargs)\u001b[0m\n\u001b[1;32m     52\u001b[0m                 \u001b[0;32mreturn\u001b[0m \u001b[0mfunc\u001b[0m\u001b[0;34m(\u001b[0m\u001b[0;34m*\u001b[0m\u001b[0margs\u001b[0m\u001b[0;34m,\u001b[0m \u001b[0;34m**\u001b[0m\u001b[0mkwargs\u001b[0m\u001b[0;34m)\u001b[0m\u001b[0;34m\u001b[0m\u001b[0;34m\u001b[0m\u001b[0m\n\u001b[1;32m     53\u001b[0m         \u001b[0;32melse\u001b[0m\u001b[0;34m:\u001b[0m\u001b[0;34m\u001b[0m\u001b[0;34m\u001b[0m\u001b[0m\n\u001b[0;32m---> 54\u001b[0;31m             \u001b[0;32mreturn\u001b[0m \u001b[0mfunc\u001b[0m\u001b[0;34m(\u001b[0m\u001b[0;34m*\u001b[0m\u001b[0margs\u001b[0m\u001b[0;34m,\u001b[0m \u001b[0;34m**\u001b[0m\u001b[0mkwargs\u001b[0m\u001b[0;34m)\u001b[0m\u001b[0;34m\u001b[0m\u001b[0;34m\u001b[0m\u001b[0m\n\u001b[0m\u001b[1;32m     55\u001b[0m     \u001b[0;32mreturn\u001b[0m \u001b[0mcall_w_context\u001b[0m\u001b[0;34m\u001b[0m\u001b[0;34m\u001b[0m\u001b[0m\n\u001b[1;32m     56\u001b[0m \u001b[0;34m\u001b[0m\u001b[0m\n",
      "\u001b[0;32m~/anaconda3/lib/python3.8/site-packages/pyfolio/tears.py\u001b[0m in \u001b[0;36mcreate_returns_tear_sheet\u001b[0;34m(returns, positions, transactions, live_start_date, cone_std, benchmark_rets, bootstrap, turnover_denom, header_rows, return_fig)\u001b[0m\n\u001b[1;32m    502\u001b[0m                              header_rows=header_rows)\n\u001b[1;32m    503\u001b[0m \u001b[0;34m\u001b[0m\u001b[0m\n\u001b[0;32m--> 504\u001b[0;31m     \u001b[0mplotting\u001b[0m\u001b[0;34m.\u001b[0m\u001b[0mshow_worst_drawdown_periods\u001b[0m\u001b[0;34m(\u001b[0m\u001b[0mreturns\u001b[0m\u001b[0;34m)\u001b[0m\u001b[0;34m\u001b[0m\u001b[0;34m\u001b[0m\u001b[0m\n\u001b[0m\u001b[1;32m    505\u001b[0m \u001b[0;34m\u001b[0m\u001b[0m\n\u001b[1;32m    506\u001b[0m     \u001b[0mvertical_sections\u001b[0m \u001b[0;34m=\u001b[0m \u001b[0;36m11\u001b[0m\u001b[0;34m\u001b[0m\u001b[0;34m\u001b[0m\u001b[0m\n",
      "\u001b[0;32m~/anaconda3/lib/python3.8/site-packages/pyfolio/plotting.py\u001b[0m in \u001b[0;36mshow_worst_drawdown_periods\u001b[0;34m(returns, top)\u001b[0m\n\u001b[1;32m   1662\u001b[0m     \"\"\"\n\u001b[1;32m   1663\u001b[0m \u001b[0;34m\u001b[0m\u001b[0m\n\u001b[0;32m-> 1664\u001b[0;31m     \u001b[0mdrawdown_df\u001b[0m \u001b[0;34m=\u001b[0m \u001b[0mtimeseries\u001b[0m\u001b[0;34m.\u001b[0m\u001b[0mgen_drawdown_table\u001b[0m\u001b[0;34m(\u001b[0m\u001b[0mreturns\u001b[0m\u001b[0;34m,\u001b[0m \u001b[0mtop\u001b[0m\u001b[0;34m=\u001b[0m\u001b[0mtop\u001b[0m\u001b[0;34m)\u001b[0m\u001b[0;34m\u001b[0m\u001b[0;34m\u001b[0m\u001b[0m\n\u001b[0m\u001b[1;32m   1665\u001b[0m     utils.print_table(\n\u001b[1;32m   1666\u001b[0m         \u001b[0mdrawdown_df\u001b[0m\u001b[0;34m.\u001b[0m\u001b[0msort_values\u001b[0m\u001b[0;34m(\u001b[0m\u001b[0;34m'Net drawdown in %'\u001b[0m\u001b[0;34m,\u001b[0m \u001b[0mascending\u001b[0m\u001b[0;34m=\u001b[0m\u001b[0;32mFalse\u001b[0m\u001b[0;34m)\u001b[0m\u001b[0;34m,\u001b[0m\u001b[0;34m\u001b[0m\u001b[0;34m\u001b[0m\u001b[0m\n",
      "\u001b[0;32m~/anaconda3/lib/python3.8/site-packages/pyfolio/timeseries.py\u001b[0m in \u001b[0;36mgen_drawdown_table\u001b[0;34m(returns, top)\u001b[0m\n\u001b[1;32m   1006\u001b[0m         df_drawdowns.loc[i, 'Peak date'] = (peak.to_pydatetime()\n\u001b[1;32m   1007\u001b[0m                                             .strftime('%Y-%m-%d'))\n\u001b[0;32m-> 1008\u001b[0;31m         df_drawdowns.loc[i, 'Valley date'] = (valley.to_pydatetime()\n\u001b[0m\u001b[1;32m   1009\u001b[0m                                               .strftime('%Y-%m-%d'))\n\u001b[1;32m   1010\u001b[0m         \u001b[0;32mif\u001b[0m \u001b[0misinstance\u001b[0m\u001b[0;34m(\u001b[0m\u001b[0mrecovery\u001b[0m\u001b[0;34m,\u001b[0m \u001b[0mfloat\u001b[0m\u001b[0;34m)\u001b[0m\u001b[0;34m:\u001b[0m\u001b[0;34m\u001b[0m\u001b[0;34m\u001b[0m\u001b[0m\n",
      "\u001b[0;31mAttributeError\u001b[0m: 'numpy.int64' object has no attribute 'to_pydatetime'"
     ]
    }
   ],
   "source": [
    "print(\"==============Compare to S&P 500===========\")\n",
    "%matplotlib inline\n",
    "# S&P 500: ^GSPC\n",
    "# Dow Jones Index: ^DJI\n",
    "# NASDAQ 100: ^NDX\n",
    "BackTestPlot(df_account_value, baseline_ticker = '^GSPC')"
   ]
  },
  {
   "cell_type": "code",
   "execution_count": null,
   "metadata": {
    "id": "3_aHGEOTCluG"
   },
   "outputs": [],
   "source": []
  }
 ],
 "metadata": {
  "colab": {
   "collapsed_sections": [
    "Y9CM5DeIr9GC",
    "9upN8FI2r_X1",
    "CiBG2ZknsG73"
   ],
   "include_colab_link": true,
   "name": "FinRL_single_stock_trading.ipynb",
   "provenance": [],
   "toc_visible": true
  },
  "kernelspec": {
   "display_name": "Python 3",
   "language": "python",
   "name": "python3"
  },
  "language_info": {
   "codemirror_mode": {
    "name": "ipython",
    "version": 3
   },
   "file_extension": ".py",
   "mimetype": "text/x-python",
   "name": "python",
   "nbconvert_exporter": "python",
   "pygments_lexer": "ipython3",
   "version": "3.8.5-final"
  }
 },
 "nbformat": 4,
 "nbformat_minor": 1
}