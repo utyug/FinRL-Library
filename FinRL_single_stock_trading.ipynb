{
  "nbformat": 4,
  "nbformat_minor": 0,
  "metadata": {
    "colab": {
      "name": "FinRL_single_stock_trading.ipynb",
      "provenance": [],
      "collapsed_sections": [
        "Y9CM5DeIr9GC",
        "9upN8FI2r_X1",
        "CiBG2ZknsG73"
      ],
      "toc_visible": true,
      "include_colab_link": true
    },
    "kernelspec": {
      "display_name": "Python 3",
      "language": "python",
      "name": "python3"
    },
    "language_info": {
      "codemirror_mode": {
        "name": "ipython",
        "version": 3
      },
      "file_extension": ".py",
      "mimetype": "text/x-python",
      "name": "python",
      "nbconvert_exporter": "python",
      "pygments_lexer": "ipython3",
      "version": "3.8.5-final"
    },
    "accelerator": "GPU",
    "widgets": {
      "application/vnd.jupyter.widget-state+json": {
        "5f288cf035534f489b22b461b08881ac": {
          "model_module": "@jupyter-widgets/controls",
          "model_name": "HBoxModel",
          "state": {
            "_view_name": "HBoxView",
            "_dom_classes": [],
            "_model_name": "HBoxModel",
            "_view_module": "@jupyter-widgets/controls",
            "_model_module_version": "1.5.0",
            "_view_count": null,
            "_view_module_version": "1.5.0",
            "box_style": "",
            "layout": "IPY_MODEL_b1b95de3c0f84ebcbc206e2822269a41",
            "_model_module": "@jupyter-widgets/controls",
            "children": [
              "IPY_MODEL_4d249707be1441c8bb78f523603704c3",
              "IPY_MODEL_abf5587ab5f8403885d7b1d5def35bec"
            ]
          }
        },
        "b1b95de3c0f84ebcbc206e2822269a41": {
          "model_module": "@jupyter-widgets/base",
          "model_name": "LayoutModel",
          "state": {
            "_view_name": "LayoutView",
            "grid_template_rows": null,
            "right": null,
            "justify_content": null,
            "_view_module": "@jupyter-widgets/base",
            "overflow": null,
            "_model_module_version": "1.2.0",
            "_view_count": null,
            "flex_flow": null,
            "width": null,
            "min_width": null,
            "border": null,
            "align_items": null,
            "bottom": null,
            "_model_module": "@jupyter-widgets/base",
            "top": null,
            "grid_column": null,
            "overflow_y": null,
            "overflow_x": null,
            "grid_auto_flow": null,
            "grid_area": null,
            "grid_template_columns": null,
            "flex": null,
            "_model_name": "LayoutModel",
            "justify_items": null,
            "grid_row": null,
            "max_height": null,
            "align_content": null,
            "visibility": null,
            "align_self": null,
            "height": null,
            "min_height": null,
            "padding": null,
            "grid_auto_rows": null,
            "grid_gap": null,
            "max_width": null,
            "order": null,
            "_view_module_version": "1.2.0",
            "grid_template_areas": null,
            "object_position": null,
            "object_fit": null,
            "grid_auto_columns": null,
            "margin": null,
            "display": null,
            "left": null
          }
        },
        "4d249707be1441c8bb78f523603704c3": {
          "model_module": "@jupyter-widgets/controls",
          "model_name": "FloatProgressModel",
          "state": {
            "_view_name": "ProgressView",
            "style": "IPY_MODEL_3d6b6c6909744b728518741f154a5411",
            "_dom_classes": [],
            "description": "100%",
            "_model_name": "FloatProgressModel",
            "bar_style": "success",
            "max": 5,
            "_view_module": "@jupyter-widgets/controls",
            "_model_module_version": "1.5.0",
            "value": 5,
            "_view_count": null,
            "_view_module_version": "1.5.0",
            "orientation": "horizontal",
            "min": 0,
            "description_tooltip": null,
            "_model_module": "@jupyter-widgets/controls",
            "layout": "IPY_MODEL_08b8d2bc87b947a28fcec327bcc94ece"
          }
        },
        "abf5587ab5f8403885d7b1d5def35bec": {
          "model_module": "@jupyter-widgets/controls",
          "model_name": "HTMLModel",
          "state": {
            "_view_name": "HTMLView",
            "style": "IPY_MODEL_4909406d4e894557bf04df5b562b63b1",
            "_dom_classes": [],
            "description": "",
            "_model_name": "HTMLModel",
            "placeholder": "​",
            "_view_module": "@jupyter-widgets/controls",
            "_model_module_version": "1.5.0",
            "value": " 5/5 [36:17&lt;00:00, 435.55s/it]",
            "_view_count": null,
            "_view_module_version": "1.5.0",
            "description_tooltip": null,
            "_model_module": "@jupyter-widgets/controls",
            "layout": "IPY_MODEL_98cfbbe2673a4f3f8c3095fc070db712"
          }
        },
        "3d6b6c6909744b728518741f154a5411": {
          "model_module": "@jupyter-widgets/controls",
          "model_name": "ProgressStyleModel",
          "state": {
            "_view_name": "StyleView",
            "_model_name": "ProgressStyleModel",
            "description_width": "initial",
            "_view_module": "@jupyter-widgets/base",
            "_model_module_version": "1.5.0",
            "_view_count": null,
            "_view_module_version": "1.2.0",
            "bar_color": null,
            "_model_module": "@jupyter-widgets/controls"
          }
        },
        "08b8d2bc87b947a28fcec327bcc94ece": {
          "model_module": "@jupyter-widgets/base",
          "model_name": "LayoutModel",
          "state": {
            "_view_name": "LayoutView",
            "grid_template_rows": null,
            "right": null,
            "justify_content": null,
            "_view_module": "@jupyter-widgets/base",
            "overflow": null,
            "_model_module_version": "1.2.0",
            "_view_count": null,
            "flex_flow": null,
            "width": null,
            "min_width": null,
            "border": null,
            "align_items": null,
            "bottom": null,
            "_model_module": "@jupyter-widgets/base",
            "top": null,
            "grid_column": null,
            "overflow_y": null,
            "overflow_x": null,
            "grid_auto_flow": null,
            "grid_area": null,
            "grid_template_columns": null,
            "flex": null,
            "_model_name": "LayoutModel",
            "justify_items": null,
            "grid_row": null,
            "max_height": null,
            "align_content": null,
            "visibility": null,
            "align_self": null,
            "height": null,
            "min_height": null,
            "padding": null,
            "grid_auto_rows": null,
            "grid_gap": null,
            "max_width": null,
            "order": null,
            "_view_module_version": "1.2.0",
            "grid_template_areas": null,
            "object_position": null,
            "object_fit": null,
            "grid_auto_columns": null,
            "margin": null,
            "display": null,
            "left": null
          }
        },
        "4909406d4e894557bf04df5b562b63b1": {
          "model_module": "@jupyter-widgets/controls",
          "model_name": "DescriptionStyleModel",
          "state": {
            "_view_name": "StyleView",
            "_model_name": "DescriptionStyleModel",
            "description_width": "",
            "_view_module": "@jupyter-widgets/base",
            "_model_module_version": "1.5.0",
            "_view_count": null,
            "_view_module_version": "1.2.0",
            "_model_module": "@jupyter-widgets/controls"
          }
        },
        "98cfbbe2673a4f3f8c3095fc070db712": {
          "model_module": "@jupyter-widgets/base",
          "model_name": "LayoutModel",
          "state": {
            "_view_name": "LayoutView",
            "grid_template_rows": null,
            "right": null,
            "justify_content": null,
            "_view_module": "@jupyter-widgets/base",
            "overflow": null,
            "_model_module_version": "1.2.0",
            "_view_count": null,
            "flex_flow": null,
            "width": null,
            "min_width": null,
            "border": null,
            "align_items": null,
            "bottom": null,
            "_model_module": "@jupyter-widgets/base",
            "top": null,
            "grid_column": null,
            "overflow_y": null,
            "overflow_x": null,
            "grid_auto_flow": null,
            "grid_area": null,
            "grid_template_columns": null,
            "flex": null,
            "_model_name": "LayoutModel",
            "justify_items": null,
            "grid_row": null,
            "max_height": null,
            "align_content": null,
            "visibility": null,
            "align_self": null,
            "height": null,
            "min_height": null,
            "padding": null,
            "grid_auto_rows": null,
            "grid_gap": null,
            "max_width": null,
            "order": null,
            "_view_module_version": "1.2.0",
            "grid_template_areas": null,
            "object_position": null,
            "object_fit": null,
            "grid_auto_columns": null,
            "margin": null,
            "display": null,
            "left": null
          }
        },
        "18010e4978a642af8a11d1a662f49f5a": {
          "model_module": "@jupyter-widgets/controls",
          "model_name": "HBoxModel",
          "state": {
            "_view_name": "HBoxView",
            "_dom_classes": [],
            "_model_name": "HBoxModel",
            "_view_module": "@jupyter-widgets/controls",
            "_model_module_version": "1.5.0",
            "_view_count": null,
            "_view_module_version": "1.5.0",
            "box_style": "",
            "layout": "IPY_MODEL_5d805d51b4e1433e87c1f17f70a87c4e",
            "_model_module": "@jupyter-widgets/controls",
            "children": [
              "IPY_MODEL_6a54e6b5fa7f4fd98da1b37c8b75f92e",
              "IPY_MODEL_0d36e3c461554b8da0ab92e0aacf23b3"
            ]
          }
        },
        "5d805d51b4e1433e87c1f17f70a87c4e": {
          "model_module": "@jupyter-widgets/base",
          "model_name": "LayoutModel",
          "state": {
            "_view_name": "LayoutView",
            "grid_template_rows": null,
            "right": null,
            "justify_content": null,
            "_view_module": "@jupyter-widgets/base",
            "overflow": null,
            "_model_module_version": "1.2.0",
            "_view_count": null,
            "flex_flow": null,
            "width": null,
            "min_width": null,
            "border": null,
            "align_items": null,
            "bottom": null,
            "_model_module": "@jupyter-widgets/base",
            "top": null,
            "grid_column": null,
            "overflow_y": null,
            "overflow_x": null,
            "grid_auto_flow": null,
            "grid_area": null,
            "grid_template_columns": null,
            "flex": null,
            "_model_name": "LayoutModel",
            "justify_items": null,
            "grid_row": null,
            "max_height": null,
            "align_content": null,
            "visibility": null,
            "align_self": null,
            "height": null,
            "min_height": null,
            "padding": null,
            "grid_auto_rows": null,
            "grid_gap": null,
            "max_width": null,
            "order": null,
            "_view_module_version": "1.2.0",
            "grid_template_areas": null,
            "object_position": null,
            "object_fit": null,
            "grid_auto_columns": null,
            "margin": null,
            "display": null,
            "left": null
          }
        },
        "6a54e6b5fa7f4fd98da1b37c8b75f92e": {
          "model_module": "@jupyter-widgets/controls",
          "model_name": "FloatProgressModel",
          "state": {
            "_view_name": "ProgressView",
            "style": "IPY_MODEL_95032cb243d843ec99e9d17423e613a3",
            "_dom_classes": [],
            "description": "100%",
            "_model_name": "FloatProgressModel",
            "bar_style": "success",
            "max": 5,
            "_view_module": "@jupyter-widgets/controls",
            "_model_module_version": "1.5.0",
            "value": 5,
            "_view_count": null,
            "_view_module_version": "1.5.0",
            "orientation": "horizontal",
            "min": 0,
            "description_tooltip": null,
            "_model_module": "@jupyter-widgets/controls",
            "layout": "IPY_MODEL_c37961bff7644bc7bf9ad5efa7cfd77c"
          }
        },
        "0d36e3c461554b8da0ab92e0aacf23b3": {
          "model_module": "@jupyter-widgets/controls",
          "model_name": "HTMLModel",
          "state": {
            "_view_name": "HTMLView",
            "style": "IPY_MODEL_683f53cba2ee41fbb08fc3260dc9bc07",
            "_dom_classes": [],
            "description": "",
            "_model_name": "HTMLModel",
            "placeholder": "​",
            "_view_module": "@jupyter-widgets/controls",
            "_model_module_version": "1.5.0",
            "value": " 5/5 [00:03&lt;00:00,  1.31it/s]",
            "_view_count": null,
            "_view_module_version": "1.5.0",
            "description_tooltip": null,
            "_model_module": "@jupyter-widgets/controls",
            "layout": "IPY_MODEL_5ac3965a7e0c4831a6f8773d18229afc"
          }
        },
        "95032cb243d843ec99e9d17423e613a3": {
          "model_module": "@jupyter-widgets/controls",
          "model_name": "ProgressStyleModel",
          "state": {
            "_view_name": "StyleView",
            "_model_name": "ProgressStyleModel",
            "description_width": "initial",
            "_view_module": "@jupyter-widgets/base",
            "_model_module_version": "1.5.0",
            "_view_count": null,
            "_view_module_version": "1.2.0",
            "bar_color": null,
            "_model_module": "@jupyter-widgets/controls"
          }
        },
        "c37961bff7644bc7bf9ad5efa7cfd77c": {
          "model_module": "@jupyter-widgets/base",
          "model_name": "LayoutModel",
          "state": {
            "_view_name": "LayoutView",
            "grid_template_rows": null,
            "right": null,
            "justify_content": null,
            "_view_module": "@jupyter-widgets/base",
            "overflow": null,
            "_model_module_version": "1.2.0",
            "_view_count": null,
            "flex_flow": null,
            "width": null,
            "min_width": null,
            "border": null,
            "align_items": null,
            "bottom": null,
            "_model_module": "@jupyter-widgets/base",
            "top": null,
            "grid_column": null,
            "overflow_y": null,
            "overflow_x": null,
            "grid_auto_flow": null,
            "grid_area": null,
            "grid_template_columns": null,
            "flex": null,
            "_model_name": "LayoutModel",
            "justify_items": null,
            "grid_row": null,
            "max_height": null,
            "align_content": null,
            "visibility": null,
            "align_self": null,
            "height": null,
            "min_height": null,
            "padding": null,
            "grid_auto_rows": null,
            "grid_gap": null,
            "max_width": null,
            "order": null,
            "_view_module_version": "1.2.0",
            "grid_template_areas": null,
            "object_position": null,
            "object_fit": null,
            "grid_auto_columns": null,
            "margin": null,
            "display": null,
            "left": null
          }
        },
        "683f53cba2ee41fbb08fc3260dc9bc07": {
          "model_module": "@jupyter-widgets/controls",
          "model_name": "DescriptionStyleModel",
          "state": {
            "_view_name": "StyleView",
            "_model_name": "DescriptionStyleModel",
            "description_width": "",
            "_view_module": "@jupyter-widgets/base",
            "_model_module_version": "1.5.0",
            "_view_count": null,
            "_view_module_version": "1.2.0",
            "_model_module": "@jupyter-widgets/controls"
          }
        },
        "5ac3965a7e0c4831a6f8773d18229afc": {
          "model_module": "@jupyter-widgets/base",
          "model_name": "LayoutModel",
          "state": {
            "_view_name": "LayoutView",
            "grid_template_rows": null,
            "right": null,
            "justify_content": null,
            "_view_module": "@jupyter-widgets/base",
            "overflow": null,
            "_model_module_version": "1.2.0",
            "_view_count": null,
            "flex_flow": null,
            "width": null,
            "min_width": null,
            "border": null,
            "align_items": null,
            "bottom": null,
            "_model_module": "@jupyter-widgets/base",
            "top": null,
            "grid_column": null,
            "overflow_y": null,
            "overflow_x": null,
            "grid_auto_flow": null,
            "grid_area": null,
            "grid_template_columns": null,
            "flex": null,
            "_model_name": "LayoutModel",
            "justify_items": null,
            "grid_row": null,
            "max_height": null,
            "align_content": null,
            "visibility": null,
            "align_self": null,
            "height": null,
            "min_height": null,
            "padding": null,
            "grid_auto_rows": null,
            "grid_gap": null,
            "max_width": null,
            "order": null,
            "_view_module_version": "1.2.0",
            "grid_template_areas": null,
            "object_position": null,
            "object_fit": null,
            "grid_auto_columns": null,
            "margin": null,
            "display": null,
            "left": null
          }
        }
      }
    }
  },
  "cells": [
    {
      "cell_type": "markdown",
      "metadata": {
        "id": "view-in-github",
        "colab_type": "text"
      },
      "source": [
        "<a href=\"https://colab.research.google.com/github/utyug/FinRL-Library/blob/utyug_dev/FinRL_single_stock_trading.ipynb\" target=\"_parent\"><img src=\"https://colab.research.google.com/assets/colab-badge.svg\" alt=\"Open In Colab\"/></a>"
      ]
    },
    {
      "cell_type": "markdown",
      "metadata": {
        "id": "Idd1jem0TnST"
      },
      "source": [
        "# Deep Reinforcement Learning for Stock Trading from Scratch: Single Stock Trading\n",
        "\n",
        "Tutorials to use OpenAI DRL to trade single stock in one Jupyter Notebook | Presented at NeurIPS 2020: Deep RL Workshop\n",
        "\n",
        "* This blog is based on our paper: FinRL: A Deep Reinforcement Learning Library for Automated Stock Trading in Quantitative Finance, presented at NeurIPS 2020: Deep RL Workshop.\n",
        "* Check out medium blog for detailed explanations: https://towardsdatascience.com/finrl-for-quantitative-finance-tutorial-for-single-stock-trading-37d6d7c30aac\n",
        "* Please report any issues to our Github: https://github.com/AI4Finance-LLC/FinRL-Library/issues\n",
        "* **Pytorch Version** \n",
        "\n",
        "\n"
      ]
    },
    {
      "cell_type": "markdown",
      "metadata": {
        "id": "5vglc_9N5-KZ"
      },
      "source": [
        "## Content"
      ]
    },
    {
      "cell_type": "markdown",
      "metadata": {
        "id": "ex2ord116AbP"
      },
      "source": [
        "* [1. Problem Definition](#0)\n",
        "* [2. Getting Started - Load Python packages](#1)\n",
        "    * [2.1. Install Packages](#1.1)    \n",
        "    * [2.2. Check Additional Packages](#1.2)\n",
        "    * [2.3. Import Packages](#1.3)\n",
        "    * [2.4. Create Folders](#1.4)\n",
        "* [3. Download Data](#2)\n",
        "* [4. Preprocess Data](#3)        \n",
        "    * [4.1. Technical Indicators](#3.1)\n",
        "    * [4.2. Perform Feature Engineering](#3.2)\n",
        "* [5.Build Environment](#4)  \n",
        "    * [5.1. Training & Trade Data Split](#4.1)\n",
        "    * [5.2. User-defined Environment](#4.2)   \n",
        "    * [5.3. Initialize Environment](#4.3)    \n",
        "* [6.Implement DRL Algorithms](#5)  \n",
        "* [7.Backtesting Performance](#6)  \n",
        "    * [7.1. BackTestStats](#6.1)\n",
        "    * [7.2. BackTestPlot](#6.2)   \n",
        "    * [7.3. Baseline Stats](#6.3)   \n",
        "    * [7.3. Compare to Stock Market Index](#6.4)             "
      ]
    },
    {
      "cell_type": "markdown",
      "metadata": {
        "id": "M1eLhMW36cLi"
      },
      "source": [
        "<a id='0'></a>\n",
        "# Part 1. Problem Definition"
      ]
    },
    {
      "cell_type": "markdown",
      "metadata": {
        "id": "3eimeRv06YoK"
      },
      "source": [
        "This problem is to design an automated trading solution for single stock trading. We model the stock trading process as a Markov Decision Process (MDP). We then formulate our trading goal as a maximization problem.\n",
        "\n",
        "The components of the reinforcement learning environment are:\n",
        "\n",
        "\n",
        "* Action: The action space describes the allowed actions that the agent interacts with the\n",
        "environment. Normally, a ∈ A includes three actions: a ∈ {−1, 0, 1}, where −1, 0, 1 represent\n",
        "selling, holding, and buying one stock. Also, an action can be carried upon multiple shares. We use\n",
        "an action space {−k, ..., −1, 0, 1, ..., k}, where k denotes the number of shares. For example, \"Buy\n",
        "10 shares of AAPL\" or \"Sell 10 shares of AAPL\" are 10 or −10, respectively\n",
        "\n",
        "* Reward function: r(s, a, s′) is the incentive mechanism for an agent to learn a better action. The change of the portfolio value when action a is taken at state s and arriving at new state s',  i.e., r(s, a, s′) = v′ − v, where v′ and v represent the portfolio\n",
        "values at state s′ and s, respectively\n",
        "\n",
        "* State: The state space describes the observations that the agent receives from the environment. Just as a human trader needs to analyze various information before executing a trade, so\n",
        "our trading agent observes many different features to better learn in an interactive environment.\n",
        "\n",
        "* Environment: single stock trading for AAPL\n",
        "\n",
        "\n",
        "The data of the single stock that we will be using for this case study is obtained from Yahoo Finance API. The data contains Open-High-Low-Close price and volume.\n",
        "\n",
        "We use Apple Inc. stock: AAPL as an example throughout this article, because it is one of the most popular and profitable stocks."
      ]
    },
    {
      "cell_type": "markdown",
      "metadata": {
        "id": "xD3f90UnTnSU"
      },
      "source": [
        "<a id='1'></a>\n",
        "# Part 2. Getting Started- Load Python Packages"
      ]
    },
    {
      "cell_type": "markdown",
      "metadata": {
        "id": "UBUcBKap-oII"
      },
      "source": [
        "<a id='1.1'></a>\n",
        "## 2.1. Install all the packages through FinRL library\n"
      ]
    },
    {
      "cell_type": "code",
      "metadata": {
        "id": "40axJBAP5mer"
      },
      "source": [
        "# ## install finrl library\n",
        "# !pip install git+https://github.com/utyug/FinRL-Library.git@utyug_dev"
      ],
      "execution_count": 114,
      "outputs": []
    },
    {
      "cell_type": "markdown",
      "metadata": {
        "id": "iXyHD6ir5sxk"
      },
      "source": [
        "\n",
        "<a id='1.2'></a>\n",
        "## 2.2. Check if the additional packages needed are present, if not install them. \n",
        "* Yahoo Finance API\n",
        "* pandas\n",
        "* numpy\n",
        "* matplotlib\n",
        "* stockstats\n",
        "* OpenAI gym\n",
        "* stable-baselines\n",
        "* tensorflow\n",
        "* pyfolio"
      ]
    },
    {
      "cell_type": "markdown",
      "metadata": {
        "id": "QG17M4JwTnSZ"
      },
      "source": [
        "<a id='1.3'></a>\n",
        "## 2.3. Import Packages"
      ]
    },
    {
      "cell_type": "code",
      "metadata": {
        "colab": {
          "base_uri": "https://localhost:8080/"
        },
        "id": "0-0bsNMMTnSZ",
        "outputId": "fb03e75a-0af3-44bd-d662-45cdde5de6ba"
      },
      "source": [
        "%load_ext autoreload\n",
        "%autoreload 2\n",
        "\n",
        "import os\n",
        "import pandas as pd\n",
        "import numpy as np\n",
        "import matplotlib\n",
        "import matplotlib.pyplot as plt\n",
        "import datetime\n",
        "\n",
        "from finrl.config import config\n",
        "from finrl.marketdata.yahoodownloader import YahooDownloader\n",
        "from finrl.preprocessing.preprocessors import FeatureEngineer\n",
        "from finrl.preprocessing.data import data_split\n",
        "from finrl.env.env_stocktrading import StockTradingEnv\n",
        "from finrl.model.models import DRLAgent\n",
        "from finrl.trade.backtest import BackTestStats, BaselineStats, BackTestPlot\n",
        "\n",
        "import sys\n",
        "sys.path.append(\"../FinRL-Library\")\n"
      ],
      "execution_count": 115,
      "outputs": [
        {
          "output_type": "stream",
          "text": [
            "The autoreload extension is already loaded. To reload it, use:\n",
            "  %reload_ext autoreload\n"
          ],
          "name": "stdout"
        }
      ]
    },
    {
      "cell_type": "code",
      "metadata": {
        "id": "uIPbzYs1TnSd"
      },
      "source": [
        "#Disable the warnings\n",
        "import warnings\n",
        "warnings.filterwarnings('ignore')"
      ],
      "execution_count": 116,
      "outputs": []
    },
    {
      "cell_type": "markdown",
      "metadata": {
        "id": "pos2IZAL54pp"
      },
      "source": [
        "<a id='1.4'></a>\n",
        "## 2.4. Create Folders"
      ]
    },
    {
      "cell_type": "code",
      "metadata": {
        "id": "zp6lL6dZ53rX"
      },
      "source": [
        "import os\n",
        "if not os.path.exists(\"./\" + config.DATA_SAVE_DIR):\n",
        "    os.makedirs(\"./\" + config.DATA_SAVE_DIR)\n",
        "if not os.path.exists(\"./\" + config.TRAINED_MODEL_DIR):\n",
        "    os.makedirs(\"./\" + config.TRAINED_MODEL_DIR)\n",
        "if not os.path.exists(\"./\" + config.TENSORBOARD_LOG_DIR):\n",
        "    os.makedirs(\"./\" + config.TENSORBOARD_LOG_DIR)\n",
        "if not os.path.exists(\"./\" + config.RESULTS_DIR):\n",
        "    os.makedirs(\"./\" + config.RESULTS_DIR)"
      ],
      "execution_count": 6,
      "outputs": []
    },
    {
      "cell_type": "markdown",
      "metadata": {
        "id": "SBPM0sVvTnSg"
      },
      "source": [
        "<a id='2'></a>\n",
        "# Part 3. Download Data\n",
        "Yahoo Finance is a website that provides stock data, financial news, financial reports, etc. All the data provided by Yahoo Finance is free.\n",
        "* FinRL uses a class **YahooDownloader** to fetch data from Yahoo Finance API\n",
        "* Call Limit: Using the Public API (without authentication), you are limited to 2,000 requests per hour per IP (or up to a total of 48,000 requests a day).\n"
      ]
    },
    {
      "cell_type": "markdown",
      "metadata": {
        "id": "GCGVmtGzjORf"
      },
      "source": [
        "\n",
        "\n",
        "-----\n",
        "class YahooDownloader:\n",
        "    Provides methods for retrieving daily stock data from\n",
        "    Yahoo Finance API\n",
        "\n",
        "    Attributes\n",
        "    ----------\n",
        "        start_date : str\n",
        "            start date of the data (modified from config.py)\n",
        "        end_date : str\n",
        "            end date of the data (modified from config.py)\n",
        "        ticker_list : list\n",
        "            a list of stock tickers (modified from config.py)\n",
        "\n",
        "    Methods\n",
        "    -------\n",
        "    fetch_data()\n",
        "        Fetches data from yahoo API\n"
      ]
    },
    {
      "cell_type": "code",
      "metadata": {
        "colab": {
          "base_uri": "https://localhost:8080/",
          "height": 35
        },
        "id": "FBEiH5gOgMOx",
        "outputId": "72fc339a-1ac2-43a7-c7d3-b3e45bb39937"
      },
      "source": [
        "# from config.py start_date is a string\n",
        "config.START_DATE"
      ],
      "execution_count": 4,
      "outputs": [
        {
          "output_type": "execute_result",
          "data": {
            "application/vnd.google.colaboratory.intrinsic+json": {
              "type": "string"
            },
            "text/plain": [
              "'2009-01-01'"
            ]
          },
          "metadata": {
            "tags": []
          },
          "execution_count": 4
        }
      ]
    },
    {
      "cell_type": "code",
      "metadata": {
        "colab": {
          "base_uri": "https://localhost:8080/",
          "height": 35
        },
        "id": "sWLMNQ8CgMRx",
        "outputId": "74b7884e-1581-4e3c-c8e4-12a5665a6529"
      },
      "source": [
        "# from config.py end_date is a string\n",
        "config.END_DATE"
      ],
      "execution_count": 5,
      "outputs": [
        {
          "output_type": "execute_result",
          "data": {
            "application/vnd.google.colaboratory.intrinsic+json": {
              "type": "string"
            },
            "text/plain": [
              "'2020-12-01'"
            ]
          },
          "metadata": {
            "tags": []
          },
          "execution_count": 5
        }
      ]
    },
    {
      "cell_type": "markdown",
      "metadata": {
        "id": "AmFpuBEZhkF3"
      },
      "source": [
        "ticker_list is a list of stock tickers, in a single stock trading case, the list contains only 1 ticker"
      ]
    },
    {
      "cell_type": "code",
      "metadata": {
        "colab": {
          "base_uri": "https://localhost:8080/"
        },
        "id": "JtIFikNyTnSg",
        "outputId": "4c6a860f-6944-4728-984d-d0dc8d8f2c78"
      },
      "source": [
        "# Download and save the data in a pandas DataFrame:\n",
        "data_df = YahooDownloader(start_date = '2009-01-01',\n",
        "                          end_date = '2021-01-01',\n",
        "                          ticker_list = ['MSFT']).fetch_data()"
      ],
      "execution_count": null,
      "outputs": [
        {
          "output_type": "stream",
          "text": [
            "[*********************100%***********************]  1 of 1 completed\n",
            "Shape of DataFrame:  (3021, 7)\n"
          ],
          "name": "stdout"
        }
      ]
    },
    {
      "cell_type": "code",
      "metadata": {
        "colab": {
          "base_uri": "https://localhost:8080/"
        },
        "id": "E8ZKQmw6TnSl",
        "outputId": "1c3ff101-f340-4043-cbd0-7198ccdc1c19"
      },
      "source": [
        "data_df.shape"
      ],
      "execution_count": 9,
      "outputs": [
        {
          "output_type": "execute_result",
          "data": {
            "text/plain": [
              "(3021, 7)"
            ]
          },
          "metadata": {
            "tags": []
          },
          "execution_count": 9
        }
      ]
    },
    {
      "cell_type": "code",
      "metadata": {
        "colab": {
          "base_uri": "https://localhost:8080/",
          "height": 419
        },
        "id": "Vi6D_ED6TnSs",
        "outputId": "e3615d2a-d712-49f7-a479-3b7c0a265b28"
      },
      "source": [
        "data_df"
      ],
      "execution_count": 10,
      "outputs": [
        {
          "output_type": "execute_result",
          "data": {
            "text/html": [
              "<div>\n",
              "<style scoped>\n",
              "    .dataframe tbody tr th:only-of-type {\n",
              "        vertical-align: middle;\n",
              "    }\n",
              "\n",
              "    .dataframe tbody tr th {\n",
              "        vertical-align: top;\n",
              "    }\n",
              "\n",
              "    .dataframe thead th {\n",
              "        text-align: right;\n",
              "    }\n",
              "</style>\n",
              "<table border=\"1\" class=\"dataframe\">\n",
              "  <thead>\n",
              "    <tr style=\"text-align: right;\">\n",
              "      <th></th>\n",
              "      <th>date</th>\n",
              "      <th>open</th>\n",
              "      <th>high</th>\n",
              "      <th>low</th>\n",
              "      <th>close</th>\n",
              "      <th>volume</th>\n",
              "      <th>tic</th>\n",
              "    </tr>\n",
              "  </thead>\n",
              "  <tbody>\n",
              "    <tr>\n",
              "      <th>0</th>\n",
              "      <td>2009-01-02</td>\n",
              "      <td>19.530001</td>\n",
              "      <td>20.400000</td>\n",
              "      <td>19.370001</td>\n",
              "      <td>15.471161</td>\n",
              "      <td>50084000</td>\n",
              "      <td>MSFT</td>\n",
              "    </tr>\n",
              "    <tr>\n",
              "      <th>1</th>\n",
              "      <td>2009-01-05</td>\n",
              "      <td>20.200001</td>\n",
              "      <td>20.670000</td>\n",
              "      <td>20.059999</td>\n",
              "      <td>15.615757</td>\n",
              "      <td>61475200</td>\n",
              "      <td>MSFT</td>\n",
              "    </tr>\n",
              "    <tr>\n",
              "      <th>2</th>\n",
              "      <td>2009-01-06</td>\n",
              "      <td>20.750000</td>\n",
              "      <td>21.000000</td>\n",
              "      <td>20.610001</td>\n",
              "      <td>15.798391</td>\n",
              "      <td>58083400</td>\n",
              "      <td>MSFT</td>\n",
              "    </tr>\n",
              "    <tr>\n",
              "      <th>3</th>\n",
              "      <td>2009-01-07</td>\n",
              "      <td>20.190001</td>\n",
              "      <td>20.290001</td>\n",
              "      <td>19.480000</td>\n",
              "      <td>14.847140</td>\n",
              "      <td>72709900</td>\n",
              "      <td>MSFT</td>\n",
              "    </tr>\n",
              "    <tr>\n",
              "      <th>4</th>\n",
              "      <td>2009-01-08</td>\n",
              "      <td>19.629999</td>\n",
              "      <td>20.190001</td>\n",
              "      <td>19.549999</td>\n",
              "      <td>15.311348</td>\n",
              "      <td>70255400</td>\n",
              "      <td>MSFT</td>\n",
              "    </tr>\n",
              "    <tr>\n",
              "      <th>...</th>\n",
              "      <td>...</td>\n",
              "      <td>...</td>\n",
              "      <td>...</td>\n",
              "      <td>...</td>\n",
              "      <td>...</td>\n",
              "      <td>...</td>\n",
              "      <td>...</td>\n",
              "    </tr>\n",
              "    <tr>\n",
              "      <th>3016</th>\n",
              "      <td>2020-12-24</td>\n",
              "      <td>221.419998</td>\n",
              "      <td>223.610001</td>\n",
              "      <td>221.199997</td>\n",
              "      <td>222.750000</td>\n",
              "      <td>10550600</td>\n",
              "      <td>MSFT</td>\n",
              "    </tr>\n",
              "    <tr>\n",
              "      <th>3017</th>\n",
              "      <td>2020-12-28</td>\n",
              "      <td>224.449997</td>\n",
              "      <td>226.029999</td>\n",
              "      <td>223.020004</td>\n",
              "      <td>224.960007</td>\n",
              "      <td>17933500</td>\n",
              "      <td>MSFT</td>\n",
              "    </tr>\n",
              "    <tr>\n",
              "      <th>3018</th>\n",
              "      <td>2020-12-29</td>\n",
              "      <td>226.309998</td>\n",
              "      <td>227.179993</td>\n",
              "      <td>223.580002</td>\n",
              "      <td>224.149994</td>\n",
              "      <td>17403200</td>\n",
              "      <td>MSFT</td>\n",
              "    </tr>\n",
              "    <tr>\n",
              "      <th>3019</th>\n",
              "      <td>2020-12-30</td>\n",
              "      <td>225.229996</td>\n",
              "      <td>225.630005</td>\n",
              "      <td>221.470001</td>\n",
              "      <td>221.679993</td>\n",
              "      <td>20272300</td>\n",
              "      <td>MSFT</td>\n",
              "    </tr>\n",
              "    <tr>\n",
              "      <th>3020</th>\n",
              "      <td>2020-12-31</td>\n",
              "      <td>221.699997</td>\n",
              "      <td>223.000000</td>\n",
              "      <td>219.679993</td>\n",
              "      <td>222.419998</td>\n",
              "      <td>20926900</td>\n",
              "      <td>MSFT</td>\n",
              "    </tr>\n",
              "  </tbody>\n",
              "</table>\n",
              "<p>3021 rows × 7 columns</p>\n",
              "</div>"
            ],
            "text/plain": [
              "            date        open        high  ...       close    volume   tic\n",
              "0     2009-01-02   19.530001   20.400000  ...   15.471161  50084000  MSFT\n",
              "1     2009-01-05   20.200001   20.670000  ...   15.615757  61475200  MSFT\n",
              "2     2009-01-06   20.750000   21.000000  ...   15.798391  58083400  MSFT\n",
              "3     2009-01-07   20.190001   20.290001  ...   14.847140  72709900  MSFT\n",
              "4     2009-01-08   19.629999   20.190001  ...   15.311348  70255400  MSFT\n",
              "...          ...         ...         ...  ...         ...       ...   ...\n",
              "3016  2020-12-24  221.419998  223.610001  ...  222.750000  10550600  MSFT\n",
              "3017  2020-12-28  224.449997  226.029999  ...  224.960007  17933500  MSFT\n",
              "3018  2020-12-29  226.309998  227.179993  ...  224.149994  17403200  MSFT\n",
              "3019  2020-12-30  225.229996  225.630005  ...  221.679993  20272300  MSFT\n",
              "3020  2020-12-31  221.699997  223.000000  ...  222.419998  20926900  MSFT\n",
              "\n",
              "[3021 rows x 7 columns]"
            ]
          },
          "metadata": {
            "tags": []
          },
          "execution_count": 10
        }
      ]
    },
    {
      "cell_type": "markdown",
      "metadata": {
        "id": "oWiqgpLzTnS3"
      },
      "source": [
        "<a id='3'></a>\n",
        "# Part 4. Preprocess Data\n",
        "Data preprocessing is a crucial step for training a high quality machine learning model. We need to check for missing data and do feature engineering in order to convert the data into a model-ready state.\n",
        "* FinRL uses a class **FeatureEngineer** to preprocess the data\n",
        "* Add **technical indicators**. In practical trading, various information needs to be taken into account, for example the historical stock prices, current holding shares, technical indicators, etc.\n"
      ]
    },
    {
      "cell_type": "markdown",
      "metadata": {
        "id": "rJ9zmxpRks41"
      },
      "source": [
        "class FeatureEngineer:\n",
        "Provides methods for preprocessing the stock price data\n",
        "\n",
        "    Attributes\n",
        "    ----------\n",
        "        df: DataFrame\n",
        "            data downloaded from Yahoo API\n",
        "        feature_number : int\n",
        "            number of features we used\n",
        "        use_technical_indicator : boolean\n",
        "            we technical indicator or not\n",
        "        use_turbulence : boolean\n",
        "            use turbulence index or not\n",
        "\n",
        "    Methods\n",
        "    -------\n",
        "    preprocess_data()\n",
        "        main method to do the feature engineering"
      ]
    },
    {
      "cell_type": "markdown",
      "metadata": {
        "id": "tHu7i-T_wRPc"
      },
      "source": [
        "<a id='3.1'></a>\n",
        "\n",
        "## 4.1 Technical Indicators\n",
        "* FinRL uses stockstats to calcualte technical indicators such as **Moving Average Convergence Divergence (MACD)**, **Relative Strength Index (RSI)**, **Average Directional Index (ADX)**, **Commodity Channel Index (CCI)** and other various indicators and stats.\n",
        "* **stockstats**: supplies a wrapper StockDataFrame based on the **pandas.DataFrame** with inline stock statistics/indicators support.\n",
        "\n"
      ]
    },
    {
      "cell_type": "code",
      "metadata": {
        "colab": {
          "base_uri": "https://localhost:8080/"
        },
        "id": "2RHwY1dHk09N",
        "outputId": "3afdf6d1-50e9-4b96-a019-7694d760bed1"
      },
      "source": [
        "## we store the stockstats technical indicator column names in config.py\n",
        "tech_indicator_list=config.TECHNICAL_INDICATORS_LIST\n",
        "print(tech_indicator_list)"
      ],
      "execution_count": 11,
      "outputs": [
        {
          "output_type": "stream",
          "text": [
            "['macd', 'rsi_30', 'cci_30', 'dx_30']\n"
          ],
          "name": "stdout"
        }
      ]
    },
    {
      "cell_type": "code",
      "metadata": {
        "colab": {
          "base_uri": "https://localhost:8080/"
        },
        "id": "rImfGAfCkR8j",
        "outputId": "6e334276-6a29-4c4e-9729-2ce4daf1c5d3"
      },
      "source": [
        "## user can add more technical indicators\n",
        "## check https://github.com/jealous/stockstats for different names\n",
        "tech_indicator_list=tech_indicator_list+['kdjk','open_2_sma','boll','close_10.0_le_5_c','wr_10','dma','trix']\n",
        "print(tech_indicator_list)"
      ],
      "execution_count": 12,
      "outputs": [
        {
          "output_type": "stream",
          "text": [
            "['macd', 'rsi_30', 'cci_30', 'dx_30', 'kdjk', 'open_2_sma', 'boll', 'close_10.0_le_5_c', 'wr_10', 'dma', 'trix']\n"
          ],
          "name": "stdout"
        }
      ]
    },
    {
      "cell_type": "markdown",
      "metadata": {
        "id": "etvRo2rSwZPg"
      },
      "source": [
        "<a id='3.2'></a>\n",
        "## 4.2 Perform Feature Engineering"
      ]
    },
    {
      "cell_type": "code",
      "metadata": {
        "colab": {
          "base_uri": "https://localhost:8080/"
        },
        "id": "SAOsx0m-9u2k",
        "outputId": "d48d0f17-1dc9-433d-dc5b-694f32ceeee0"
      },
      "source": [
        "fe = FeatureEngineer(\n",
        "                    use_technical_indicator=True,\n",
        "                    tech_indicator_list = tech_indicator_list,\n",
        "                    use_turbulence=False,\n",
        "                    user_defined_feature = False)\n",
        "\n",
        "data_df = fe.preprocess_data(data_df)"
      ],
      "execution_count": 13,
      "outputs": [
        {
          "output_type": "stream",
          "text": [
            "Successfully added technical indicators\n"
          ],
          "name": "stdout"
        }
      ]
    },
    {
      "cell_type": "code",
      "metadata": {
        "id": "wytX_qwWMHP5"
      },
      "source": [
        "# data_df"
      ],
      "execution_count": 117,
      "outputs": []
    },
    {
      "cell_type": "markdown",
      "metadata": {
        "id": "bwLhXo1cTnTQ"
      },
      "source": [
        "<a id='4'></a>\n",
        "# Part 5. Build Environment\n",
        "Considering the stochastic and interactive nature of the automated stock trading tasks, a financial task is modeled as a **Markov Decision Process (MDP)** problem. The training process involves observing stock price change, taking an action and reward's calculation to have the agent adjusting its strategy accordingly. By interacting with the environment, the trading agent will derive a trading strategy with the maximized rewards as time proceeds.\n",
        "\n",
        "Our trading environments, based on OpenAI Gym framework, simulate live stock markets with real market data according to the principle of time-driven simulation.\n",
        "\n",
        "The action space describes the allowed actions that the agent interacts with the environment. Normally, action a includes three actions: {-1, 0, 1}, where -1, 0, 1 represent selling, holding, and buying one share. Also, an action can be carried upon multiple shares. We use an action space {-k,…,-1, 0, 1, …, k}, where k denotes the number of shares to buy and -k denotes the number of shares to sell. For example, \"Buy 10 shares of AAPL\" or \"Sell 10 shares of AAPL\" are 10 or -10, respectively. The continuous action space needs to be normalized to [-1, 1], since the policy is defined on a Gaussian distribution, which needs to be normalized and symmetric."
      ]
    },
    {
      "cell_type": "markdown",
      "metadata": {
        "id": "1D1FlBdOL4b3"
      },
      "source": [
        "<a id='4.1'></a>\n",
        "## 5.1 Training & Trade data split\n",
        "* Training: 2009-01-01 to 2018-12-31\n",
        "* Trade: 2019-01-01 to 2020-09-30"
      ]
    },
    {
      "cell_type": "code",
      "metadata": {
        "id": "xNOdqfTKL6K-"
      },
      "source": [
        "#train = data_split(data_df, start = config.START_DATE, end = config.START_TRADE_DATE)\n",
        "#trade = data_split(data_df, start = config.START_TRADE_DATE, end = config.END_DATE)\n",
        "train = data_split(data_df, start = '2009-01-01', end = '2019-01-01')\n",
        "trade = data_split(data_df, start = '2019-01-01', end = '2021-01-01')\n"
      ],
      "execution_count": 16,
      "outputs": []
    },
    {
      "cell_type": "code",
      "metadata": {
        "colab": {
          "base_uri": "https://localhost:8080/",
          "height": 609
        },
        "id": "H3BzIC0cHBq-",
        "outputId": "79769378-379b-44b2-ff6b-90087f80c97f"
      },
      "source": [
        "train"
      ],
      "execution_count": 17,
      "outputs": [
        {
          "output_type": "execute_result",
          "data": {
            "text/html": [
              "<div>\n",
              "<style scoped>\n",
              "    .dataframe tbody tr th:only-of-type {\n",
              "        vertical-align: middle;\n",
              "    }\n",
              "\n",
              "    .dataframe tbody tr th {\n",
              "        vertical-align: top;\n",
              "    }\n",
              "\n",
              "    .dataframe thead th {\n",
              "        text-align: right;\n",
              "    }\n",
              "</style>\n",
              "<table border=\"1\" class=\"dataframe\">\n",
              "  <thead>\n",
              "    <tr style=\"text-align: right;\">\n",
              "      <th></th>\n",
              "      <th>date</th>\n",
              "      <th>open</th>\n",
              "      <th>high</th>\n",
              "      <th>low</th>\n",
              "      <th>close</th>\n",
              "      <th>volume</th>\n",
              "      <th>tic</th>\n",
              "      <th>macd</th>\n",
              "      <th>rsi_30</th>\n",
              "      <th>cci_30</th>\n",
              "      <th>dx_30</th>\n",
              "      <th>kdjk</th>\n",
              "      <th>open_2_sma</th>\n",
              "      <th>boll</th>\n",
              "      <th>close_10.0_le_5_c</th>\n",
              "      <th>wr_10</th>\n",
              "      <th>dma</th>\n",
              "      <th>trix</th>\n",
              "    </tr>\n",
              "  </thead>\n",
              "  <tbody>\n",
              "    <tr>\n",
              "      <th>0</th>\n",
              "      <td>2009-01-02</td>\n",
              "      <td>19.530001</td>\n",
              "      <td>20.400000</td>\n",
              "      <td>19.370001</td>\n",
              "      <td>15.471161</td>\n",
              "      <td>50084000</td>\n",
              "      <td>MSFT</td>\n",
              "      <td>0.000000</td>\n",
              "      <td>100.000000</td>\n",
              "      <td>66.666667</td>\n",
              "      <td>100.000000</td>\n",
              "      <td>-92.842866</td>\n",
              "      <td>19.530001</td>\n",
              "      <td>15.471161</td>\n",
              "      <td>0.0</td>\n",
              "      <td>478.528599</td>\n",
              "      <td>0.000000</td>\n",
              "      <td>0.148535</td>\n",
              "    </tr>\n",
              "    <tr>\n",
              "      <th>1</th>\n",
              "      <td>2009-01-05</td>\n",
              "      <td>20.200001</td>\n",
              "      <td>20.670000</td>\n",
              "      <td>20.059999</td>\n",
              "      <td>15.615757</td>\n",
              "      <td>61475200</td>\n",
              "      <td>MSFT</td>\n",
              "      <td>0.003244</td>\n",
              "      <td>100.000000</td>\n",
              "      <td>66.666667</td>\n",
              "      <td>100.000000</td>\n",
              "      <td>-158.157964</td>\n",
              "      <td>19.865001</td>\n",
              "      <td>15.543459</td>\n",
              "      <td>0.0</td>\n",
              "      <td>388.788158</td>\n",
              "      <td>0.000000</td>\n",
              "      <td>0.148535</td>\n",
              "    </tr>\n",
              "    <tr>\n",
              "      <th>2</th>\n",
              "      <td>2009-01-06</td>\n",
              "      <td>20.750000</td>\n",
              "      <td>21.000000</td>\n",
              "      <td>20.610001</td>\n",
              "      <td>15.798391</td>\n",
              "      <td>58083400</td>\n",
              "      <td>MSFT</td>\n",
              "      <td>0.009797</td>\n",
              "      <td>100.000000</td>\n",
              "      <td>98.717543</td>\n",
              "      <td>100.000000</td>\n",
              "      <td>-178.477729</td>\n",
              "      <td>20.475000</td>\n",
              "      <td>15.628436</td>\n",
              "      <td>0.0</td>\n",
              "      <td>319.117260</td>\n",
              "      <td>0.000000</td>\n",
              "      <td>0.179790</td>\n",
              "    </tr>\n",
              "    <tr>\n",
              "      <th>3</th>\n",
              "      <td>2009-01-07</td>\n",
              "      <td>20.190001</td>\n",
              "      <td>20.290001</td>\n",
              "      <td>19.480000</td>\n",
              "      <td>14.847140</td>\n",
              "      <td>72709900</td>\n",
              "      <td>MSFT</td>\n",
              "      <td>-0.021807</td>\n",
              "      <td>24.678119</td>\n",
              "      <td>-88.023449</td>\n",
              "      <td>34.925807</td>\n",
              "      <td>-211.477236</td>\n",
              "      <td>20.470000</td>\n",
              "      <td>15.433112</td>\n",
              "      <td>0.0</td>\n",
              "      <td>377.476249</td>\n",
              "      <td>0.000000</td>\n",
              "      <td>-0.021436</td>\n",
              "    </tr>\n",
              "    <tr>\n",
              "      <th>4</th>\n",
              "      <td>2009-01-08</td>\n",
              "      <td>19.629999</td>\n",
              "      <td>20.190001</td>\n",
              "      <td>19.549999</td>\n",
              "      <td>15.311348</td>\n",
              "      <td>70255400</td>\n",
              "      <td>MSFT</td>\n",
              "      <td>-0.020049</td>\n",
              "      <td>45.428548</td>\n",
              "      <td>-49.623005</td>\n",
              "      <td>34.925807</td>\n",
              "      <td>-223.983903</td>\n",
              "      <td>19.910000</td>\n",
              "      <td>15.408759</td>\n",
              "      <td>0.0</td>\n",
              "      <td>348.997237</td>\n",
              "      <td>0.000000</td>\n",
              "      <td>-0.079091</td>\n",
              "    </tr>\n",
              "    <tr>\n",
              "      <th>...</th>\n",
              "      <td>...</td>\n",
              "      <td>...</td>\n",
              "      <td>...</td>\n",
              "      <td>...</td>\n",
              "      <td>...</td>\n",
              "      <td>...</td>\n",
              "      <td>...</td>\n",
              "      <td>...</td>\n",
              "      <td>...</td>\n",
              "      <td>...</td>\n",
              "      <td>...</td>\n",
              "      <td>...</td>\n",
              "      <td>...</td>\n",
              "      <td>...</td>\n",
              "      <td>...</td>\n",
              "      <td>...</td>\n",
              "      <td>...</td>\n",
              "      <td>...</td>\n",
              "    </tr>\n",
              "    <tr>\n",
              "      <th>2511</th>\n",
              "      <td>2018-12-24</td>\n",
              "      <td>97.680000</td>\n",
              "      <td>97.970001</td>\n",
              "      <td>93.980003</td>\n",
              "      <td>91.786125</td>\n",
              "      <td>43935200</td>\n",
              "      <td>MSFT</td>\n",
              "      <td>-2.177554</td>\n",
              "      <td>38.419790</td>\n",
              "      <td>-257.972651</td>\n",
              "      <td>37.045057</td>\n",
              "      <td>-6.414327</td>\n",
              "      <td>99.654999</td>\n",
              "      <td>103.633092</td>\n",
              "      <td>0.0</td>\n",
              "      <td>112.688716</td>\n",
              "      <td>-2.735382</td>\n",
              "      <td>-0.175760</td>\n",
              "    </tr>\n",
              "    <tr>\n",
              "      <th>2512</th>\n",
              "      <td>2018-12-26</td>\n",
              "      <td>95.139999</td>\n",
              "      <td>100.690002</td>\n",
              "      <td>93.959999</td>\n",
              "      <td>98.056015</td>\n",
              "      <td>51634800</td>\n",
              "      <td>MSFT</td>\n",
              "      <td>-2.192080</td>\n",
              "      <td>45.044116</td>\n",
              "      <td>-165.353158</td>\n",
              "      <td>24.366931</td>\n",
              "      <td>3.797929</td>\n",
              "      <td>96.410000</td>\n",
              "      <td>103.344950</td>\n",
              "      <td>0.0</td>\n",
              "      <td>76.337282</td>\n",
              "      <td>-3.351865</td>\n",
              "      <td>-0.228734</td>\n",
              "    </tr>\n",
              "    <tr>\n",
              "      <th>2513</th>\n",
              "      <td>2018-12-27</td>\n",
              "      <td>99.300003</td>\n",
              "      <td>101.190002</td>\n",
              "      <td>96.400002</td>\n",
              "      <td>98.660576</td>\n",
              "      <td>49498500</td>\n",
              "      <td>MSFT</td>\n",
              "      <td>-2.130253</td>\n",
              "      <td>45.627538</td>\n",
              "      <td>-124.462118</td>\n",
              "      <td>22.146500</td>\n",
              "      <td>12.772859</td>\n",
              "      <td>97.220001</td>\n",
              "      <td>103.054371</td>\n",
              "      <td>0.0</td>\n",
              "      <td>72.202391</td>\n",
              "      <td>-4.006017</td>\n",
              "      <td>-0.266030</td>\n",
              "    </tr>\n",
              "    <tr>\n",
              "      <th>2514</th>\n",
              "      <td>2018-12-28</td>\n",
              "      <td>102.089996</td>\n",
              "      <td>102.410004</td>\n",
              "      <td>99.519997</td>\n",
              "      <td>97.890251</td>\n",
              "      <td>38196300</td>\n",
              "      <td>MSFT</td>\n",
              "      <td>-2.118987</td>\n",
              "      <td>44.997862</td>\n",
              "      <td>-90.900794</td>\n",
              "      <td>16.711494</td>\n",
              "      <td>18.655210</td>\n",
              "      <td>100.695000</td>\n",
              "      <td>102.531231</td>\n",
              "      <td>0.0</td>\n",
              "      <td>74.312083</td>\n",
              "      <td>-4.691852</td>\n",
              "      <td>-0.293259</td>\n",
              "    </tr>\n",
              "    <tr>\n",
              "      <th>2515</th>\n",
              "      <td>2018-12-31</td>\n",
              "      <td>101.290001</td>\n",
              "      <td>102.400002</td>\n",
              "      <td>100.440002</td>\n",
              "      <td>99.040863</td>\n",
              "      <td>33173800</td>\n",
              "      <td>MSFT</td>\n",
              "      <td>-1.994225</td>\n",
              "      <td>46.146240</td>\n",
              "      <td>-71.419089</td>\n",
              "      <td>16.711494</td>\n",
              "      <td>25.545333</td>\n",
              "      <td>101.689999</td>\n",
              "      <td>102.110963</td>\n",
              "      <td>0.0</td>\n",
              "      <td>60.674422</td>\n",
              "      <td>-4.957785</td>\n",
              "      <td>-0.307621</td>\n",
              "    </tr>\n",
              "  </tbody>\n",
              "</table>\n",
              "<p>2516 rows × 18 columns</p>\n",
              "</div>"
            ],
            "text/plain": [
              "            date        open        high  ...       wr_10       dma      trix\n",
              "0     2009-01-02   19.530001   20.400000  ...  478.528599  0.000000  0.148535\n",
              "1     2009-01-05   20.200001   20.670000  ...  388.788158  0.000000  0.148535\n",
              "2     2009-01-06   20.750000   21.000000  ...  319.117260  0.000000  0.179790\n",
              "3     2009-01-07   20.190001   20.290001  ...  377.476249  0.000000 -0.021436\n",
              "4     2009-01-08   19.629999   20.190001  ...  348.997237  0.000000 -0.079091\n",
              "...          ...         ...         ...  ...         ...       ...       ...\n",
              "2511  2018-12-24   97.680000   97.970001  ...  112.688716 -2.735382 -0.175760\n",
              "2512  2018-12-26   95.139999  100.690002  ...   76.337282 -3.351865 -0.228734\n",
              "2513  2018-12-27   99.300003  101.190002  ...   72.202391 -4.006017 -0.266030\n",
              "2514  2018-12-28  102.089996  102.410004  ...   74.312083 -4.691852 -0.293259\n",
              "2515  2018-12-31  101.290001  102.400002  ...   60.674422 -4.957785 -0.307621\n",
              "\n",
              "[2516 rows x 18 columns]"
            ]
          },
          "metadata": {
            "tags": []
          },
          "execution_count": 17
        }
      ]
    },
    {
      "cell_type": "code",
      "metadata": {
        "id": "w1TpbyaQHBq-"
      },
      "source": [
        ""
      ],
      "execution_count": null,
      "outputs": []
    },
    {
      "cell_type": "code",
      "metadata": {
        "id": "KUxOshVouLXt"
      },
      "source": [
        "## data normalization, this part is optional, have little impact\n",
        "#feaures_list = list(train.columns)\n",
        "#feaures_list.remove('date')\n",
        "#feaures_list.remove('tic')\n",
        "#feaures_list.remove('close')\n",
        "#print(feaures_list)\n",
        "#from sklearn import preprocessing\n",
        "#data_normaliser = preprocessing.StandardScaler()\n",
        "#train[feaures_list] = data_normaliser.fit_transform(train[feaures_list])\n",
        "#trade[feaures_list] = data_normaliser.transform(trade[feaures_list])"
      ],
      "execution_count": null,
      "outputs": []
    },
    {
      "cell_type": "markdown",
      "metadata": {
        "id": "KMHyaSBBDGbe"
      },
      "source": [
        "<a id='4.2'></a>\n",
        "## 5.2 User-defined Environment: a simulation environment class "
      ]
    },
    {
      "cell_type": "markdown",
      "metadata": {
        "id": "90V3S7cpDcQs"
      },
      "source": [
        "<a id='4.3'></a>\n",
        "## 5.3 Initialize Environment\n",
        "* **stock dimension**: the number of unique stock tickers we use\n",
        "* **hmax**: the maximum amount of shares to buy or sell\n",
        "* **initial amount**: the amount of money we use to trade in the begining\n",
        "* **transaction cost percentage**: a per share rate for every share trade\n",
        "* **tech_indicator_list**: a list of technical indicator names (modified from config.py)"
      ]
    },
    {
      "cell_type": "code",
      "metadata": {
        "colab": {
          "base_uri": "https://localhost:8080/"
        },
        "id": "GnWOKS7DyGM7",
        "outputId": "ee746131-0188-4bfc-ebaa-7cff0a076df2"
      },
      "source": [
        "# the stock dimension is 1, because we only use the price data of AAPL.\n",
        "len(train.tic.unique())"
      ],
      "execution_count": 18,
      "outputs": [
        {
          "output_type": "execute_result",
          "data": {
            "text/plain": [
              "1"
            ]
          },
          "metadata": {
            "tags": []
          },
          "execution_count": 18
        }
      ]
    },
    {
      "cell_type": "code",
      "metadata": {
        "colab": {
          "base_uri": "https://localhost:8080/"
        },
        "id": "ipJcnLvQGAba",
        "outputId": "29391104-983a-4393-c79d-85f8a43507d3"
      },
      "source": [
        "stock_dimension = len(train.tic.unique())\n",
        "state_space = 1 + 2*stock_dimension + len(tech_indicator_list)*stock_dimension\n",
        "print(f\"Stock Dimension: {stock_dimension}, State Space: {state_space}\")\n"
      ],
      "execution_count": 57,
      "outputs": [
        {
          "output_type": "stream",
          "text": [
            "Stock Dimension: 1, State Space: 14\n"
          ],
          "name": "stdout"
        }
      ]
    },
    {
      "cell_type": "code",
      "metadata": {
        "id": "JY5wTwYjGTrg"
      },
      "source": [
        "env_kwargs = {\n",
        "    \"hmax\": 100, \n",
        "    \"initial_amount\": 100000, \n",
        "    \"transaction_cost_pct\": 0.001, \n",
        "    \"state_space\": state_space, \n",
        "    \"stock_dim\": stock_dimension, \n",
        "    \"tech_indicator_list\": tech_indicator_list,\n",
        "    \"action_space\": stock_dimension, \n",
        "    \"reward_scaling\": 1e-4\n",
        "    \n",
        "}\n",
        "\n",
        "e_train_gym = StockTradingEnv(df = train, **env_kwargs)\n"
      ],
      "execution_count": 58,
      "outputs": []
    },
    {
      "cell_type": "code",
      "metadata": {
        "colab": {
          "base_uri": "https://localhost:8080/"
        },
        "id": "vmyi2IPnyEkP",
        "outputId": "7e1389b6-3756-4cf6-c45e-f1fdceaae590"
      },
      "source": [
        "env_train, _ = e_train_gym.get_sb_env()\n",
        "print(type(env_train))"
      ],
      "execution_count": 59,
      "outputs": [
        {
          "output_type": "stream",
          "text": [
            "<class 'finrl.env.env_stocktrading.StockTradingEnv'>\n"
          ],
          "name": "stdout"
        }
      ]
    },
    {
      "cell_type": "markdown",
      "metadata": {
        "id": "mdnzYtM1TnTW"
      },
      "source": [
        "<a id='5'></a>\n",
        "# Part 6: Implement DRL Algorithms\n",
        "* The implementation of the DRL algorithms are based on **OpenAI Baselines** and **Stable Baselines**. Stable Baselines is a fork of OpenAI Baselines, with a major structural refactoring, and code cleanups.\n",
        "* FinRL library includes fine-tuned standard DRL algorithms, such as DQN, DDPG,\n",
        "Multi-Agent DDPG, PPO, SAC, A2C and TD3. We also allow users to\n",
        "design their own DRL algorithms by adapting these DRL algorithms."
      ]
    },
    {
      "cell_type": "code",
      "metadata": {
        "id": "BRFIZDw8TnTX"
      },
      "source": [
        "agent = DRLAgent(env = env_train)"
      ],
      "execution_count": 60,
      "outputs": []
    },
    {
      "cell_type": "markdown",
      "metadata": {
        "id": "zD1NHzGyTnTc"
      },
      "source": [
        "### Model Training: 5 models, A2C DDPG, PPO, TD3, SAC\n",
        "\n"
      ]
    },
    {
      "cell_type": "code",
      "metadata": {
        "id": "hHeeXshnjxhv"
      },
      "source": [
        "from tqdm.notebook import tqdm"
      ],
      "execution_count": 63,
      "outputs": []
    },
    {
      "cell_type": "code",
      "metadata": {
        "id": "ZVCpajeIh48V"
      },
      "source": [
        "model_params = {\n",
        "  'a2c': { \"n_steps\": 5, \"ent_coef\": 0.005, \"learning_rate\": 0.0002 }, \n",
        "  'ddpg': { \"batch_size\": 64, \"buffer_size\": 500000, \"learning_rate\": 0.0001 },    \n",
        "  'ppo': { \"batch_size\": 128, \"n_steps\": 2048, \"ent_coef\": 0.005, \"learning_rate\": 0.0001 },\n",
        "  'td3': { \"batch_size\": 128, \"buffer_size\": 1000000, \"learning_rate\": 0.0003 },\n",
        "  'sac': { \"batch_size\": 128, \"buffer_size\": 100000, \"learning_rate\": 0.00003, \"learning_starts\": 100, \"ent_coef\": \"auto_0.1\" }\n",
        "}\n",
        "\n",
        "model_timesteps = { 'a2c': 50000, 'ddpg': 30000, 'ppo': 80000, 'td3': 30000, 'sac': 30000 }"
      ],
      "execution_count": 69,
      "outputs": []
    },
    {
      "cell_type": "code",
      "metadata": {
        "colab": {
          "base_uri": "https://localhost:8080/",
          "height": 1000,
          "referenced_widgets": [
            "5f288cf035534f489b22b461b08881ac",
            "b1b95de3c0f84ebcbc206e2822269a41",
            "4d249707be1441c8bb78f523603704c3",
            "abf5587ab5f8403885d7b1d5def35bec",
            "3d6b6c6909744b728518741f154a5411",
            "08b8d2bc87b947a28fcec327bcc94ece",
            "4909406d4e894557bf04df5b562b63b1",
            "98cfbbe2673a4f3f8c3095fc070db712"
          ]
        },
        "id": "L6CvFodSjJgA",
        "outputId": "6c5adda6-c36c-4f8e-a31a-b385798376dc"
      },
      "source": [
        "model_names = ['a2c', 'ddpg', 'ppo', 'td3', 'sac']\n",
        "models = {}\n",
        "\n",
        "for name_ in tqdm(model_names):\n",
        "  agent = DRLAgent(env = env_train)\n",
        "  model_ = agent.get_model(model_name=name_, model_kwargs = model_params[name_], verbose=0)\n",
        "  models[name_] = agent.train_model(model=model_, tb_log_name=name_, total_timesteps = model_timesteps[name_])"
      ],
      "execution_count": 70,
      "outputs": [
        {
          "output_type": "display_data",
          "data": {
            "application/vnd.jupyter.widget-view+json": {
              "model_id": "5f288cf035534f489b22b461b08881ac",
              "version_minor": 0,
              "version_major": 2
            },
            "text/plain": [
              "HBox(children=(FloatProgress(value=0.0, max=5.0), HTML(value='')))"
            ]
          },
          "metadata": {
            "tags": []
          }
        },
        {
          "output_type": "stream",
          "text": [
            "{'n_steps': 5, 'ent_coef': 0.005, 'learning_rate': 0.0002}\n",
            "day: 2515, episode: 10\n",
            "begin_total_asset:100000.00\n",
            "end_total_asset:105155.68\n",
            "total_reward:5155.68\n",
            "total_cost: 5634.90\n",
            "total_trades: 2497\n",
            "Sharpe: 0.192\n",
            "=================================\n",
            "day: 2515, episode: 20\n",
            "begin_total_asset:100000.00\n",
            "end_total_asset:542550.23\n",
            "total_reward:442550.23\n",
            "total_cost: 6971.99\n",
            "total_trades: 2495\n",
            "Sharpe: 0.899\n",
            "=================================\n",
            "{'batch_size': 64, 'buffer_size': 500000, 'learning_rate': 0.0001}\n",
            "day: 2515, episode: 30\n",
            "begin_total_asset:100000.00\n",
            "end_total_asset:100000.00\n",
            "total_reward:0.00\n",
            "total_cost: 0.00\n",
            "total_trades: 2515\n",
            "=================================\n",
            "{'batch_size': 128, 'n_steps': 2048, 'ent_coef': 0.005, 'learning_rate': 0.0001}\n",
            "day: 2515, episode: 40\n",
            "begin_total_asset:100000.00\n",
            "end_total_asset:507658.67\n",
            "total_reward:407658.67\n",
            "total_cost: 5226.34\n",
            "total_trades: 2498\n",
            "Sharpe: 0.888\n",
            "=================================\n",
            "day: 2515, episode: 50\n",
            "begin_total_asset:100000.00\n",
            "end_total_asset:558627.81\n",
            "total_reward:458627.81\n",
            "total_cost: 3611.82\n",
            "total_trades: 2500\n",
            "Sharpe: 0.893\n",
            "=================================\n",
            "day: 2515, episode: 60\n",
            "begin_total_asset:100000.00\n",
            "end_total_asset:638660.81\n",
            "total_reward:538660.81\n",
            "total_cost: 2128.24\n",
            "total_trades: 2502\n",
            "Sharpe: 0.932\n",
            "=================================\n",
            "{'batch_size': 128, 'buffer_size': 1000000, 'learning_rate': 0.0003}\n",
            "day: 2515, episode: 70\n",
            "begin_total_asset:100000.00\n",
            "end_total_asset:713396.39\n",
            "total_reward:613396.39\n",
            "total_cost: 99.90\n",
            "total_trades: 2515\n",
            "Sharpe: 0.953\n",
            "=================================\n",
            "{'batch_size': 128, 'buffer_size': 100000, 'learning_rate': 3e-05, 'learning_starts': 100, 'ent_coef': 'auto_0.1'}\n",
            "day: 2515, episode: 90\n",
            "begin_total_asset:100000.00\n",
            "end_total_asset:713396.39\n",
            "total_reward:613396.39\n",
            "total_cost: 99.90\n",
            "total_trades: 2515\n",
            "Sharpe: 0.953\n",
            "=================================\n",
            "\n"
          ],
          "name": "stdout"
        }
      ]
    },
    {
      "cell_type": "markdown",
      "metadata": {
        "id": "KE1Xm9N9TnTn"
      },
      "source": [
        "### Trading\n",
        "* we use the environment class we initialized at 5.3 to create a stock trading environment\n",
        "* Assume that we have $100,000 initial capital at 2019-01-01. \n",
        "* We use the trained model of PPO to trade AAPL."
      ]
    },
    {
      "cell_type": "code",
      "metadata": {
        "id": "w3G-VRIk4ByF"
      },
      "source": [
        "## make a prediction and get the account value change\n",
        "trade = data_split(data_df, start = '2019-01-01', end = '2021-01-01')"
      ],
      "execution_count": 118,
      "outputs": []
    },
    {
      "cell_type": "code",
      "metadata": {
        "id": "TAyTl8Kz4Emu",
        "outputId": "b5d4b6f3-636a-427c-9c1c-026db2090d60",
        "colab": {
          "base_uri": "https://localhost:8080/",
          "height": 609
        }
      },
      "source": [
        "trade"
      ],
      "execution_count": 119,
      "outputs": [
        {
          "output_type": "execute_result",
          "data": {
            "text/html": [
              "<div>\n",
              "<style scoped>\n",
              "    .dataframe tbody tr th:only-of-type {\n",
              "        vertical-align: middle;\n",
              "    }\n",
              "\n",
              "    .dataframe tbody tr th {\n",
              "        vertical-align: top;\n",
              "    }\n",
              "\n",
              "    .dataframe thead th {\n",
              "        text-align: right;\n",
              "    }\n",
              "</style>\n",
              "<table border=\"1\" class=\"dataframe\">\n",
              "  <thead>\n",
              "    <tr style=\"text-align: right;\">\n",
              "      <th></th>\n",
              "      <th>date</th>\n",
              "      <th>open</th>\n",
              "      <th>high</th>\n",
              "      <th>low</th>\n",
              "      <th>close</th>\n",
              "      <th>volume</th>\n",
              "      <th>tic</th>\n",
              "      <th>macd</th>\n",
              "      <th>rsi_30</th>\n",
              "      <th>cci_30</th>\n",
              "      <th>dx_30</th>\n",
              "      <th>kdjk</th>\n",
              "      <th>open_2_sma</th>\n",
              "      <th>boll</th>\n",
              "      <th>close_10.0_le_5_c</th>\n",
              "      <th>wr_10</th>\n",
              "      <th>dma</th>\n",
              "      <th>trix</th>\n",
              "    </tr>\n",
              "  </thead>\n",
              "  <tbody>\n",
              "    <tr>\n",
              "      <th>0</th>\n",
              "      <td>2019-01-02</td>\n",
              "      <td>99.550003</td>\n",
              "      <td>101.750000</td>\n",
              "      <td>98.940002</td>\n",
              "      <td>98.602066</td>\n",
              "      <td>35329300</td>\n",
              "      <td>MSFT</td>\n",
              "      <td>-1.908755</td>\n",
              "      <td>45.769243</td>\n",
              "      <td>-81.402190</td>\n",
              "      <td>21.611852</td>\n",
              "      <td>29.006660</td>\n",
              "      <td>100.420002</td>\n",
              "      <td>101.634626</td>\n",
              "      <td>0.0</td>\n",
              "      <td>64.070684</td>\n",
              "      <td>-4.995555</td>\n",
              "      <td>-0.313713</td>\n",
              "    </tr>\n",
              "    <tr>\n",
              "      <th>1</th>\n",
              "      <td>2019-01-03</td>\n",
              "      <td>100.099998</td>\n",
              "      <td>100.190002</td>\n",
              "      <td>97.199997</td>\n",
              "      <td>94.974693</td>\n",
              "      <td>42579100</td>\n",
              "      <td>MSFT</td>\n",
              "      <td>-2.109402</td>\n",
              "      <td>42.780437</td>\n",
              "      <td>-114.398491</td>\n",
              "      <td>26.941934</td>\n",
              "      <td>22.605710</td>\n",
              "      <td>99.825001</td>\n",
              "      <td>100.918416</td>\n",
              "      <td>0.0</td>\n",
              "      <td>92.146329</td>\n",
              "      <td>-5.425719</td>\n",
              "      <td>-0.326105</td>\n",
              "    </tr>\n",
              "    <tr>\n",
              "      <th>2</th>\n",
              "      <td>2019-01-04</td>\n",
              "      <td>99.720001</td>\n",
              "      <td>102.510002</td>\n",
              "      <td>98.930000</td>\n",
              "      <td>99.391899</td>\n",
              "      <td>44060600</td>\n",
              "      <td>MSFT</td>\n",
              "      <td>-1.890196</td>\n",
              "      <td>47.129690</td>\n",
              "      <td>-59.749624</td>\n",
              "      <td>15.726471</td>\n",
              "      <td>35.099601</td>\n",
              "      <td>99.910000</td>\n",
              "      <td>100.597122</td>\n",
              "      <td>0.0</td>\n",
              "      <td>47.517866</td>\n",
              "      <td>-5.456367</td>\n",
              "      <td>-0.324821</td>\n",
              "    </tr>\n",
              "    <tr>\n",
              "      <th>3</th>\n",
              "      <td>2019-01-07</td>\n",
              "      <td>101.639999</td>\n",
              "      <td>103.269997</td>\n",
              "      <td>100.980003</td>\n",
              "      <td>99.518669</td>\n",
              "      <td>35656100</td>\n",
              "      <td>MSFT</td>\n",
              "      <td>-1.686800</td>\n",
              "      <td>47.248730</td>\n",
              "      <td>-43.233414</td>\n",
              "      <td>12.253522</td>\n",
              "      <td>43.301888</td>\n",
              "      <td>100.680000</td>\n",
              "      <td>100.249499</td>\n",
              "      <td>0.0</td>\n",
              "      <td>40.293539</td>\n",
              "      <td>-5.294014</td>\n",
              "      <td>-0.313650</td>\n",
              "    </tr>\n",
              "    <tr>\n",
              "      <th>4</th>\n",
              "      <td>2019-01-08</td>\n",
              "      <td>103.040001</td>\n",
              "      <td>103.970001</td>\n",
              "      <td>101.709999</td>\n",
              "      <td>100.240234</td>\n",
              "      <td>31514400</td>\n",
              "      <td>MSFT</td>\n",
              "      <td>-1.450660</td>\n",
              "      <td>47.938936</td>\n",
              "      <td>-30.170069</td>\n",
              "      <td>9.031910</td>\n",
              "      <td>49.781125</td>\n",
              "      <td>102.340000</td>\n",
              "      <td>100.151014</td>\n",
              "      <td>0.0</td>\n",
              "      <td>37.260400</td>\n",
              "      <td>-4.866337</td>\n",
              "      <td>-0.293431</td>\n",
              "    </tr>\n",
              "    <tr>\n",
              "      <th>...</th>\n",
              "      <td>...</td>\n",
              "      <td>...</td>\n",
              "      <td>...</td>\n",
              "      <td>...</td>\n",
              "      <td>...</td>\n",
              "      <td>...</td>\n",
              "      <td>...</td>\n",
              "      <td>...</td>\n",
              "      <td>...</td>\n",
              "      <td>...</td>\n",
              "      <td>...</td>\n",
              "      <td>...</td>\n",
              "      <td>...</td>\n",
              "      <td>...</td>\n",
              "      <td>...</td>\n",
              "      <td>...</td>\n",
              "      <td>...</td>\n",
              "      <td>...</td>\n",
              "    </tr>\n",
              "    <tr>\n",
              "      <th>500</th>\n",
              "      <td>2020-12-24</td>\n",
              "      <td>221.419998</td>\n",
              "      <td>223.610001</td>\n",
              "      <td>221.199997</td>\n",
              "      <td>222.750000</td>\n",
              "      <td>10550600</td>\n",
              "      <td>MSFT</td>\n",
              "      <td>2.311901</td>\n",
              "      <td>56.053159</td>\n",
              "      <td>180.164276</td>\n",
              "      <td>20.880557</td>\n",
              "      <td>79.423156</td>\n",
              "      <td>222.264999</td>\n",
              "      <td>216.564000</td>\n",
              "      <td>0.0</td>\n",
              "      <td>17.433439</td>\n",
              "      <td>4.544461</td>\n",
              "      <td>0.131579</td>\n",
              "    </tr>\n",
              "    <tr>\n",
              "      <th>501</th>\n",
              "      <td>2020-12-28</td>\n",
              "      <td>224.449997</td>\n",
              "      <td>226.029999</td>\n",
              "      <td>223.020004</td>\n",
              "      <td>224.960007</td>\n",
              "      <td>17933500</td>\n",
              "      <td>MSFT</td>\n",
              "      <td>2.610026</td>\n",
              "      <td>57.377328</td>\n",
              "      <td>199.820539</td>\n",
              "      <td>27.520698</td>\n",
              "      <td>83.695706</td>\n",
              "      <td>222.934998</td>\n",
              "      <td>217.050500</td>\n",
              "      <td>0.0</td>\n",
              "      <td>7.759192</td>\n",
              "      <td>5.596991</td>\n",
              "      <td>0.152547</td>\n",
              "    </tr>\n",
              "    <tr>\n",
              "      <th>502</th>\n",
              "      <td>2020-12-29</td>\n",
              "      <td>226.309998</td>\n",
              "      <td>227.179993</td>\n",
              "      <td>223.580002</td>\n",
              "      <td>224.149994</td>\n",
              "      <td>17403200</td>\n",
              "      <td>MSFT</td>\n",
              "      <td>2.749240</td>\n",
              "      <td>56.729225</td>\n",
              "      <td>175.935076</td>\n",
              "      <td>30.484308</td>\n",
              "      <td>81.024530</td>\n",
              "      <td>225.379997</td>\n",
              "      <td>217.554500</td>\n",
              "      <td>0.0</td>\n",
              "      <td>20.281134</td>\n",
              "      <td>6.490719</td>\n",
              "      <td>0.170882</td>\n",
              "    </tr>\n",
              "    <tr>\n",
              "      <th>503</th>\n",
              "      <td>2020-12-30</td>\n",
              "      <td>225.229996</td>\n",
              "      <td>225.630005</td>\n",
              "      <td>221.470001</td>\n",
              "      <td>221.679993</td>\n",
              "      <td>20272300</td>\n",
              "      <td>MSFT</td>\n",
              "      <td>2.629943</td>\n",
              "      <td>54.777431</td>\n",
              "      <td>121.157876</td>\n",
              "      <td>20.796775</td>\n",
              "      <td>70.921951</td>\n",
              "      <td>225.769997</td>\n",
              "      <td>217.827999</td>\n",
              "      <td>0.0</td>\n",
              "      <td>44.141282</td>\n",
              "      <td>7.085331</td>\n",
              "      <td>0.181612</td>\n",
              "    </tr>\n",
              "    <tr>\n",
              "      <th>504</th>\n",
              "      <td>2020-12-31</td>\n",
              "      <td>221.699997</td>\n",
              "      <td>223.000000</td>\n",
              "      <td>219.679993</td>\n",
              "      <td>222.419998</td>\n",
              "      <td>20926900</td>\n",
              "      <td>MSFT</td>\n",
              "      <td>2.565537</td>\n",
              "      <td>55.254561</td>\n",
              "      <td>90.097518</td>\n",
              "      <td>13.176882</td>\n",
              "      <td>66.397193</td>\n",
              "      <td>223.464996</td>\n",
              "      <td>218.180499</td>\n",
              "      <td>0.0</td>\n",
              "      <td>42.652325</td>\n",
              "      <td>7.232721</td>\n",
              "      <td>0.187628</td>\n",
              "    </tr>\n",
              "  </tbody>\n",
              "</table>\n",
              "<p>505 rows × 18 columns</p>\n",
              "</div>"
            ],
            "text/plain": [
              "           date        open        high  ...      wr_10       dma      trix\n",
              "0    2019-01-02   99.550003  101.750000  ...  64.070684 -4.995555 -0.313713\n",
              "1    2019-01-03  100.099998  100.190002  ...  92.146329 -5.425719 -0.326105\n",
              "2    2019-01-04   99.720001  102.510002  ...  47.517866 -5.456367 -0.324821\n",
              "3    2019-01-07  101.639999  103.269997  ...  40.293539 -5.294014 -0.313650\n",
              "4    2019-01-08  103.040001  103.970001  ...  37.260400 -4.866337 -0.293431\n",
              "..          ...         ...         ...  ...        ...       ...       ...\n",
              "500  2020-12-24  221.419998  223.610001  ...  17.433439  4.544461  0.131579\n",
              "501  2020-12-28  224.449997  226.029999  ...   7.759192  5.596991  0.152547\n",
              "502  2020-12-29  226.309998  227.179993  ...  20.281134  6.490719  0.170882\n",
              "503  2020-12-30  225.229996  225.630005  ...  44.141282  7.085331  0.181612\n",
              "504  2020-12-31  221.699997  223.000000  ...  42.652325  7.232721  0.187628\n",
              "\n",
              "[505 rows x 18 columns]"
            ]
          },
          "metadata": {
            "tags": []
          },
          "execution_count": 119
        }
      ]
    },
    {
      "cell_type": "code",
      "metadata": {
        "colab": {
          "base_uri": "https://localhost:8080/",
          "height": 66,
          "referenced_widgets": [
            "18010e4978a642af8a11d1a662f49f5a",
            "5d805d51b4e1433e87c1f17f70a87c4e",
            "6a54e6b5fa7f4fd98da1b37c8b75f92e",
            "0d36e3c461554b8da0ab92e0aacf23b3",
            "95032cb243d843ec99e9d17423e613a3",
            "c37961bff7644bc7bf9ad5efa7cfd77c",
            "683f53cba2ee41fbb08fc3260dc9bc07",
            "5ac3965a7e0c4831a6f8773d18229afc"
          ]
        },
        "id": "BkIs93cZYt3N",
        "outputId": "f49585a9-5787-4bf8-a6a7-c14cc5f68921"
      },
      "source": [
        "\n",
        "df_account_value = pd.DataaFrame(index = trade['date'])\n",
        "df_actions = pd.DataFrame(index = trade['date'])\n",
        "\n",
        "for name_, model_ in tqdm(models.items()):\n",
        "  e_trade_gym = StockTradingEnv(df = trade, **env_kwargs)\n",
        "  env_trade, obs_trade = e_trade_gym.get_sb_env()\n",
        "  df_account_value_, df_actions_ = DRLAgent.DRL_prediction(model=model_, test_data = trade, test_env = env_trade, test_obs = obs_trade)  \n",
        "  df_account_value[name_] = df_account_value_.set_index('date')\n",
        "  df_actions[name_] = df_actions_.set_index('date')\n"
      ],
      "execution_count": 104,
      "outputs": [
        {
          "output_type": "display_data",
          "data": {
            "application/vnd.jupyter.widget-view+json": {
              "model_id": "18010e4978a642af8a11d1a662f49f5a",
              "version_minor": 0,
              "version_major": 2
            },
            "text/plain": [
              "HBox(children=(FloatProgress(value=0.0, max=5.0), HTML(value='')))"
            ]
          },
          "metadata": {
            "tags": []
          }
        },
        {
          "output_type": "stream",
          "text": [
            "\n"
          ],
          "name": "stdout"
        }
      ]
    },
    {
      "cell_type": "code",
      "metadata": {
        "id": "UMzfH6d7t_Ik"
      },
      "source": [
        "## buy and hold benchmark \n",
        "n_shares = (100000 / trade.loc[0,'close']) \n",
        "df_account_value['buy_and_hold'] = trade.set_index('date')['close'] * n_shares\n",
        "df_actions['buy_and_hold'] = 0\n",
        "df_actions.loc[0, 'buy_and_hold'] = n_shares "
      ],
      "execution_count": 111,
      "outputs": []
    },
    {
      "cell_type": "code",
      "metadata": {
        "colab": {
          "base_uri": "https://localhost:8080/",
          "height": 514
        },
        "id": "bAS4VJhIaYjs",
        "outputId": "152c7860-6a56-4a77-e41b-2fbdddf01d0e"
      },
      "source": [
        "%matplotlib inline\n",
        "df_account_value.plot(figsize=(12,8))"
      ],
      "execution_count": 112,
      "outputs": [
        {
          "output_type": "execute_result",
          "data": {
            "text/plain": [
              "<matplotlib.axes._subplots.AxesSubplot at 0x7fb40fa41ac8>"
            ]
          },
          "metadata": {
            "tags": []
          },
          "execution_count": 112
        },
        {
          "output_type": "display_data",
          "data": {
            "image/png": "[encoded data removed]",
            "text/plain": [
              "<Figure size 864x576 with 1 Axes>"
            ]
          },
          "metadata": {
            "tags": [],
            "needs_background": "light"
          }
        }
      ]
    },
    {
      "cell_type": "markdown",
      "metadata": {
        "id": "qYXxFzD5TnTw"
      },
      "source": [
        "<a id='6'></a>\n",
        "# Part 7: Backtesting Performance\n",
        "Backtesting plays a key role in evaluating the performance of a trading strategy. Automated backtesting tool is preferred because it reduces the human error. We usually use the Quantopian pyfolio package to backtest our trading strategies. It is easy to use and consists of various individual plots that provide a comprehensive image of the performance of a trading strategy."
      ]
    },
    {
      "cell_type": "markdown",
      "metadata": {
        "id": "8GwqOO-v1NVz"
      },
      "source": [
        "<a id='6.1'></a>\n",
        "## 7.1 BackTestStats\n",
        "pass in df_account_value, this information is stored in env class\n"
      ]
    },
    {
      "cell_type": "code",
      "metadata": {
        "colab": {
          "base_uri": "https://localhost:8080/",
          "height": 235
        },
        "id": "z9VHd84cy62z",
        "outputId": "54ac9bec-b510-4c2e-aeda-017033f2c08b"
      },
      "source": [
        "df_daily_return = df_account_value.pct_change(1)\n",
        "df_perf_stats =  pd.DataFrame({'sharpe': (252 ** 0.5) * df_daily_return.mean() / df_daily_return.std(),\n",
        "                               'annual_return': ((df_daily_return.mean() + 1) ** 252 - 1) * 100})\n",
        "df_perf_stats"
      ],
      "execution_count": 113,
      "outputs": [
        {
          "output_type": "execute_result",
          "data": {
            "text/html": [
              "<div>\n",
              "<style scoped>\n",
              "    .dataframe tbody tr th:only-of-type {\n",
              "        vertical-align: middle;\n",
              "    }\n",
              "\n",
              "    .dataframe tbody tr th {\n",
              "        vertical-align: top;\n",
              "    }\n",
              "\n",
              "    .dataframe thead th {\n",
              "        text-align: right;\n",
              "    }\n",
              "</style>\n",
              "<table border=\"1\" class=\"dataframe\">\n",
              "  <thead>\n",
              "    <tr style=\"text-align: right;\">\n",
              "      <th></th>\n",
              "      <th>sharpe</th>\n",
              "      <th>annual_return</th>\n",
              "    </tr>\n",
              "  </thead>\n",
              "  <tbody>\n",
              "    <tr>\n",
              "      <th>a2c</th>\n",
              "      <td>1.283573</td>\n",
              "      <td>51.200699</td>\n",
              "    </tr>\n",
              "    <tr>\n",
              "      <th>ddpg</th>\n",
              "      <td>NaN</td>\n",
              "      <td>0.000000</td>\n",
              "    </tr>\n",
              "    <tr>\n",
              "      <th>ppo</th>\n",
              "      <td>1.328651</td>\n",
              "      <td>55.209908</td>\n",
              "    </tr>\n",
              "    <tr>\n",
              "      <th>td3</th>\n",
              "      <td>1.354950</td>\n",
              "      <td>57.978643</td>\n",
              "    </tr>\n",
              "    <tr>\n",
              "      <th>sac</th>\n",
              "      <td>1.354950</td>\n",
              "      <td>57.978643</td>\n",
              "    </tr>\n",
              "    <tr>\n",
              "      <th>buy_and_hold</th>\n",
              "      <td>1.365217</td>\n",
              "      <td>59.155630</td>\n",
              "    </tr>\n",
              "  </tbody>\n",
              "</table>\n",
              "</div>"
            ],
            "text/plain": [
              "                sharpe  annual_return\n",
              "a2c           1.283573      51.200699\n",
              "ddpg               NaN       0.000000\n",
              "ppo           1.328651      55.209908\n",
              "td3           1.354950      57.978643\n",
              "sac           1.354950      57.978643\n",
              "buy_and_hold  1.365217      59.155630"
            ]
          },
          "metadata": {
            "tags": []
          },
          "execution_count": 113
        }
      ]
    }
  ]
}